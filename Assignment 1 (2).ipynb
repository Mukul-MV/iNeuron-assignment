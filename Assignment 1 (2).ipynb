{
 "cells": [
  {
   "cell_type": "markdown",
   "id": "4b75b3e0",
   "metadata": {},
   "source": [
    "**1. In the below elements which of them are values or an expression? eg:- values can be\n",
    "integer or string and expressions will be mathematical operators.**"
   ]
  },
  {
   "cell_type": "markdown",
   "id": "c92a71f2",
   "metadata": {},
   "source": [
    "* \n",
    "\n",
    "'hello'\n",
    "\n",
    "-87.8\n",
    "\n",
    "- \n",
    "\n",
    "/ \n",
    "\n",
    "+\t\n",
    "\n",
    "6 \n"
   ]
  },
  {
   "cell_type": "markdown",
   "id": "18316583",
   "metadata": {},
   "source": [
    "Ans :- \n",
    "\n",
    "*,-,/,+  are expression\n",
    "\n",
    "'hello',-87.8,6 are values"
   ]
  },
  {
   "cell_type": "markdown",
   "id": "f598a95a",
   "metadata": {},
   "source": [
    "**2. What is the difference between string and variable?**"
   ]
  },
  {
   "cell_type": "markdown",
   "id": "3691bae4",
   "metadata": {},
   "source": [
    "Ans :-\n",
    "    Variable which stores values or information \n",
    "    String is a type of value or information which we store inside a variable.\n",
    "    Example :-\n",
    "        x = 'Mukul'\n",
    "        here x is a variable and 'Mukul' is a string.\n",
    "        So , 'Mukul' value as a string stored inside x variable."
   ]
  },
  {
   "cell_type": "markdown",
   "id": "881b7cf3",
   "metadata": {},
   "source": [
    "**3. Describe three different data types**"
   ]
  },
  {
   "cell_type": "markdown",
   "id": "666f8c96",
   "metadata": {},
   "source": [
    "Ans :-\n",
    "\n",
    "    1) Numeric type :- int (.....,-2,-1,0,1,2,3,4....) its contain positive and negative integer without fraction or decimal\n",
    "    \n",
    "                       float(1.1,2.3,5.56,8.02,.....) its contain real number with decimal point either positive or negative \n",
    "                       \n",
    "                       complex (1+2j ,5+6j,.......)  its contain complex number real part + imaginary part\n",
    "                       \n",
    "    2) Sequence type :- str means String, collection of charachter under single,double and triple intervted commas.\n",
    "                        Ex - 'Mukul' , 'Vyas'\n",
    "                        \n",
    "                        list is collection of any type of data inside two square brackets.lists are mutable \n",
    "                        Ex - [1,2,'Mukul',-87.5]\n",
    "                        \n",
    "                        tuple is collection of any type of data inside two round brackets.tuples are immutable.\n",
    "                        Ex - (1,2,'Mukul',-87.5)\n",
    "                        \n",
    "    3) Boolean Type :-  bulit in data type by python.i.e.True(1) & False(0).Its used to represent the truth value of expression"
   ]
  },
  {
   "cell_type": "markdown",
   "id": "75ddf982",
   "metadata": {},
   "source": [
    "**4. What is an expression made up of? What do all expressions do?**"
   ]
  },
  {
   "cell_type": "markdown",
   "id": "d6450bb2",
   "metadata": {},
   "source": [
    "Ans :- \n",
    "        \n",
    "        result =  a+b*c\n",
    "    \n",
    "    (Variable to store expression value) result =   a           +           b           *          c\n",
    "                                                (operand 1)(operator 1)(operand 1)(operator 1)(operand 1)\n",
    "    \n",
    "    Expression is made up of operand(variables) and operators. Expression calculates some other values from given variables and operators."
   ]
  },
  {
   "cell_type": "markdown",
   "id": "14d3800d",
   "metadata": {},
   "source": [
    "**5. This assignment statements, like spam = 10. What is the difference between an\n",
    "expression and a statement?**"
   ]
  },
  {
   "cell_type": "markdown",
   "id": "2852bbb3",
   "metadata": {},
   "source": [
    "Ans :-\n",
    "\n",
    "    An Expression is a sequence or combination of values, variables, operators and function calls that always produces or returns a result value.\n",
    "    Evaluation of an expression always Produces or returns a result value.\n",
    "    \n",
    "    Ex :-  x+5 , y*2+(z**2) , a + c*sum(list) + 11\n",
    "    \n",
    "    Any Instruction or command that a python interpreter can execute (carry out) is called a Statement.\n",
    "    each and every line in python code can be considered as a statement because all steps are set of instructions.\n",
    "    Execution of a statement may or may not produce or display a result value. It only does whatever the statement says.\n",
    "    \n",
    "    Ex :- spam = 10 ,y = x+5 , z = y*2+(z**2) , print(y) , def Square(x)(statement): return x**2 (statement)"
   ]
  },
  {
   "cell_type": "markdown",
   "id": "01b4aac6",
   "metadata": {},
   "source": [
    "**6. After running the following code, what does the variable bacon contain?**"
   ]
  },
  {
   "cell_type": "markdown",
   "id": "80d88f69",
   "metadata": {},
   "source": [
    "bacon = 22\n",
    "bacon + 1"
   ]
  },
  {
   "cell_type": "markdown",
   "id": "409c2daf",
   "metadata": {},
   "source": [
    "Ans :- bacon contain 22."
   ]
  },
  {
   "cell_type": "markdown",
   "id": "f82eec23",
   "metadata": {},
   "source": [
    "**7. What should the values of the following two terms be?**"
   ]
  },
  {
   "cell_type": "markdown",
   "id": "4ac290ea",
   "metadata": {},
   "source": [
    "'spam' + 'spamspam'\n",
    "'spam' * 3"
   ]
  },
  {
   "cell_type": "markdown",
   "id": "b37663e9",
   "metadata": {},
   "source": [
    "Ans :- 'spam' + 'spamspam' = 'spamspamspam'\n",
    "        'spam' * 3 = 'spamspamspam'"
   ]
  },
  {
   "cell_type": "markdown",
   "id": "318ab405",
   "metadata": {},
   "source": [
    "**8. Why is eggs a valid variable name while 100 is invalid?**"
   ]
  },
  {
   "cell_type": "markdown",
   "id": "ab5db4d4",
   "metadata": {},
   "source": [
    "Ans :-\n",
    "    We can not specify the identifier which starts with a number because there are seven phases of compiler as follows.\n",
    "Lexical Analysis\n",
    "Syntax Analysis\n",
    "Semantic Analysis\n",
    "Intermediate Code Generation\n",
    "Code Optimization\n",
    "Code Generation\n",
    "Symbol Table\n",
    "\n",
    "None of above supports that a variable starts with a number. \n",
    "\n",
    "In the Lexical analysis phase, the compiler starts tracking from left to right.\n",
    "The compiler should be able to identify a token as an identifier or a literal after looking at the first character.\n",
    "So, when the variable name is 100 then 100 is literal. Literal values are constant, we can't assign values to a constant value. Like 100 = 50 , so 100 value will not become 50. 100 value should be 100 only.\n",
    "Whereas if the variable is 'eggs' then it is considered a character and the compiler will know it is an identifier.\n",
    "Therefore, 'eggs' is a valid variable where '100' is not."
   ]
  },
  {
   "cell_type": "markdown",
   "id": "a7a4cd2b",
   "metadata": {},
   "source": [
    "**9. What three functions can be used to get the integer, floating-point number, or string\n",
    "version of a value?**"
   ]
  },
  {
   "cell_type": "markdown",
   "id": "bd526c58",
   "metadata": {},
   "source": [
    "Ans :-\n",
    "    integer = int()\n",
    "    floating point = float()\n",
    "    string = str()"
   ]
  },
  {
   "cell_type": "markdown",
   "id": "98299f68",
   "metadata": {},
   "source": [
    "**10. Why does this expression cause an error? How can you fix it?**"
   ]
  },
  {
   "cell_type": "markdown",
   "id": "1b67e775",
   "metadata": {},
   "source": [
    "'I have eaten ' + 99 + ' burritos.'"
   ]
  },
  {
   "cell_type": "markdown",
   "id": "bd17ff62",
   "metadata": {},
   "source": [
    "Ans :-  \n",
    "    Because we can not add two diffrent data type together.\n",
    "    here 'I have eaten' and 'burritos' data type is 'str' and 99 is 'int'.So str and int we can not add it.\n",
    "    Still, if we want to add then we need to do type casting to the number 99. like str(99), So 99 data type will become str and then we can add it.\n",
    "    "
   ]
  }
 ],
 "metadata": {
  "kernelspec": {
   "display_name": "Python 3 (ipykernel)",
   "language": "python",
   "name": "python3"
  },
  "language_info": {
   "codemirror_mode": {
    "name": "ipython",
    "version": 3
   },
   "file_extension": ".py",
   "mimetype": "text/x-python",
   "name": "python",
   "nbconvert_exporter": "python",
   "pygments_lexer": "ipython3",
   "version": "3.9.7"
  }
 },
 "nbformat": 4,
 "nbformat_minor": 5
}
