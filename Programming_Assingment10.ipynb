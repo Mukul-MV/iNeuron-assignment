{
 "cells": [
  {
   "cell_type": "code",
   "execution_count": 57,
   "id": "f9fe86f8-41b3-4625-a23c-25b9bc7e93a6",
   "metadata": {},
   "outputs": [],
   "source": [
    "l = [9,2,42,69,0,-1,-66,13169]"
   ]
  },
  {
   "cell_type": "code",
   "execution_count": null,
   "id": "1fd7b6de-ed4e-469f-9406-1fc5be54a76f",
   "metadata": {},
   "outputs": [],
   "source": [
    "1.\tWrite a Python program to find sum of elements in list?"
   ]
  },
  {
   "cell_type": "code",
   "execution_count": 3,
   "id": "a1ec106d-4573-4fad-9e17-76aff212290b",
   "metadata": {},
   "outputs": [],
   "source": [
    "def sum_of_list(lst):\n",
    "    return sum(lst)\n",
    "\n"
   ]
  },
  {
   "cell_type": "code",
   "execution_count": 58,
   "id": "525edc45-1b57-40a0-92d0-9ae81666cc6d",
   "metadata": {},
   "outputs": [
    {
     "data": {
      "text/plain": [
       "13224"
      ]
     },
     "execution_count": 58,
     "metadata": {},
     "output_type": "execute_result"
    }
   ],
   "source": [
    "sum_of_list(l)"
   ]
  },
  {
   "cell_type": "code",
   "execution_count": null,
   "id": "8018063c-df3a-4819-942d-ea7608f6b041",
   "metadata": {},
   "outputs": [],
   "source": [
    "2.\tWrite a Python program to  Multiply all numbers in the list?"
   ]
  },
  {
   "cell_type": "code",
   "execution_count": 59,
   "id": "dc534e93-33e4-4c26-8c07-70b50bc240e4",
   "metadata": {},
   "outputs": [],
   "source": [
    "def mult_of_list(lst):\n",
    "    mul = 1\n",
    "    for i in lst:\n",
    "        mul *= i\n",
    "    return mul"
   ]
  },
  {
   "cell_type": "code",
   "execution_count": 60,
   "id": "cf000579-356f-47e5-bfc6-442d02892825",
   "metadata": {},
   "outputs": [
    {
     "data": {
      "text/plain": [
       "0"
      ]
     },
     "execution_count": 60,
     "metadata": {},
     "output_type": "execute_result"
    }
   ],
   "source": [
    "mult_of_list(l)"
   ]
  },
  {
   "cell_type": "code",
   "execution_count": null,
   "id": "bb025f0b-11d8-4219-9a09-eead73fa2512",
   "metadata": {},
   "outputs": [],
   "source": [
    "3.\tWrite a Python program to find smallest number in a list?"
   ]
  },
  {
   "cell_type": "code",
   "execution_count": 61,
   "id": "91223c40-e102-4d8c-b3d2-8bedacb91ed3",
   "metadata": {},
   "outputs": [],
   "source": [
    "def smallest(lst):\n",
    "    sml = lst[0]\n",
    "    for i in lst:\n",
    "        if i<sml:\n",
    "            sml = i\n",
    "    return sml"
   ]
  },
  {
   "cell_type": "code",
   "execution_count": 62,
   "id": "1b39dd28-3bd0-4f95-8b27-89eb27ea32a1",
   "metadata": {},
   "outputs": [
    {
     "data": {
      "text/plain": [
       "-66"
      ]
     },
     "execution_count": 62,
     "metadata": {},
     "output_type": "execute_result"
    }
   ],
   "source": [
    "smallest(l)"
   ]
  },
  {
   "cell_type": "code",
   "execution_count": null,
   "id": "d2412f67-ac7f-4711-a52b-f4643c35e148",
   "metadata": {},
   "outputs": [],
   "source": [
    "4.\tWrite a Python program to find largest number in a list?"
   ]
  },
  {
   "cell_type": "code",
   "execution_count": 63,
   "id": "76dea26a-f3c4-40c0-95c0-ec53480be53c",
   "metadata": {},
   "outputs": [],
   "source": [
    "def largest(lst):\n",
    "    lrg = lst[0]\n",
    "    for i in lst:\n",
    "        if i>lrg:\n",
    "            lrg = i\n",
    "    return lrg"
   ]
  },
  {
   "cell_type": "code",
   "execution_count": 64,
   "id": "87579d73-fe07-400b-874c-69e90fc2a246",
   "metadata": {},
   "outputs": [
    {
     "data": {
      "text/plain": [
       "13169"
      ]
     },
     "execution_count": 64,
     "metadata": {},
     "output_type": "execute_result"
    }
   ],
   "source": [
    "largest(l)"
   ]
  },
  {
   "cell_type": "code",
   "execution_count": null,
   "id": "35701d5d-c094-4710-81c4-f5ff1e723825",
   "metadata": {},
   "outputs": [],
   "source": [
    "5.\tWrite a Python program to find second largest number in a list?"
   ]
  },
  {
   "cell_type": "code",
   "execution_count": 65,
   "id": "857135d6-bc47-4e77-b39e-104e33bc3c76",
   "metadata": {},
   "outputs": [],
   "source": [
    "def largest_2nd(lst):\n",
    "    lrg = 0\n",
    "    \n",
    "    for i in lst:\n",
    "        if i>lrg:\n",
    "            lgr_2nd = lrg\n",
    "            lrg = i\n",
    "        elif i > lgr_2nd and i != lrg:\n",
    "                lgr_2nd = i\n",
    "    return lgr_2nd"
   ]
  },
  {
   "cell_type": "code",
   "execution_count": 66,
   "id": "078cbefa-2eb6-4e8a-9085-d31afe53e2da",
   "metadata": {},
   "outputs": [
    {
     "data": {
      "text/plain": [
       "69"
      ]
     },
     "execution_count": 66,
     "metadata": {},
     "output_type": "execute_result"
    }
   ],
   "source": [
    "largest_2nd(l)"
   ]
  },
  {
   "cell_type": "code",
   "execution_count": null,
   "id": "2e7e0bd7-eeae-45c7-ac3a-edf1f5ab6380",
   "metadata": {},
   "outputs": [],
   "source": [
    "6.\tWrite a Python program to find N largest elements from a list?"
   ]
  },
  {
   "cell_type": "code",
   "execution_count": 67,
   "id": "350c9858-adc4-4c38-8d39-9a4c3d04a36e",
   "metadata": {},
   "outputs": [],
   "source": [
    "def N_largest(lst,N):\n",
    "    lst.sort(reverse=True)\n",
    "    return lst[N-1]"
   ]
  },
  {
   "cell_type": "code",
   "execution_count": 68,
   "id": "e0610f66-3ba1-4b6d-8c8d-7b6f008b6451",
   "metadata": {},
   "outputs": [
    {
     "data": {
      "text/plain": [
       "42"
      ]
     },
     "execution_count": 68,
     "metadata": {},
     "output_type": "execute_result"
    }
   ],
   "source": [
    "N_largest(l,3)"
   ]
  },
  {
   "cell_type": "code",
   "execution_count": null,
   "id": "b6323f76-2c8b-40a2-818d-871a0cad7459",
   "metadata": {},
   "outputs": [],
   "source": [
    "7.\tWrite a Python program to print even numbers in a list?"
   ]
  },
  {
   "cell_type": "code",
   "execution_count": 69,
   "id": "5729683b-5768-41c6-8429-e973f650380d",
   "metadata": {},
   "outputs": [],
   "source": [
    "def prnt_even(lst):\n",
    "    for i in lst:\n",
    "        if i%2==0:\n",
    "            print(i)"
   ]
  },
  {
   "cell_type": "code",
   "execution_count": 70,
   "id": "767a6b97-c941-4bd7-a38d-749c818f9f2b",
   "metadata": {},
   "outputs": [
    {
     "name": "stdout",
     "output_type": "stream",
     "text": [
      "42\n",
      "2\n",
      "0\n",
      "-66\n"
     ]
    }
   ],
   "source": [
    "prnt_even(l)"
   ]
  },
  {
   "cell_type": "code",
   "execution_count": 71,
   "id": "f9a3b968-cd29-4366-88ca-a5e33656c591",
   "metadata": {},
   "outputs": [
    {
     "name": "stdout",
     "output_type": "stream",
     "text": [
      "Object `List` not found.\n"
     ]
    }
   ],
   "source": [
    "8.\tWrite a Python program to print odd numbers in a List?"
   ]
  },
  {
   "cell_type": "code",
   "execution_count": 28,
   "id": "7ae26982-d545-43fa-84e2-ce124c00bb4f",
   "metadata": {},
   "outputs": [],
   "source": [
    "def prnt_odd(lst):\n",
    "    for i in lst:\n",
    "        if i%2!=0:\n",
    "            print(i)"
   ]
  },
  {
   "cell_type": "code",
   "execution_count": 29,
   "id": "a66bbe51-18e1-4b20-8c2d-80a6b7ccf6b1",
   "metadata": {},
   "outputs": [
    {
     "name": "stdout",
     "output_type": "stream",
     "text": [
      "5\n",
      "1\n"
     ]
    }
   ],
   "source": [
    "prnt_odd(l)"
   ]
  },
  {
   "cell_type": "code",
   "execution_count": null,
   "id": "8307dd7d-39a9-46fb-9e37-ab04eb2ef8d7",
   "metadata": {},
   "outputs": [],
   "source": [
    "9.\tWrite a Python program to Remove empty List from List?"
   ]
  },
  {
   "cell_type": "code",
   "execution_count": 31,
   "id": "10ef0efb-baed-487a-8833-b9c11cadd81a",
   "metadata": {},
   "outputs": [],
   "source": [
    "def Rmov_empty_lst(lst):\n",
    "    for i in lst:\n",
    "        if len(i)==0:\n",
    "            lst.remove(i)\n",
    "    return lst"
   ]
  },
  {
   "cell_type": "code",
   "execution_count": 32,
   "id": "9369cdc4-a4dd-40f9-9365-20bee2ca3675",
   "metadata": {},
   "outputs": [
    {
     "data": {
      "text/plain": [
       "[[1, 2, 3], [5, 6], [55, 56, 85]]"
      ]
     },
     "execution_count": 32,
     "metadata": {},
     "output_type": "execute_result"
    }
   ],
   "source": [
    "l1 = [[1,2,3],[5,6],[],[55,56,85],[]]\n",
    "Rmov_empty_lst(l1)"
   ]
  },
  {
   "cell_type": "code",
   "execution_count": null,
   "id": "fe5b72a5-072a-4ca9-9d84-1a7cc5a392ec",
   "metadata": {},
   "outputs": [],
   "source": [
    "10.\tWrite a Python program to Cloning or Copying a list?"
   ]
  },
  {
   "cell_type": "code",
   "execution_count": 38,
   "id": "a3ac82d1-1119-4698-8eb0-d81bda24d592",
   "metadata": {},
   "outputs": [],
   "source": [
    "def lst_cloning(lst):\n",
    "    return lst.copy()"
   ]
  },
  {
   "cell_type": "code",
   "execution_count": 39,
   "id": "6f2921e2-bca6-499d-a9f0-04ca7bc4a0c1",
   "metadata": {},
   "outputs": [
    {
     "data": {
      "text/plain": [
       "[6, 5, 2, 1]"
      ]
     },
     "execution_count": 39,
     "metadata": {},
     "output_type": "execute_result"
    }
   ],
   "source": [
    "lst_cloning(l)"
   ]
  },
  {
   "cell_type": "code",
   "execution_count": null,
   "id": "63dff460-c213-4ea4-a1dc-5d97de12a7b1",
   "metadata": {},
   "outputs": [],
   "source": [
    "11.\tWrite a Python program to Count occurrences of an element in a list?"
   ]
  },
  {
   "cell_type": "code",
   "execution_count": 40,
   "id": "b9524625-0e5d-4be3-8c41-c9a9b8726445",
   "metadata": {},
   "outputs": [],
   "source": [
    "def count_element(lst,e):\n",
    "    return lst.count(e)"
   ]
  },
  {
   "cell_type": "code",
   "execution_count": 41,
   "id": "9f79cbda-2f00-4483-bd09-399cd2830465",
   "metadata": {},
   "outputs": [
    {
     "data": {
      "text/plain": [
       "1"
      ]
     },
     "execution_count": 41,
     "metadata": {},
     "output_type": "execute_result"
    }
   ],
   "source": [
    "count_element(l,6)"
   ]
  },
  {
   "cell_type": "code",
   "execution_count": null,
   "id": "3f19ab10-57f4-4a5b-a132-82f11659cf13",
   "metadata": {},
   "outputs": [],
   "source": []
  }
 ],
 "metadata": {
  "kernelspec": {
   "display_name": "Python 3 (ipykernel)",
   "language": "python",
   "name": "python3"
  },
  "language_info": {
   "codemirror_mode": {
    "name": "ipython",
    "version": 3
   },
   "file_extension": ".py",
   "mimetype": "text/x-python",
   "name": "python",
   "nbconvert_exporter": "python",
   "pygments_lexer": "ipython3",
   "version": "3.10.6"
  }
 },
 "nbformat": 4,
 "nbformat_minor": 5
}
