{
 "cells": [
  {
   "cell_type": "markdown",
   "id": "24f187ba",
   "metadata": {},
   "source": [
    "1. Write a Python program to convert kilometers to miles?\n",
    "2. Write a Python program to convert Celsius to Fahrenheit?\n",
    "3. Write a Python program to display calendar?\n",
    "4. Write a Python program to solve quadratic equation?\n",
    "5. Write a Python program to swap two variables without temp variable?"
   ]
  },
  {
   "cell_type": "markdown",
   "id": "e0cfbfe8",
   "metadata": {},
   "source": [
    "**1. Write a Python program to convert kilometers to miles?**"
   ]
  },
  {
   "cell_type": "code",
   "execution_count": 2,
   "id": "f38c3d33",
   "metadata": {},
   "outputs": [
    {
     "name": "stdout",
     "output_type": "stream",
     "text": [
      "Enter Km value \n",
      "2\n",
      "2 km is equal to 1.242742 miles\n"
     ]
    }
   ],
   "source": [
    "kilometer = int(input(\"Enter Km value \\n\"))\n",
    "\n",
    "conversion_constant = 0.621371 # 1km = 0.621371 miles\n",
    "\n",
    "miles = conversion_constant*kilometer\n",
    "\n",
    "print(f\"{kilometer} km is equal to {miles} miles\")"
   ]
  },
  {
   "cell_type": "markdown",
   "id": "f03b7b93",
   "metadata": {},
   "source": [
    "**2. Write a Python program to convert Celsius to Fahrenheit?**      \n",
    "**formula F = ((9/5)xC)+32**"
   ]
  },
  {
   "cell_type": "code",
   "execution_count": 6,
   "id": "8976e27f",
   "metadata": {},
   "outputs": [
    {
     "name": "stdout",
     "output_type": "stream",
     "text": [
      "Enter Celsius value \n",
      "27\n",
      "\n",
      "\n",
      "27 Celsius is equal to 80.6 Fahrenheit\n"
     ]
    }
   ],
   "source": [
    "Celsius = int(input(\"Enter Celsius value \\n\"))\n",
    "\n",
    "Fahrenheit = ((9/5)*Celsius)+32\n",
    "\n",
    "print(f\"\\n\\n{Celsius} Celsius is equal to {Fahrenheit} Fahrenheit\")"
   ]
  },
  {
   "cell_type": "markdown",
   "id": "811b730a",
   "metadata": {},
   "source": [
    "**3. Write a Python program to display calendar?**"
   ]
  },
  {
   "cell_type": "code",
   "execution_count": 30,
   "id": "535ff5ba",
   "metadata": {},
   "outputs": [
    {
     "name": "stdout",
     "output_type": "stream",
     "text": [
      "Enter which year calendar you want?2022\n",
      "\n",
      "\n",
      "                                   2022\n",
      "\n",
      "      January                   February                   March\n",
      "Mo Tu We Th Fr Sa Su      Mo Tu We Th Fr Sa Su      Mo Tu We Th Fr Sa Su\n",
      "                1  2          1  2  3  4  5  6          1  2  3  4  5  6\n",
      " 3  4  5  6  7  8  9       7  8  9 10 11 12 13       7  8  9 10 11 12 13\n",
      "10 11 12 13 14 15 16      14 15 16 17 18 19 20      14 15 16 17 18 19 20\n",
      "17 18 19 20 21 22 23      21 22 23 24 25 26 27      21 22 23 24 25 26 27\n",
      "24 25 26 27 28 29 30      28                        28 29 30 31\n",
      "31\n",
      "\n",
      "       April                      May                       June\n",
      "Mo Tu We Th Fr Sa Su      Mo Tu We Th Fr Sa Su      Mo Tu We Th Fr Sa Su\n",
      "             1  2  3                         1             1  2  3  4  5\n",
      " 4  5  6  7  8  9 10       2  3  4  5  6  7  8       6  7  8  9 10 11 12\n",
      "11 12 13 14 15 16 17       9 10 11 12 13 14 15      13 14 15 16 17 18 19\n",
      "18 19 20 21 22 23 24      16 17 18 19 20 21 22      20 21 22 23 24 25 26\n",
      "25 26 27 28 29 30         23 24 25 26 27 28 29      27 28 29 30\n",
      "                          30 31\n",
      "\n",
      "        July                     August                  September\n",
      "Mo Tu We Th Fr Sa Su      Mo Tu We Th Fr Sa Su      Mo Tu We Th Fr Sa Su\n",
      "             1  2  3       1  2  3  4  5  6  7                1  2  3  4\n",
      " 4  5  6  7  8  9 10       8  9 10 11 12 13 14       5  6  7  8  9 10 11\n",
      "11 12 13 14 15 16 17      15 16 17 18 19 20 21      12 13 14 15 16 17 18\n",
      "18 19 20 21 22 23 24      22 23 24 25 26 27 28      19 20 21 22 23 24 25\n",
      "25 26 27 28 29 30 31      29 30 31                  26 27 28 29 30\n",
      "\n",
      "      October                   November                  December\n",
      "Mo Tu We Th Fr Sa Su      Mo Tu We Th Fr Sa Su      Mo Tu We Th Fr Sa Su\n",
      "                1  2          1  2  3  4  5  6                1  2  3  4\n",
      " 3  4  5  6  7  8  9       7  8  9 10 11 12 13       5  6  7  8  9 10 11\n",
      "10 11 12 13 14 15 16      14 15 16 17 18 19 20      12 13 14 15 16 17 18\n",
      "17 18 19 20 21 22 23      21 22 23 24 25 26 27      19 20 21 22 23 24 25\n",
      "24 25 26 27 28 29 30      28 29 30                  26 27 28 29 30 31\n",
      "31\n",
      "\n"
     ]
    }
   ],
   "source": [
    "import calendar\n",
    "\n",
    "year = int(input(\"Enter which year calendar you want?\"))\n",
    "\n",
    "print(\"\\n\\n\",calendar.calendar(year))"
   ]
  },
  {
   "cell_type": "markdown",
   "id": "8fdc7200",
   "metadata": {},
   "source": [
    "**4. Write a Python program to solve quadratic equation?**"
   ]
  },
  {
   "cell_type": "code",
   "execution_count": 52,
   "id": "1547d17b",
   "metadata": {},
   "outputs": [
    {
     "name": "stdout",
     "output_type": "stream",
     "text": [
      "Standard form of Quadratic Equation :- \n",
      "\n",
      "  a*X**2 + b*X + C = 0 \n",
      "\n",
      "\n",
      "please Enter a b and c values = \n",
      "1 2 3\n",
      "\n",
      " root1 = (-1-1.41j)\n",
      " root2 = (-1+1.41j)\n"
     ]
    }
   ],
   "source": [
    "print(\"Standard form of Quadratic Equation :- \\n\\n  a*X**2 + b*X + C = 0 \\n\\n\")\n",
    "a,b,c = map(int,input(\"please Enter a b and c values = \\n\").split())\n",
    "\n",
    "root1 = (-b - (b**2 - 4*a*c)**(0.5))/(2*a)\n",
    "root2 = (-b + (b**2 - 4*a*c)**(0.5))/(2*a)\n",
    "\n",
    "print(f\"\\n root1 = {complex(round(root1.real,2),round(root1.imag,2))}\\n root2 = {complex(round(root2.real,2),round(root2.imag,2))}\")"
   ]
  },
  {
   "cell_type": "markdown",
   "id": "0198434e",
   "metadata": {},
   "source": [
    "**5. Write a Python program to swap two variables without temp variable?**"
   ]
  },
  {
   "cell_type": "code",
   "execution_count": 54,
   "id": "d9fce6b4",
   "metadata": {},
   "outputs": [
    {
     "name": "stdout",
     "output_type": "stream",
     "text": [
      "a =  8\n",
      "b =  5\n"
     ]
    }
   ],
   "source": [
    "a = 5 \n",
    "b = 8 \n",
    "\n",
    "a,b = b,a\n",
    "\n",
    "print(\"a = \",a)\n",
    "print(\"b = \",b)"
   ]
  },
  {
   "cell_type": "markdown",
   "id": "2a8f76d9",
   "metadata": {},
   "source": [
    "**or**"
   ]
  },
  {
   "cell_type": "code",
   "execution_count": 56,
   "id": "c5ed5c67",
   "metadata": {},
   "outputs": [
    {
     "name": "stdout",
     "output_type": "stream",
     "text": [
      "a =  8\n",
      "b =  5\n"
     ]
    }
   ],
   "source": [
    "a = 5 \n",
    "b = 8\n",
    "\n",
    "a = a+b\n",
    "b = a-b\n",
    "a = a-b\n",
    "\n",
    "print(\"a = \",a)\n",
    "print(\"b = \",b)"
   ]
  }
 ],
 "metadata": {
  "kernelspec": {
   "display_name": "Python 3 (ipykernel)",
   "language": "python",
   "name": "python3"
  },
  "language_info": {
   "codemirror_mode": {
    "name": "ipython",
    "version": 3
   },
   "file_extension": ".py",
   "mimetype": "text/x-python",
   "name": "python",
   "nbconvert_exporter": "python",
   "pygments_lexer": "ipython3",
   "version": "3.9.7"
  }
 },
 "nbformat": 4,
 "nbformat_minor": 5
}
