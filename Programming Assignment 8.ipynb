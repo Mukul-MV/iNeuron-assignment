{
 "cells": [
  {
   "cell_type": "code",
   "execution_count": 1,
   "id": "ec30498c",
   "metadata": {},
   "outputs": [],
   "source": [
    "a = [[1,2,3],\n",
    "     [2,3,5],\n",
    "     [4,5,9]]\n",
    "b = [[1,2],\n",
    "     [2,3],\n",
    "     [4,5]]\n",
    "c = [[1,2,3],\n",
    "     [2,3,5]]\n",
    "d = [[1,21,3],\n",
    "     [2,31,5],\n",
    "     [8,7,9]]\n",
    "\n",
    "z = [\"count\",\"camera\",\"apple\", \"cream\",\"boy\", \"Dog\" ,\"Mukul\",\"vyas\",\"order\",\"Ineurone\"]\n",
    "\n",
    "s = '''adsf!\"fg\"#$gfhdgf%&\\n'h()*g+fd,jh-g./:gfdggff;<=>?sddddvtjj@y[\\\\]^dfgfdh_`{|}~df'''"
   ]
  },
  {
   "cell_type": "markdown",
   "id": "98a49515",
   "metadata": {},
   "source": [
    "1. Write a Python Program to Add Two Matrices?"
   ]
  },
  {
   "cell_type": "code",
   "execution_count": 2,
   "id": "3ca53783",
   "metadata": {},
   "outputs": [],
   "source": [
    "def add_matrix(x,y):\n",
    "    inner = []\n",
    "    outer = []\n",
    "    if (len(x) == len(y)) and (len(x[0])==len(y[0])):\n",
    "        for i,j in zip(x,y):\n",
    "            for l,k in zip(i,j):\n",
    "                inner.append(l+k)\n",
    "            outer.append(inner.copy())\n",
    "            inner.clear()\n",
    "        return outer\n",
    "    else:\n",
    "        return \"Not equal size matrix\"              \n",
    "    "
   ]
  },
  {
   "cell_type": "code",
   "execution_count": 3,
   "id": "27479968",
   "metadata": {},
   "outputs": [
    {
     "name": "stdout",
     "output_type": "stream",
     "text": [
      "[[2, 23, 6], [4, 34, 10], [12, 12, 18]]\n"
     ]
    }
   ],
   "source": [
    "print(add_matrix(a,d))"
   ]
  },
  {
   "cell_type": "code",
   "execution_count": 4,
   "id": "a68b35d7",
   "metadata": {},
   "outputs": [
    {
     "name": "stdout",
     "output_type": "stream",
     "text": [
      "Not equal size matrix\n"
     ]
    }
   ],
   "source": [
    "print(add_matrix(a,c))"
   ]
  },
  {
   "cell_type": "markdown",
   "id": "6092f550",
   "metadata": {},
   "source": [
    "2. Write a Python Program to Multiply Two Matrices?"
   ]
  },
  {
   "cell_type": "code",
   "execution_count": 5,
   "id": "4e205c7c",
   "metadata": {},
   "outputs": [],
   "source": [
    "def multiply_matrix(x,y):\n",
    "    \n",
    "    if (len(x[0]) == len(y)):\n",
    "        result = [[sum(i * j for i, j in zip(a_row, b_col))for b_col in zip(*b)]for a_row in a]\n",
    "        return result\n",
    "    else:\n",
    "        print(\"Matrix multiplication condition not satisfied\")\n",
    "                \n",
    "    "
   ]
  },
  {
   "cell_type": "code",
   "execution_count": 6,
   "id": "e1a09caf",
   "metadata": {},
   "outputs": [
    {
     "data": {
      "text/plain": [
       "[[17, 23], [28, 38], [50, 68]]"
      ]
     },
     "execution_count": 6,
     "metadata": {},
     "output_type": "execute_result"
    }
   ],
   "source": [
    "multiply_matrix(a,b)"
   ]
  },
  {
   "cell_type": "code",
   "execution_count": 7,
   "id": "0502354b",
   "metadata": {},
   "outputs": [
    {
     "name": "stdout",
     "output_type": "stream",
     "text": [
      "Matrix multiplication condition not satisfied\n"
     ]
    }
   ],
   "source": [
    "multiply_matrix(a,c)"
   ]
  },
  {
   "cell_type": "markdown",
   "id": "5c5f105a",
   "metadata": {},
   "source": [
    "3. Write a Python Program to Transpose a Matrix?"
   ]
  },
  {
   "cell_type": "code",
   "execution_count": 8,
   "id": "1228bcc8",
   "metadata": {},
   "outputs": [],
   "source": [
    "def transpose_matrix(x):\n",
    "    return list(zip(*x))"
   ]
  },
  {
   "cell_type": "code",
   "execution_count": 9,
   "id": "6eab460b",
   "metadata": {},
   "outputs": [
    {
     "data": {
      "text/plain": [
       "[(1, 2, 4), (2, 3, 5), (3, 5, 9)]"
      ]
     },
     "execution_count": 9,
     "metadata": {},
     "output_type": "execute_result"
    }
   ],
   "source": [
    "transpose_matrix(a)"
   ]
  },
  {
   "cell_type": "markdown",
   "id": "12b97c3e",
   "metadata": {},
   "source": [
    "4. Write a Python Program to Sort Words in Alphabetic Order?"
   ]
  },
  {
   "cell_type": "code",
   "execution_count": 10,
   "id": "ffa7bab1",
   "metadata": {},
   "outputs": [],
   "source": [
    "def sort_aplha(x):\n",
    "    return sorted(x,key=lambda x:x.lower())"
   ]
  },
  {
   "cell_type": "code",
   "execution_count": 11,
   "id": "4cd8f7f9",
   "metadata": {},
   "outputs": [
    {
     "data": {
      "text/plain": [
       "['apple',\n",
       " 'boy',\n",
       " 'camera',\n",
       " 'count',\n",
       " 'cream',\n",
       " 'Dog',\n",
       " 'Ineurone',\n",
       " 'Mukul',\n",
       " 'order',\n",
       " 'vyas']"
      ]
     },
     "execution_count": 11,
     "metadata": {},
     "output_type": "execute_result"
    }
   ],
   "source": [
    "sort_aplha(z)"
   ]
  },
  {
   "cell_type": "markdown",
   "id": "c58cd98f",
   "metadata": {},
   "source": [
    "5. Write a Python Program to Remove Punctuation From a String?"
   ]
  },
  {
   "cell_type": "code",
   "execution_count": 12,
   "id": "d2f28191",
   "metadata": {},
   "outputs": [],
   "source": [
    "def remove_punctuation(s1):\n",
    "    import string\n",
    "    \n",
    "    p = string.punctuation\n",
    "    \n",
    "    for i in p:\n",
    "        s1 = s1.replace(i,\"\")\n",
    "    return s1"
   ]
  },
  {
   "cell_type": "code",
   "execution_count": 13,
   "id": "871c2c8d",
   "metadata": {},
   "outputs": [
    {
     "data": {
      "text/plain": [
       "'adsffggfhdgf\\nhgfdjhggfdggffsddddvtjjydfgfdhdf'"
      ]
     },
     "execution_count": 13,
     "metadata": {},
     "output_type": "execute_result"
    }
   ],
   "source": [
    "remove_punctuation(s)"
   ]
  },
  {
   "cell_type": "code",
   "execution_count": null,
   "id": "d63cda69",
   "metadata": {},
   "outputs": [],
   "source": []
  }
 ],
 "metadata": {
  "kernelspec": {
   "display_name": "Python 3 (ipykernel)",
   "language": "python",
   "name": "python3"
  },
  "language_info": {
   "codemirror_mode": {
    "name": "ipython",
    "version": 3
   },
   "file_extension": ".py",
   "mimetype": "text/x-python",
   "name": "python",
   "nbconvert_exporter": "python",
   "pygments_lexer": "ipython3",
   "version": "3.9.7"
  }
 },
 "nbformat": 4,
 "nbformat_minor": 5
}
