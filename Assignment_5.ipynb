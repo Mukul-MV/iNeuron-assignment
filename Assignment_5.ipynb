{
 "cells": [
  {
   "cell_type": "markdown",
   "id": "314b8a85-bf6b-474a-b956-dd628d719b16",
   "metadata": {},
   "source": [
    "1. What does an empty dictionary's code look like?"
   ]
  },
  {
   "cell_type": "code",
   "execution_count": 1,
   "id": "f6c2c8d7-a784-4c00-aa7c-6ed02fdd08ae",
   "metadata": {},
   "outputs": [],
   "source": [
    "dict  = { }"
   ]
  },
  {
   "cell_type": "markdown",
   "id": "c29ee377-16ac-4aac-9090-6aa037b8c4b1",
   "metadata": {},
   "source": [
    "2. What is the value of a dictionary value with the key 'foo' and the value 42?"
   ]
  },
  {
   "cell_type": "code",
   "execution_count": null,
   "id": "362ff34b-79f2-4955-9df0-9cfe7c3fae15",
   "metadata": {},
   "outputs": [],
   "source": [
    "The value of a dictionary with the key 'foo' and the value 42 would be 42"
   ]
  },
  {
   "cell_type": "markdown",
   "id": "2fa27a3c-6ac5-4ddc-b2a0-9521dfaafbbf",
   "metadata": {},
   "source": [
    "3. What is the most significant distinction between a dictionary and a list?"
   ]
  },
  {
   "cell_type": "markdown",
   "id": "41ec5e53-ae63-4d3e-b791-12be5ac0c746",
   "metadata": {},
   "source": [
    "A list is an ordered collection of elements, where each element is identified by its position or index. Lists preserve the order of elements and allow duplicates. On the other hand, a dictionary is an unordered collection of key-value pairs, where each key is unique and associated with a value. Dictionaries do not preserve the order of elements."
   ]
  },
  {
   "cell_type": "markdown",
   "id": "2bc328dc-2834-4ab6-92c7-89d52ade9e5d",
   "metadata": {},
   "source": [
    "4. What happens if you try to access spam['foo'] if spam is {'bar': 100}?"
   ]
  },
  {
   "cell_type": "code",
   "execution_count": null,
   "id": "d0d56f42-a261-4a2a-a9f8-1203ca5dc4b6",
   "metadata": {},
   "outputs": [],
   "source": [
    "it will raise a KeyError because the key 'foo' does not exist in the dictionary spam."
   ]
  },
  {
   "cell_type": "markdown",
   "id": "38bb19b4-8636-49d8-b022-631daf6d31f5",
   "metadata": {},
   "source": [
    "5. If a dictionary is stored in spam, what is the difference between the expressions 'cat' in spam and 'cat' in spam.keys()?"
   ]
  },
  {
   "cell_type": "code",
   "execution_count": null,
   "id": "81f16d85-94f0-4d9f-b7ad-ad99f7224d63",
   "metadata": {},
   "outputs": [],
   "source": [
    "There is no difference, the expression \" 'cat' in spam \" checks whether 'cat' is a key in spam."
   ]
  },
  {
   "cell_type": "markdown",
   "id": "a3461f29-c5ec-473b-93f4-2a1268a33935",
   "metadata": {},
   "source": [
    "6. If a dictionary is stored in spam, what is the difference between the expressions 'cat' in spam and 'cat' in spam.values()?"
   ]
  },
  {
   "cell_type": "code",
   "execution_count": null,
   "id": "d4a1238d-88cb-43e3-83e6-e00b4b99cf00",
   "metadata": {},
   "outputs": [],
   "source": [
    "'cat' in spam checks whether'cat' exists as a key in spam. 'cat' in spam.values() checks whether 'cat' is a value in spam."
   ]
  },
  {
   "cell_type": "markdown",
   "id": "b99b6c34-0bea-406d-b959-97f475538608",
   "metadata": {},
   "source": [
    "7. What is a shortcut for the following code?"
   ]
  },
  {
   "cell_type": "code",
   "execution_count": null,
   "id": "d3fb6ba4-47b0-428e-9e85-43c7aa5aa966",
   "metadata": {},
   "outputs": [],
   "source": [
    "if 'color' not in spam:\n",
    "spam['color'] = 'black'"
   ]
  },
  {
   "cell_type": "code",
   "execution_count": null,
   "id": "b10e02ba-6df9-45b2-872b-c336781996d1",
   "metadata": {},
   "outputs": [],
   "source": [
    "spam.setdefault('color','black')"
   ]
  },
  {
   "cell_type": "markdown",
   "id": "26be975c-42de-464b-89e8-e9dd5d524931",
   "metadata": {},
   "source": [
    "8. How do you \"pretty print\" dictionary values using which module and function?"
   ]
  },
  {
   "cell_type": "code",
   "execution_count": 6,
   "id": "bf805ade-0de9-4e35-b007-ee2c786a2da3",
   "metadata": {},
   "outputs": [
    {
     "name": "stdout",
     "output_type": "stream",
     "text": [
      "{'name': 'John',\n",
      " 'age': 25,\n",
      " 'city': 'New York'}\n"
     ]
    }
   ],
   "source": [
    "import pprint\n",
    "\n",
    "my_dict = {'name': 'John', 'age': 25, 'city': 'New York'}\n",
    "\n",
    "pprint.pprint(my_dict, width=40, sort_dicts=False)"
   ]
  },
  {
   "cell_type": "code",
   "execution_count": null,
   "id": "2af1a7ea-f3c9-4e8e-9e43-604c38e2433b",
   "metadata": {},
   "outputs": [],
   "source": []
  }
 ],
 "metadata": {
  "kernelspec": {
   "display_name": "Python 3 (ipykernel)",
   "language": "python",
   "name": "python3"
  },
  "language_info": {
   "codemirror_mode": {
    "name": "ipython",
    "version": 3
   },
   "file_extension": ".py",
   "mimetype": "text/x-python",
   "name": "python",
   "nbconvert_exporter": "python",
   "pygments_lexer": "ipython3",
   "version": "3.10.6"
  }
 },
 "nbformat": 4,
 "nbformat_minor": 5
}
