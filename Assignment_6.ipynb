{
 "cells": [
  {
   "cell_type": "markdown",
   "id": "86bafe09-cf52-47c9-ae5f-91e94266e9e4",
   "metadata": {},
   "source": [
    "1. What are escape characters, and how do you use them?"
   ]
  },
  {
   "cell_type": "code",
   "execution_count": null,
   "id": "ff31a55e-fded-4ddd-bf1c-ed37e3ed68af",
   "metadata": {},
   "outputs": [],
   "source": [
    "Escape characters are special characters in a string that are used to represent certain non-printable or special characters. They are prefixed with a backslash \\ to indicate that they have a special meaning. Escape characters are useful for inserting characters that are difficult to type or represent in a string, such as newline characters, tab characters, or quotation marks.\n",
    "\n",
    "Here are some commonly used escape characters and their meanings:\n",
    "\n",
    "\\': Single quote\n",
    "\\\": Double quote\n",
    "\\\\: Backslash\n",
    "\\n: Newline (line break)\n",
    "\\t: Tab\n",
    "\\r: Carriage return\n",
    "\\b: Backspace"
   ]
  },
  {
   "cell_type": "code",
   "execution_count": 12,
   "id": "528fec6a-cca6-4963-b6f6-e321cda82760",
   "metadata": {},
   "outputs": [
    {
     "name": "stdout",
     "output_type": "stream",
     "text": [
      "I'm happy\n"
     ]
    }
   ],
   "source": [
    "print('I\\'m happy')\n"
   ]
  },
  {
   "cell_type": "code",
   "execution_count": 13,
   "id": "f252ea9b-06f7-47f0-9cd8-80b332564725",
   "metadata": {},
   "outputs": [
    {
     "name": "stdout",
     "output_type": "stream",
     "text": [
      "He said, \"Hello!\"\n"
     ]
    }
   ],
   "source": [
    "print(\"He said, \\\"Hello!\\\"\")\n"
   ]
  },
  {
   "cell_type": "code",
   "execution_count": 14,
   "id": "5989f913-3085-4f8e-8c8f-7698bca8b86c",
   "metadata": {},
   "outputs": [
    {
     "name": "stdout",
     "output_type": "stream",
     "text": [
      "This is a backslash: \\\n"
     ]
    }
   ],
   "source": [
    "print(\"This is a backslash: \\\\\")\n"
   ]
  },
  {
   "cell_type": "code",
   "execution_count": 15,
   "id": "3dd7eb37-b4ee-4c9a-b7d6-13667d748563",
   "metadata": {},
   "outputs": [
    {
     "name": "stdout",
     "output_type": "stream",
     "text": [
      "Line 1\n",
      "Line 2\n"
     ]
    }
   ],
   "source": [
    "print(\"Line 1\\nLine 2\")\n"
   ]
  },
  {
   "cell_type": "code",
   "execution_count": 16,
   "id": "6b097fad-8b12-446b-912d-f40b25d35d54",
   "metadata": {},
   "outputs": [
    {
     "name": "stdout",
     "output_type": "stream",
     "text": [
      "Column 1\tColumn 2\tColumn 3\n"
     ]
    }
   ],
   "source": [
    "print(\"Column 1\\tColumn 2\\tColumn 3\")\n"
   ]
  },
  {
   "cell_type": "code",
   "execution_count": 17,
   "id": "1aa89558-5b12-4e77-b272-a716f5660e02",
   "metadata": {},
   "outputs": [
    {
     "name": "stdout",
     "output_type": "stream",
     "text": [
      "World\n"
     ]
    }
   ],
   "source": [
    "print(\"Hello\\rWorld\")\n"
   ]
  },
  {
   "cell_type": "code",
   "execution_count": 18,
   "id": "6162fb3b-7886-4ef4-9b77-ee9a242fc45a",
   "metadata": {},
   "outputs": [
    {
     "name": "stdout",
     "output_type": "stream",
     "text": [
      "HellWorld\n"
     ]
    }
   ],
   "source": [
    "print(\"Hello\\bWorld\")\n"
   ]
  },
  {
   "cell_type": "markdown",
   "id": "557f0ab4-eedd-46bf-bbbe-61d83fdafe7e",
   "metadata": {},
   "source": [
    "2. What do the escape characters n and t stand for?"
   ]
  },
  {
   "cell_type": "code",
   "execution_count": null,
   "id": "71e2be01-7605-46bc-9f33-e9011c5d79b7",
   "metadata": {},
   "outputs": [],
   "source": [
    "n stands for newline character or a line break\n",
    "t stands for  tab character"
   ]
  },
  {
   "cell_type": "markdown",
   "id": "3b9832a7-441c-4d34-9fa6-49e1b12134f2",
   "metadata": {},
   "source": [
    "3. What is the way to include backslash characters in a string?"
   ]
  },
  {
   "cell_type": "code",
   "execution_count": null,
   "id": "652807e5-c48b-4660-9a90-c18b1e91f9a7",
   "metadata": {},
   "outputs": [],
   "source": [
    "To include a backslash character (\\) in a string, we can use an escape sequence \\\\"
   ]
  },
  {
   "cell_type": "code",
   "execution_count": 1,
   "id": "64042d52-6cbf-46f2-a839-feb9aef162a9",
   "metadata": {},
   "outputs": [
    {
     "name": "stdout",
     "output_type": "stream",
     "text": [
      "This is a backslash: \\\n"
     ]
    }
   ],
   "source": [
    "print(\"This is a backslash: \\\\\")\n"
   ]
  },
  {
   "cell_type": "markdown",
   "id": "9aa960a6-7fb7-4fe0-9f41-caf9be6a5fa0",
   "metadata": {},
   "source": [
    "4. The string \"Howl's Moving Castle\" is a correct value. Why isn't the single quote character in the word Howl's not escaped a problem?"
   ]
  },
  {
   "cell_type": "markdown",
   "id": "f5039d6b-2078-44e2-ad96-5a3871af5c4d",
   "metadata": {},
   "source": [
    "In Python, the single quote character ' can be included in a string without escaping when the string is enclosed in double quotes (\") or vice versa. This is because Python allows the use of either single quotes or double quotes to define a string.\n",
    "\n",
    "So, in the string \"Howl's Moving Castle\", the single quote within the word \"Howl's\" is not a problem because the entire string is enclosed in double quotes. Python treats the single quote as a regular character within the string and does not interpret it as the end of the string."
   ]
  },
  {
   "cell_type": "markdown",
   "id": "0b8afe44-5c0a-4587-a687-1d87cd3b3a0b",
   "metadata": {},
   "source": [
    "5. How do you write a string of newlines if you don't want to use the n character?"
   ]
  },
  {
   "cell_type": "code",
   "execution_count": null,
   "id": "5889b20d-8d65-455a-b119-dbb406a75816",
   "metadata": {},
   "outputs": [],
   "source": [
    "by using triple quotes (''' or \"\"\") to define a multi-line string literal."
   ]
  },
  {
   "cell_type": "markdown",
   "id": "b0412fc8-b6ce-493e-9aad-6e7abebeaee4",
   "metadata": {},
   "source": [
    "6. What are the values of the given expressions?"
   ]
  },
  {
   "cell_type": "code",
   "execution_count": 4,
   "id": "63b3eb2c-7911-4fff-884f-48cbf37b27eb",
   "metadata": {},
   "outputs": [
    {
     "data": {
      "text/plain": [
       "'e'"
      ]
     },
     "execution_count": 4,
     "metadata": {},
     "output_type": "execute_result"
    }
   ],
   "source": [
    "'Hello, world!'[1]"
   ]
  },
  {
   "cell_type": "code",
   "execution_count": 5,
   "id": "5754ff30-38ec-492e-a2eb-9ca99006bb00",
   "metadata": {},
   "outputs": [
    {
     "data": {
      "text/plain": [
       "'Hello'"
      ]
     },
     "execution_count": 5,
     "metadata": {},
     "output_type": "execute_result"
    }
   ],
   "source": [
    "'Hello, world!'[0:5]"
   ]
  },
  {
   "cell_type": "code",
   "execution_count": 6,
   "id": "bdd28fa7-aee8-4c86-875d-f9955eb1bfe5",
   "metadata": {},
   "outputs": [
    {
     "data": {
      "text/plain": [
       "'Hello'"
      ]
     },
     "execution_count": 6,
     "metadata": {},
     "output_type": "execute_result"
    }
   ],
   "source": [
    "'Hello, world!'[:5]"
   ]
  },
  {
   "cell_type": "code",
   "execution_count": 7,
   "id": "b2ec608c-3ac8-41e1-9786-9318d2fd22b0",
   "metadata": {},
   "outputs": [
    {
     "data": {
      "text/plain": [
       "'lo, world!'"
      ]
     },
     "execution_count": 7,
     "metadata": {},
     "output_type": "execute_result"
    }
   ],
   "source": [
    "'Hello, world!'[3:]"
   ]
  },
  {
   "cell_type": "markdown",
   "id": "52705fcb-e265-40cd-bd29-0281766682c3",
   "metadata": {},
   "source": [
    "7. What are the values of the following expressions?"
   ]
  },
  {
   "cell_type": "code",
   "execution_count": 8,
   "id": "21908e40-0403-4bfc-a798-dae02c862d00",
   "metadata": {},
   "outputs": [
    {
     "data": {
      "text/plain": [
       "'HELLO'"
      ]
     },
     "execution_count": 8,
     "metadata": {},
     "output_type": "execute_result"
    }
   ],
   "source": [
    "'Hello'.upper()"
   ]
  },
  {
   "cell_type": "code",
   "execution_count": 9,
   "id": "b5362576-62b3-4851-aecf-5662b91fd6c4",
   "metadata": {},
   "outputs": [
    {
     "data": {
      "text/plain": [
       "True"
      ]
     },
     "execution_count": 9,
     "metadata": {},
     "output_type": "execute_result"
    }
   ],
   "source": [
    "'Hello'.upper().isupper()"
   ]
  },
  {
   "cell_type": "code",
   "execution_count": 10,
   "id": "6bc6c38b-66a6-423a-b519-f57e591a7da8",
   "metadata": {},
   "outputs": [
    {
     "data": {
      "text/plain": [
       "'hello'"
      ]
     },
     "execution_count": 10,
     "metadata": {},
     "output_type": "execute_result"
    }
   ],
   "source": [
    "'Hello'.upper().lower()"
   ]
  },
  {
   "cell_type": "markdown",
   "id": "9b6fa3ca-c785-45ac-8f9f-bcd5a9824510",
   "metadata": {},
   "source": [
    "8. What are the values of the following expressions?"
   ]
  },
  {
   "cell_type": "code",
   "execution_count": 11,
   "id": "b5cc3d5f-b397-45fe-9d32-6f20d0c7d74c",
   "metadata": {},
   "outputs": [
    {
     "data": {
      "text/plain": [
       "['Remember,', 'remember,', 'the', 'fifth', 'of', 'July.']"
      ]
     },
     "execution_count": 11,
     "metadata": {},
     "output_type": "execute_result"
    }
   ],
   "source": [
    "'Remember, remember, the fifth of July.'.split()"
   ]
  },
  {
   "cell_type": "code",
   "execution_count": 12,
   "id": "35e28b27-b285-47fc-93f5-a6a986a5ff9f",
   "metadata": {},
   "outputs": [
    {
     "data": {
      "text/plain": [
       "'There-can-only-one.'"
      ]
     },
     "execution_count": 12,
     "metadata": {},
     "output_type": "execute_result"
    }
   ],
   "source": [
    "'-'.join('There can only one.'.split())"
   ]
  },
  {
   "cell_type": "markdown",
   "id": "4a1d43f3-f4a4-4aaf-b2bf-835f09d46980",
   "metadata": {},
   "source": [
    "9. What are the methods for right-justifying, left-justifying, and centering a string?"
   ]
  },
  {
   "cell_type": "code",
   "execution_count": 13,
   "id": "24f10feb-8296-4889-967a-fcc5179e9f8d",
   "metadata": {},
   "outputs": [
    {
     "name": "stdout",
     "output_type": "stream",
     "text": [
      "     Hello\n"
     ]
    }
   ],
   "source": [
    "#right justifying\n",
    "text = 'Hello'\n",
    "padded_text = text.rjust(10)\n",
    "print(padded_text)\n"
   ]
  },
  {
   "cell_type": "code",
   "execution_count": 20,
   "id": "67b76ba8-d2a9-4bef-a96a-c2203d1fa9e0",
   "metadata": {},
   "outputs": [
    {
     "name": "stdout",
     "output_type": "stream",
     "text": [
      "Hello_____\n"
     ]
    }
   ],
   "source": [
    "#left justifying\n",
    "text = 'Hello'\n",
    "padded_text = text.ljust(10,'_')\n",
    "print(padded_text)\n"
   ]
  },
  {
   "cell_type": "code",
   "execution_count": 21,
   "id": "997d0359-3ed1-43e7-b531-87a86c5d573c",
   "metadata": {},
   "outputs": [
    {
     "name": "stdout",
     "output_type": "stream",
     "text": [
      "  Hello   \n"
     ]
    }
   ],
   "source": [
    "#center\n",
    "text = 'Hello'\n",
    "padded_text = text.center(10)\n",
    "print(padded_text)\n"
   ]
  },
  {
   "cell_type": "markdown",
   "id": "572284eb-0827-4751-b9c4-955afe46bfe2",
   "metadata": {},
   "source": [
    "10. What is the best way to remove whitespace characters from the start or end?"
   ]
  },
  {
   "cell_type": "code",
   "execution_count": 22,
   "id": "ba8f4969-cec0-4152-9b2d-c6d85236b25f",
   "metadata": {},
   "outputs": [
    {
     "name": "stdout",
     "output_type": "stream",
     "text": [
      "Hello World\n"
     ]
    }
   ],
   "source": [
    "# we can use strip method\n",
    "text = \"   Hello World   \"\n",
    "trimmed_text = text.strip()\n",
    "print(trimmed_text)\n"
   ]
  },
  {
   "cell_type": "code",
   "execution_count": null,
   "id": "ca85da32-57d4-4617-87de-2ea556a1c25b",
   "metadata": {},
   "outputs": [],
   "source": []
  }
 ],
 "metadata": {
  "kernelspec": {
   "display_name": "Python 3 (ipykernel)",
   "language": "python",
   "name": "python3"
  },
  "language_info": {
   "codemirror_mode": {
    "name": "ipython",
    "version": 3
   },
   "file_extension": ".py",
   "mimetype": "text/x-python",
   "name": "python",
   "nbconvert_exporter": "python",
   "pygments_lexer": "ipython3",
   "version": "3.10.6"
  }
 },
 "nbformat": 4,
 "nbformat_minor": 5
}
