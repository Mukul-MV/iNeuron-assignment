{
 "cells": [
  {
   "cell_type": "markdown",
   "id": "2b09ff0e",
   "metadata": {},
   "source": [
    "1. Write a Python Program to Find the Factorial of a Number?\n",
    "2. Write a Python Program to Display the multiplication Table?\n",
    "3. Write a Python Program to Print the Fibonacci sequence?\n",
    "4. Write a Python Program to Check Armstrong Number?\n",
    "5. Write a Python Program to Find Armstrong Number in an Interval?\n",
    "6. Write a Python Program to Find the Sum of Natural Numbers?"
   ]
  },
  {
   "cell_type": "markdown",
   "id": "08c8716c",
   "metadata": {},
   "source": [
    "**1. Write a Python Program to Find the Factorial of a Number?**"
   ]
  },
  {
   "cell_type": "code",
   "execution_count": 2,
   "id": "9b62c78e",
   "metadata": {},
   "outputs": [
    {
     "name": "stdout",
     "output_type": "stream",
     "text": [
      "Find Factorial number , Enter number \n",
      "7\n",
      "5040\n"
     ]
    }
   ],
   "source": [
    "num1 = int(input(\"Find Factorial number , Enter number \\n\"))\n",
    "fact = 1\n",
    "for i in range(1,num1+1):\n",
    "    fact = fact*i\n",
    "\n",
    "print(fact)"
   ]
  },
  {
   "cell_type": "markdown",
   "id": "2eeda1e7",
   "metadata": {},
   "source": [
    "**2. Write a Python Program to Display the multiplication Table?**"
   ]
  },
  {
   "cell_type": "code",
   "execution_count": 3,
   "id": "880e9323",
   "metadata": {},
   "outputs": [
    {
     "name": "stdout",
     "output_type": "stream",
     "text": [
      "find multipliction of Entered number 5\n",
      "5 x 1 = 5\n",
      "5 x 2 = 10\n",
      "5 x 3 = 15\n",
      "5 x 4 = 20\n",
      "5 x 5 = 25\n",
      "5 x 6 = 30\n",
      "5 x 7 = 35\n",
      "5 x 8 = 40\n",
      "5 x 9 = 45\n",
      "5 x 10 = 50\n"
     ]
    }
   ],
   "source": [
    "num = int(input(\"find multipliction of Entered number \"))\n",
    "\n",
    "for i in range(1,11):\n",
    "    print(f\"{num} x {i} = {i*num}\")"
   ]
  },
  {
   "cell_type": "markdown",
   "id": "1efd9bfd",
   "metadata": {},
   "source": [
    "**3. Write a Python Program to Print the Fibonacci sequence?**"
   ]
  },
  {
   "cell_type": "code",
   "execution_count": 4,
   "id": "e4253bd8",
   "metadata": {},
   "outputs": [
    {
     "name": "stdout",
     "output_type": "stream",
     "text": [
      "Find Fibonacci series , Enter number5\n",
      "[0, 1, 1, 2, 3]\n"
     ]
    }
   ],
   "source": [
    "num2 = int(input(\"Find Fibonacci series , Enter number\"))\n",
    "lst2  = [0,1]\n",
    "for i in range(0,num2):\n",
    "    if num2 == 1 or num2 == 2:\n",
    "        break\n",
    "    else :\n",
    "        lst2.append(lst2[i]+lst2[i+1])\n",
    "        \n",
    "print(lst2[:num2])    "
   ]
  },
  {
   "cell_type": "markdown",
   "id": "569752f6",
   "metadata": {},
   "source": [
    "**4. Write a Python Program to Check Armstrong Number?**"
   ]
  },
  {
   "cell_type": "code",
   "execution_count": 5,
   "id": "dffb961e",
   "metadata": {},
   "outputs": [
    {
     "name": "stdout",
     "output_type": "stream",
     "text": [
      "Find Armstrong Number , Enter number = \n",
      "153\n",
      "Armstrong Number\n"
     ]
    }
   ],
   "source": [
    "num3 =  input(\"Find Armstrong Number , Enter number = \\n\")\n",
    "digits =  len(num3)\n",
    "sum1 = 0\n",
    "for i in num3:\n",
    "    sum1 = sum1 + int(i)**(digits)\n",
    "    \n",
    "if sum1 == int(num3):\n",
    "    print(\"Armstrong Number\")\n",
    "else :\n",
    "    print(\"Not Armstrong Number\")"
   ]
  },
  {
   "cell_type": "markdown",
   "id": "20a6c8ab",
   "metadata": {},
   "source": [
    "**5. Write a Python Program to Find Armstrong Number in an Interval?**"
   ]
  },
  {
   "cell_type": "code",
   "execution_count": 8,
   "id": "6db0cd63",
   "metadata": {},
   "outputs": [
    {
     "name": "stdout",
     "output_type": "stream",
     "text": [
      "Find Armstrong Numbers in interval , Enter number = \n",
      "10000\n",
      "[0, 1, 2, 3, 4, 5, 6, 7, 8, 9, 153, 370, 371, 407, 1634, 8208, 9474]\n"
     ]
    }
   ],
   "source": [
    "num4 =  int(input(\"Find Armstrong Numbers in interval , Enter number = \\n\"))\n",
    "lst3 = []\n",
    "for i in range(num4+1):\n",
    "    digits =  len(str(i))\n",
    "    sum2 = 0\n",
    "    for j in str(i):\n",
    "        sum2 = sum2+int(j)**digits\n",
    "    \n",
    "    if sum2 == i:\n",
    "        lst3.append(sum2)\n",
    "    else :\n",
    "        continue\n",
    "print(lst3)"
   ]
  },
  {
   "cell_type": "markdown",
   "id": "0a646c52",
   "metadata": {},
   "source": [
    "**6. Write a Python Program to Find the Sum of Natural Numbers?**"
   ]
  },
  {
   "cell_type": "code",
   "execution_count": 11,
   "id": "115da3fa",
   "metadata": {},
   "outputs": [
    {
     "name": "stdout",
     "output_type": "stream",
     "text": [
      "sum of naturals number, Enter number5\n",
      "15\n"
     ]
    }
   ],
   "source": [
    "num_N = int(input(\"sum of naturals number, Enter number\"))\n",
    "\n",
    "print(sum(list(range(num_N+1))))"
   ]
  }
 ],
 "metadata": {
  "kernelspec": {
   "display_name": "Python 3 (ipykernel)",
   "language": "python",
   "name": "python3"
  },
  "language_info": {
   "codemirror_mode": {
    "name": "ipython",
    "version": 3
   },
   "file_extension": ".py",
   "mimetype": "text/x-python",
   "name": "python",
   "nbconvert_exporter": "python",
   "pygments_lexer": "ipython3",
   "version": "3.9.7"
  }
 },
 "nbformat": 4,
 "nbformat_minor": 5
}
