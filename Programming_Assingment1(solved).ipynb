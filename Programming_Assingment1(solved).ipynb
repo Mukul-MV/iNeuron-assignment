{
 "cells": [
  {
   "cell_type": "markdown",
   "id": "dec41cad",
   "metadata": {},
   "source": [
    "1. Write a Python program to print &quot;Hello Python&quot;?\n",
    "2. Write a Python program to do arithmetical operations addition and division.?\n",
    "3. Write a Python program to find the area of a triangle?\n",
    "4. Write a Python program to swap two variables?\n",
    "5. Write a Python program to generate a random number?"
   ]
  },
  {
   "cell_type": "markdown",
   "id": "50566a46",
   "metadata": {},
   "source": [
    "**1. Write a Python program to print &quot;Hello Python&quot;?**"
   ]
  },
  {
   "cell_type": "code",
   "execution_count": 1,
   "id": "f6e4a90f",
   "metadata": {},
   "outputs": [
    {
     "name": "stdout",
     "output_type": "stream",
     "text": [
      "Hello Python\n"
     ]
    }
   ],
   "source": [
    "print(\"Hello Python\")"
   ]
  },
  {
   "cell_type": "markdown",
   "id": "47614c7d",
   "metadata": {},
   "source": [
    "**2. Write a Python program to do arithmetical operations addition and division.?**"
   ]
  },
  {
   "cell_type": "code",
   "execution_count": 2,
   "id": "69108c69",
   "metadata": {},
   "outputs": [
    {
     "name": "stdout",
     "output_type": "stream",
     "text": [
      "y =  30\n",
      "z = 5.0\n"
     ]
    }
   ],
   "source": [
    "a = 5\n",
    "b = 25\n",
    "\n",
    "y = a+b\n",
    "z = b/a\n",
    "\n",
    "print('y = ',y)\n",
    "print('z =' , z)"
   ]
  },
  {
   "cell_type": "markdown",
   "id": "53bf56f0",
   "metadata": {},
   "source": [
    "**3. Write a Python program to find the area of a triangle?**      \n",
    "**area of triangle =  (base x height)/2**"
   ]
  },
  {
   "cell_type": "code",
   "execution_count": 4,
   "id": "e854beda",
   "metadata": {},
   "outputs": [
    {
     "name": "stdout",
     "output_type": "stream",
     "text": [
      "Enter triangle base length \n",
      "2\n",
      "Enter triangle height length \n",
      "4\n",
      "Total area of Triangle =  4.0\n"
     ]
    }
   ],
   "source": [
    "base  =  int(input(\"Enter triangle base length \\n\"))\n",
    "height =  int(input(\"Enter triangle height length \\n\"))\n",
    "\n",
    "area_of_triangle =  (base*height)/2\n",
    "\n",
    "print('Total area of Triangle = ', area_of_triangle)"
   ]
  },
  {
   "cell_type": "markdown",
   "id": "7b96e17f",
   "metadata": {},
   "source": [
    "**4. Write a Python program to swap two variables?**"
   ]
  },
  {
   "cell_type": "code",
   "execution_count": 5,
   "id": "4ac33394",
   "metadata": {},
   "outputs": [
    {
     "name": "stdout",
     "output_type": "stream",
     "text": [
      "a =  8\n",
      "b =  5\n"
     ]
    }
   ],
   "source": [
    "a = 5\n",
    "b = 8\n",
    "\n",
    "a,b = b,a\n",
    "\n",
    "print('a = ',a)\n",
    "print('b = ',b)"
   ]
  },
  {
   "cell_type": "markdown",
   "id": "76ff4acf",
   "metadata": {},
   "source": [
    "**5. Write a Python program to generate a random number?**"
   ]
  },
  {
   "cell_type": "code",
   "execution_count": 6,
   "id": "2e90a7b2",
   "metadata": {},
   "outputs": [
    {
     "name": "stdout",
     "output_type": "stream",
     "text": [
      "5\n"
     ]
    }
   ],
   "source": [
    "import random\n",
    "\n",
    "print(random.randint(1,8))"
   ]
  }
 ],
 "metadata": {
  "kernelspec": {
   "display_name": "Python 3 (ipykernel)",
   "language": "python",
   "name": "python3"
  },
  "language_info": {
   "codemirror_mode": {
    "name": "ipython",
    "version": 3
   },
   "file_extension": ".py",
   "mimetype": "text/x-python",
   "name": "python",
   "nbconvert_exporter": "python",
   "pygments_lexer": "ipython3",
   "version": "3.9.7"
  }
 },
 "nbformat": 4,
 "nbformat_minor": 5
}
