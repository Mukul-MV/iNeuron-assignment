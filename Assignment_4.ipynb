{
 "cells": [
  {
   "cell_type": "raw",
   "id": "f77b4e8c-e160-4b65-ace1-edbb4d37a6eb",
   "metadata": {},
   "source": [
    "1. What exactly is []?\n",
    "2. In a list of values stored in a variable called spam, how would you assign the value &#39;hello&#39; as the\n",
    "third value? (Assume [2, 4, 6, 8, 10] are in spam.)\n",
    "Let&#39;s pretend the spam includes the list [&#39;a&#39;, &#39;b&#39;, &#39;c&#39;, &#39;d&#39;] for the next three queries.\n",
    "3. What is the value of spam[int(int(&#39;3&#39; * 2) / 11)]?\n",
    "4. What is the value of spam[-1]?\n",
    "5. What is the value of spam[:2]?\n",
    "Let&#39;s pretend bacon has the list [3.14, &#39;cat,&#39; 11, &#39;cat,&#39; True] for the next three questions.\n",
    "6. What is the value of bacon.index(&#39;cat&#39;)?\n",
    "7. How does bacon.append(99) change the look of the list value in bacon?\n",
    "8. How does bacon.remove(&#39;cat&#39;) change the look of the list in bacon?\n",
    "9. What are the list concatenation and list replication operators?\n",
    "10. What is difference between the list methods append() and insert()?\n",
    "11. What are the two methods for removing items from a list?\n",
    "12. Describe how list values and string values are identical.\n",
    "13. What&#39;s the difference between tuples and lists?\n",
    "14. How do you type a tuple value that only contains the integer 42?\n",
    "15. How do you get a list value&#39;s tuple form? How do you get a tuple value&#39;s list form?\n",
    "16. Variables that &quot;contain&quot; list values are not necessarily lists themselves. Instead, what do they\n",
    "contain?\n",
    "17. How do you distinguish between copy.copy() and copy.deepcopy()?"
   ]
  },
  {
   "cell_type": "markdown",
   "id": "518224b8-f480-4dd5-8f70-876f492ce058",
   "metadata": {},
   "source": [
    "1. What exactly is [ ]?"
   ]
  },
  {
   "cell_type": "markdown",
   "id": "55f8c35c-6357-4b58-8484-236fce1cf16e",
   "metadata": {},
   "source": [
    "-it is Square bracket and can be used to create list in python.\n",
    "-it also represent empty list "
   ]
  },
  {
   "cell_type": "markdown",
   "id": "65342608-b23a-4b88-8a77-c83e02747985",
   "metadata": {},
   "source": [
    "2. In a list of values stored in a variable called spam, how would you assign the value &#39;hello&#39; as the\n",
    "third value? (Assume [2, 4, 6, 8, 10] are in spam.)"
   ]
  },
  {
   "cell_type": "code",
   "execution_count": 11,
   "id": "e5b49b85-a523-4d4d-b35f-d96d5ae41f37",
   "metadata": {},
   "outputs": [],
   "source": [
    "spam = [2,4,6,8,10]"
   ]
  },
  {
   "cell_type": "code",
   "execution_count": 12,
   "id": "f4b2c38e-d186-458c-b930-4395bc06b849",
   "metadata": {},
   "outputs": [],
   "source": [
    "spam[2]= \"hello\""
   ]
  },
  {
   "cell_type": "code",
   "execution_count": 13,
   "id": "0f9027ee-d56c-40fa-abfd-16e607c2c274",
   "metadata": {},
   "outputs": [
    {
     "data": {
      "text/plain": [
       "[2, 4, 'hello', 8, 10]"
      ]
     },
     "execution_count": 13,
     "metadata": {},
     "output_type": "execute_result"
    }
   ],
   "source": [
    "spam"
   ]
  },
  {
   "cell_type": "markdown",
   "id": "9a7c4cf6-486b-4956-b486-bd7e39f1abf3",
   "metadata": {},
   "source": [
    "Let's pretend the spam includes the list ['a', 'b', 'c', 'd'] for the next three queries."
   ]
  },
  {
   "cell_type": "markdown",
   "id": "7a2eceff-7625-4c34-b6bb-5ba2b8bf8e19",
   "metadata": {},
   "source": [
    "3. What is the value of spam[int(int('3' * 2) / 11)]?"
   ]
  },
  {
   "cell_type": "code",
   "execution_count": 5,
   "id": "c71c1cb9-e49d-4a47-9557-740cdd57911e",
   "metadata": {},
   "outputs": [],
   "source": [
    "spam = ['a','b','c','d']"
   ]
  },
  {
   "cell_type": "code",
   "execution_count": 7,
   "id": "cc5b1d4c-8d1a-49c6-b9a1-bdf1c305a58b",
   "metadata": {},
   "outputs": [
    {
     "data": {
      "text/plain": [
       "'d'"
      ]
     },
     "execution_count": 7,
     "metadata": {},
     "output_type": "execute_result"
    }
   ],
   "source": [
    "spam[int(int('3'*2)/11)]"
   ]
  },
  {
   "cell_type": "markdown",
   "id": "e7bc76bc-bcc5-4600-af77-374ff9798256",
   "metadata": {},
   "source": [
    "What is the value of spam[-1]?"
   ]
  },
  {
   "cell_type": "code",
   "execution_count": 9,
   "id": "b4e76313-2b43-4443-a6e1-78d522e87fd0",
   "metadata": {},
   "outputs": [
    {
     "data": {
      "text/plain": [
       "'d'"
      ]
     },
     "execution_count": 9,
     "metadata": {},
     "output_type": "execute_result"
    }
   ],
   "source": [
    "spam[-1]"
   ]
  },
  {
   "cell_type": "markdown",
   "id": "6d04153b-1ec9-4b26-9fc8-6b07f9b2ad00",
   "metadata": {},
   "source": [
    "5. What is the value of spam[:2]?"
   ]
  },
  {
   "cell_type": "code",
   "execution_count": 10,
   "id": "9baf9725-5061-49b1-bdf1-caf563b11d7c",
   "metadata": {},
   "outputs": [
    {
     "data": {
      "text/plain": [
       "['a', 'b']"
      ]
     },
     "execution_count": 10,
     "metadata": {},
     "output_type": "execute_result"
    }
   ],
   "source": [
    "spam[:2]"
   ]
  },
  {
   "cell_type": "markdown",
   "id": "6a47a979-fff4-4e28-b1fb-7e3ba5c65c7f",
   "metadata": {},
   "source": [
    "Let's pretend bacon has the list [3.14, 'cat,' 11, 'cat,' True] for the next three questions."
   ]
  },
  {
   "cell_type": "markdown",
   "id": "3138ba1f-40fd-4ec9-b5c7-cfc12c064447",
   "metadata": {},
   "source": [
    "6. What is the value of bacon.index('cat')?"
   ]
  },
  {
   "cell_type": "code",
   "execution_count": 13,
   "id": "452d486a-cd67-4175-a749-a5a7b0382c9c",
   "metadata": {},
   "outputs": [],
   "source": [
    "bacon =  [3.14, 'cat', 11, 'cat', True]"
   ]
  },
  {
   "cell_type": "code",
   "execution_count": 14,
   "id": "f1344a92-20cc-414f-9e85-e5296f19944b",
   "metadata": {},
   "outputs": [
    {
     "data": {
      "text/plain": [
       "1"
      ]
     },
     "execution_count": 14,
     "metadata": {},
     "output_type": "execute_result"
    }
   ],
   "source": [
    " bacon.index('cat')"
   ]
  },
  {
   "cell_type": "markdown",
   "id": "c96c962e-09d9-4ad5-9917-39018e1ec0ef",
   "metadata": {},
   "source": [
    "7. How does bacon.append(99) change the look of the list value in bacon?"
   ]
  },
  {
   "cell_type": "code",
   "execution_count": 15,
   "id": "b90b38f0-6445-4422-973e-9eea62b3ee2b",
   "metadata": {},
   "outputs": [],
   "source": [
    "bacon.append(99)"
   ]
  },
  {
   "cell_type": "code",
   "execution_count": 16,
   "id": "bfcbd53c-2e1f-4173-8f9f-6ceaacbe85ad",
   "metadata": {},
   "outputs": [
    {
     "data": {
      "text/plain": [
       "[3.14, 'cat', 11, 'cat', True, 99]"
      ]
     },
     "execution_count": 16,
     "metadata": {},
     "output_type": "execute_result"
    }
   ],
   "source": [
    "bacon"
   ]
  },
  {
   "cell_type": "markdown",
   "id": "7d2b0557-499f-4025-a4f6-f10ab6918d96",
   "metadata": {},
   "source": [
    "8. How does bacon.remove('cat') change the look of the list in bacon?"
   ]
  },
  {
   "cell_type": "code",
   "execution_count": 17,
   "id": "0e1aae41-13c1-442b-9aab-fa09ce94da82",
   "metadata": {},
   "outputs": [],
   "source": [
    "bacon.remove('cat')"
   ]
  },
  {
   "cell_type": "code",
   "execution_count": 18,
   "id": "5ffeeda1-ce92-401d-868b-0fc85b5030ac",
   "metadata": {},
   "outputs": [
    {
     "data": {
      "text/plain": [
       "[3.14, 11, 'cat', True, 99]"
      ]
     },
     "execution_count": 18,
     "metadata": {},
     "output_type": "execute_result"
    }
   ],
   "source": [
    "bacon"
   ]
  },
  {
   "cell_type": "markdown",
   "id": "001fc6d6-cc04-4531-bd2a-eb9cdc4d5fb3",
   "metadata": {},
   "source": [
    "9. What are the list concatenation and list replication operators?"
   ]
  },
  {
   "cell_type": "code",
   "execution_count": null,
   "id": "e55169a6-bb7b-45b0-ac29-915b51a88a1b",
   "metadata": {},
   "outputs": [],
   "source": [
    "\"+\" used to concatenate list\n",
    "\"*\" used to replicate list"
   ]
  },
  {
   "cell_type": "markdown",
   "id": "f32c43c7-50d0-4667-b6f0-69f518021d70",
   "metadata": {},
   "source": [
    "10. What is difference between the list methods append() and insert()?"
   ]
  },
  {
   "cell_type": "markdown",
   "id": "99621d32-9a99-4f97-9b4e-0ada809a457c",
   "metadata": {},
   "source": [
    "append() method:\n",
    "\n",
    "The append() method is used to add an element to the end of a list. It takes a single argument, which is the element to be added, and it modifies the original list by adding the element at the end.\n",
    "\n",
    "insert() method:\n",
    "\n",
    "The insert() method is used to add an element at a specific index within a list. It takes two arguments: the index at which to insert the element, and the element to be inserted. It modifies the original list by shifting existing elements to the right."
   ]
  },
  {
   "cell_type": "markdown",
   "id": "9eef1bc9-ddeb-4dc7-b589-adc9f708fd8d",
   "metadata": {},
   "source": [
    "11. What are the two methods for removing items from a list?"
   ]
  },
  {
   "cell_type": "markdown",
   "id": "d1b1a111-0ba4-4c68-86d1-573522e6a8da",
   "metadata": {},
   "source": [
    "remove() method:\n",
    "\n",
    "The remove() method is used to remove the first occurrence of a specified element from a list. It modifies the original list by removing the element. If the element is not found in the list, it raises a ValueError. Here's an example:"
   ]
  },
  {
   "cell_type": "code",
   "execution_count": 2,
   "id": "8b3b5eba-2c6b-4f74-af4f-9d58748f87e7",
   "metadata": {},
   "outputs": [
    {
     "name": "stdout",
     "output_type": "stream",
     "text": [
      "[1, 3, 2, 4]\n"
     ]
    }
   ],
   "source": [
    "my_list = [1, 2, 3, 2, 4]\n",
    "my_list.remove(2)\n",
    "print(my_list)\n"
   ]
  },
  {
   "cell_type": "markdown",
   "id": "75d598e5-00ec-45fd-a0de-351d3f7580a4",
   "metadata": {},
   "source": [
    "pop() method:\n",
    "\n",
    "The pop() method is used to remove an element at a specified index from a list. It modifies the original list by removing and returning the element at the given index. If no index is provided, it removes and returns the last element of the list. Here's an example:"
   ]
  },
  {
   "cell_type": "code",
   "execution_count": 3,
   "id": "467b384a-42a5-43c1-be13-80251a37a95d",
   "metadata": {},
   "outputs": [
    {
     "name": "stdout",
     "output_type": "stream",
     "text": [
      "[1, 2, 4]\n",
      "3\n"
     ]
    }
   ],
   "source": [
    "my_list = [1, 2, 3, 4]\n",
    "removed_element = my_list.pop(2)\n",
    "print(my_list)\n",
    "print(removed_element)\n"
   ]
  },
  {
   "cell_type": "markdown",
   "id": "69e60354-dcf3-4c0d-9a5a-0bdde82285a2",
   "metadata": {},
   "source": [
    "12. Describe how list values and string values are identical."
   ]
  },
  {
   "cell_type": "markdown",
   "id": "b8265d87-df02-4acf-8bde-5ccf468d1c39",
   "metadata": {},
   "source": [
    "List values and string values share some similarities. Here's a description of how list values and string values are similar:\n",
    "\n",
    "1. Both are sequences: Both lists and strings are sequences of elements in Python. They allow you to store and access multiple values in an ordered manner.\n",
    "\n",
    "2. Indexing and slicing: Both lists and strings support indexing and slicing operations. You can access individual elements of a list or string by their index, and you can extract a portion of the sequence using slicing notation.\n",
    "\n",
    "3. Iteration: You can iterate over both lists and strings using loops or other iterable constructs. This allows you to access each element of the sequence one by one.\n",
    "\n",
    "4. Length: You can determine the length of a list or a string using the len() function. It gives you the total number of elements in the sequence."
   ]
  },
  {
   "cell_type": "markdown",
   "id": "81a2d1c9-4fda-47ca-8109-6cf1bf0369bb",
   "metadata": {},
   "source": [
    "13. What's the difference between tuples and lists?"
   ]
  },
  {
   "cell_type": "markdown",
   "id": "ea57c482-f087-4b14-a98b-9a812e027d34",
   "metadata": {},
   "source": [
    "tuples are immutable and list are mutable"
   ]
  },
  {
   "cell_type": "markdown",
   "id": "2dda5bc4-68c9-4a2b-9ada-ca604a1a628c",
   "metadata": {},
   "source": [
    "14. How do you type a tuple value that only contains the integer 42?"
   ]
  },
  {
   "cell_type": "code",
   "execution_count": 5,
   "id": "f3ce5882-6e90-47a9-9f3d-af8f79040433",
   "metadata": {},
   "outputs": [
    {
     "name": "stdout",
     "output_type": "stream",
     "text": [
      "(42,)\n"
     ]
    }
   ],
   "source": [
    "mytuple = (42,)\n",
    "print(mytuple)\n"
   ]
  },
  {
   "cell_type": "markdown",
   "id": "8083c82d-86f7-47e3-a648-65bc73a5ab3b",
   "metadata": {},
   "source": [
    "15. How do you get a list value's tuple form? How do you get a tuple value's list form?"
   ]
  },
  {
   "cell_type": "code",
   "execution_count": 6,
   "id": "412e7ef7-3c51-428f-9ca0-159586de8e3f",
   "metadata": {},
   "outputs": [
    {
     "name": "stdout",
     "output_type": "stream",
     "text": [
      "(1, 2, 3, 4)\n"
     ]
    }
   ],
   "source": [
    "#list to tuple\n",
    "my_list = [1, 2, 3, 4]\n",
    "my_tuple = tuple(my_list)\n",
    "print(my_tuple)\n"
   ]
  },
  {
   "cell_type": "code",
   "execution_count": 7,
   "id": "7ea90ada-d2c5-4e77-84b4-9d8125e02818",
   "metadata": {},
   "outputs": [
    {
     "name": "stdout",
     "output_type": "stream",
     "text": [
      "[1, 2, 3, 4]\n"
     ]
    }
   ],
   "source": [
    "#tuple to list\n",
    "my_tuple = (1, 2, 3, 4)\n",
    "my_list = list(my_tuple)\n",
    "print(my_list)\n"
   ]
  },
  {
   "cell_type": "markdown",
   "id": "eab9c771-055f-48a0-86ab-34d31007ac48",
   "metadata": {},
   "source": [
    "16. Variables that \"contain\" list values are not necessarily lists themselves. Instead, what do they contain?"
   ]
  },
  {
   "cell_type": "markdown",
   "id": "1b634c36-4cb7-47bf-bfb2-0a006d02134a",
   "metadata": {},
   "source": [
    "Variables will contain references to list values rather than list values themselves. "
   ]
  },
  {
   "cell_type": "markdown",
   "id": "2d7d741d-5889-4c50-9332-4182ed7b06f1",
   "metadata": {},
   "source": [
    "17. How do you distinguish between copy.copy() and copy.deepcopy()?"
   ]
  },
  {
   "cell_type": "markdown",
   "id": "e1d0b55b-897e-45e6-b65d-f4f4ca5b55b8",
   "metadata": {},
   "source": [
    "1. copy.copy():\n",
    "    \n",
    "The copy.copy() function creates a shallow copy of an object. It produces a new object that is a copy of the original object, but the contents of the new object still refer to the same memory locations as the original object. This means that changes made to nested or referenced objects within the copied object may affect both the original and copied objects. Shallow copying is sufficient for simple objects like lists or dictionaries that don't contain other complex objects. Here's an example:"
   ]
  },
  {
   "cell_type": "code",
   "execution_count": 8,
   "id": "fe6b2bf1-e287-470b-be52-86455fd9acfb",
   "metadata": {},
   "outputs": [
    {
     "name": "stdout",
     "output_type": "stream",
     "text": [
      "[1, 2, [5, 4]]\n"
     ]
    }
   ],
   "source": [
    "import copy\n",
    "\n",
    "original_list = [1, 2, [3, 4]]\n",
    "copied_list = copy.copy(original_list)\n",
    "\n",
    "copied_list[1] = 7\n",
    "copied_list[2][0] = 5\n",
    "\n",
    "\n",
    "print(original_list)  # Output: [1, 2, [5, 4]]\n"
   ]
  },
  {
   "cell_type": "markdown",
   "id": "e79d5744-d4e5-400e-90fa-5d1d47b30bab",
   "metadata": {},
   "source": [
    "2. copy.deepcopy():\n",
    "\n",
    "\n",
    "The copy.deepcopy() function creates a deep copy of an object. It produces a completely independent copy where both the top-level object and all its nested or referenced objects are duplicated. This means that changes made to nested objects within the copied object will not affect the original object. Deep copying is suitable when dealing with complex objects that contain other objects. Here's an example:"
   ]
  },
  {
   "cell_type": "code",
   "execution_count": 9,
   "id": "13a809db-c718-4211-a44e-5347258926db",
   "metadata": {},
   "outputs": [
    {
     "name": "stdout",
     "output_type": "stream",
     "text": [
      "[1, 2, [3, 4]]\n"
     ]
    }
   ],
   "source": [
    "import copy\n",
    "\n",
    "original_list = [1, 2, [3, 4]]\n",
    "deep_copied_list = copy.deepcopy(original_list)\n",
    "\n",
    "deep_copied_list[1] = 7\n",
    "deep_copied_list[2][0] = 5\n",
    "\n",
    "print(original_list)  # Output: [1, 2, [3, 4]]\n"
   ]
  },
  {
   "cell_type": "code",
   "execution_count": null,
   "id": "9aac513a-c904-4e6a-8bba-428f595bed73",
   "metadata": {},
   "outputs": [],
   "source": []
  }
 ],
 "metadata": {
  "kernelspec": {
   "display_name": "Python 3 (ipykernel)",
   "language": "python",
   "name": "python3"
  },
  "language_info": {
   "codemirror_mode": {
    "name": "ipython",
    "version": 3
   },
   "file_extension": ".py",
   "mimetype": "text/x-python",
   "name": "python",
   "nbconvert_exporter": "python",
   "pygments_lexer": "ipython3",
   "version": "3.10.6"
  }
 },
 "nbformat": 4,
 "nbformat_minor": 5
}
