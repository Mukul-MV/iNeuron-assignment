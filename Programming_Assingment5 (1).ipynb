{
 "cells": [
  {
   "cell_type": "markdown",
   "id": "e13c4bad",
   "metadata": {},
   "source": [
    "1. Write a Python Program to Find LCM?\n",
    "2. Write a Python Program to Find HCF?\n",
    "3. Write a Python Program to Convert Decimal to Binary, Octal and Hexadecimal?\n",
    "4. Write a Python Program To Find ASCII value of a character?\n",
    "5. Write a Python Program to Make a Simple Calculator with 4 basic mathematical operations?"
   ]
  },
  {
   "cell_type": "markdown",
   "id": "a304cc84",
   "metadata": {},
   "source": [
    "**Q1 Write a Python Program to Find LCM?**"
   ]
  },
  {
   "cell_type": "code",
   "execution_count": 3,
   "id": "022ae761",
   "metadata": {},
   "outputs": [],
   "source": [
    "def new_LCM(lstt):\n",
    "    lstt.sort()\n",
    "    higher = lstt[-1]\n",
    "    while True:\n",
    "        for i in range(len(lstt)):\n",
    "            if higher%lstt[i]==0:\n",
    "                continue\n",
    "            else:\n",
    "                higher = higher + lstt[-1]\n",
    "                break\n",
    "        else:\n",
    "            return higher\n",
    "            \n",
    "            "
   ]
  },
  {
   "cell_type": "code",
   "execution_count": 4,
   "id": "68c9eacc",
   "metadata": {},
   "outputs": [
    {
     "data": {
      "text/plain": [
       "1121120"
      ]
     },
     "execution_count": 4,
     "metadata": {},
     "output_type": "execute_result"
    }
   ],
   "source": [
    "new_LCM([55,98,65,32,14])"
   ]
  },
  {
   "cell_type": "markdown",
   "id": "07f8a83c",
   "metadata": {},
   "source": [
    "**Q2 Write a Python Program to Find HCF?**"
   ]
  },
  {
   "cell_type": "code",
   "execution_count": 37,
   "id": "24b3473b",
   "metadata": {},
   "outputs": [],
   "source": [
    "def HCF(lst):\n",
    "    lst.sort()\n",
    "    i = 0\n",
    "    while i<len(lst)-1:\n",
    "        x1 = lst[i]\n",
    "        x2 = lst[i+1]\n",
    "        while True:\n",
    "            if x2%x1==0:\n",
    "                lst[i+1]=x1\n",
    "                break\n",
    "            else:\n",
    "                x2,x1 = x1,x2%x1\n",
    "        i +=1\n",
    "    return lst[-1]\n",
    "                \n",
    "        \n",
    "        "
   ]
  },
  {
   "cell_type": "code",
   "execution_count": 38,
   "id": "1f2961e5",
   "metadata": {},
   "outputs": [
    {
     "data": {
      "text/plain": [
       "8"
      ]
     },
     "execution_count": 38,
     "metadata": {},
     "output_type": "execute_result"
    }
   ],
   "source": [
    "HCF([96,24,32])"
   ]
  },
  {
   "cell_type": "markdown",
   "id": "292cc333",
   "metadata": {},
   "source": [
    "**Q3 Write a Python Program to Convert Decimal to Binary, Octal and Hexadecimal?**"
   ]
  },
  {
   "cell_type": "code",
   "execution_count": 82,
   "id": "dd60cb13",
   "metadata": {},
   "outputs": [],
   "source": [
    "def conversion(num,typ = 2):\n",
    "    '''This function used to convert decimal to binary,octaland hexadecimal'''\n",
    "    lst_c = []\n",
    "    while num>=1:\n",
    "        if typ==2 and typ == 8:\n",
    "            lst_c.append(str(num%typ))\n",
    "            \n",
    "        else:\n",
    "            if num%typ <10:\n",
    "                lst_c.append(str(num%typ))\n",
    "            else:\n",
    "                lst_c.append(chr(96+num%typ-9))\n",
    "        num = num//typ\n",
    "        \n",
    "    if typ ==2 :\n",
    "        return \"0b\"+\"\".join(lst_c[::-1])\n",
    "    elif typ == 8:\n",
    "        return \"0o\"+\"\".join(lst_c[::-1])\n",
    "    elif typ == 16:\n",
    "        return \"0x\"+\"\".join(lst_c[::-1])\n",
    "    else :\n",
    "        return \"Not valid entry \""
   ]
  },
  {
   "cell_type": "code",
   "execution_count": 89,
   "id": "4125b64b",
   "metadata": {},
   "outputs": [
    {
     "data": {
      "text/plain": [
       "'0b1101111011100010000'"
      ]
     },
     "execution_count": 89,
     "metadata": {},
     "output_type": "execute_result"
    }
   ],
   "source": [
    "conversion(456464,2)"
   ]
  },
  {
   "cell_type": "code",
   "execution_count": 91,
   "id": "1aa7f241",
   "metadata": {},
   "outputs": [
    {
     "data": {
      "text/plain": [
       "'0o1573420'"
      ]
     },
     "execution_count": 91,
     "metadata": {},
     "output_type": "execute_result"
    }
   ],
   "source": [
    "conversion(456464,8)"
   ]
  },
  {
   "cell_type": "code",
   "execution_count": 92,
   "id": "dbfb3749",
   "metadata": {},
   "outputs": [
    {
     "data": {
      "text/plain": [
       "'0x6f710'"
      ]
     },
     "execution_count": 92,
     "metadata": {},
     "output_type": "execute_result"
    }
   ],
   "source": [
    "conversion(456464,16)"
   ]
  },
  {
   "cell_type": "code",
   "execution_count": 93,
   "id": "e86d377a",
   "metadata": {},
   "outputs": [
    {
     "data": {
      "text/plain": [
       "'Not valid entry '"
      ]
     },
     "execution_count": 93,
     "metadata": {},
     "output_type": "execute_result"
    }
   ],
   "source": [
    "conversion(456464,20)"
   ]
  },
  {
   "cell_type": "markdown",
   "id": "cdbba6b4",
   "metadata": {},
   "source": [
    "**Q4 Write a Python Program To Find ASCII value of a character?**"
   ]
  },
  {
   "cell_type": "code",
   "execution_count": 96,
   "id": "ba4ddfb5",
   "metadata": {},
   "outputs": [
    {
     "name": "stdout",
     "output_type": "stream",
     "text": [
      "please enter single character to find its ASCII valueA\n",
      "A  =  65\n"
     ]
    }
   ],
   "source": [
    "n = input(\"please enter single character to find its ASCII value\")\n",
    "print(n,\" = \",ord(n))"
   ]
  },
  {
   "cell_type": "markdown",
   "id": "00c0e767",
   "metadata": {},
   "source": [
    "**Q5 Write a Python Program to Make a Simple Calculator with 4 basic mathematical operations?**"
   ]
  },
  {
   "cell_type": "code",
   "execution_count": 218,
   "id": "5e6e1a03",
   "metadata": {},
   "outputs": [
    {
     "name": "stdout",
     "output_type": "stream",
     "text": [
      "calculate using +,-,x,/ , Please write your expression \n",
      "\n",
      "\t like = 45+98/22-45+6*11  \n",
      "\n",
      "1-4/2*2+9\n",
      " =  6\n"
     ]
    }
   ],
   "source": [
    "\n",
    "calculation = input(\"calculate using +,-,x,/ , Please write your expression \\n\\n\\t like = 45+98/22-45+6*11  \\n\\n\")\n",
    "mk =\"45+98/22-45+6*1\"\n",
    "lst_cal = []\n",
    "ch = \"\"\n",
    "for i in calculation:\n",
    "    if i.isnumeric():\n",
    "        ch += i\n",
    "    else:\n",
    "        lst_cal.append(ch)\n",
    "        lst_cal.append(i)\n",
    "        ch = \"\"\n",
    "else:\n",
    "    lst_cal.append(ch) \n",
    "    \n",
    "order = [\"/\",\"*\",\"-\",\"+\"]\n",
    "j = 0\n",
    "while len(lst_cal)>1:\n",
    "    while True:\n",
    "        if order[j]==\"/\" and \"/\" in lst_cal :\n",
    "            i = lst_cal.index(order[j])\n",
    "            lst_cal[i-1:i+2] = [int(lst_cal[i-1])/int(lst_cal[i+1])]\n",
    "            \n",
    "            break\n",
    "        elif order[j]==\"*\" and \"*\" in lst_cal :\n",
    "            i = lst_cal.index(order[j])\n",
    "            lst_cal[i-1:i+2] = [int(lst_cal[i-1])*int(lst_cal[i+1])]\n",
    "            \n",
    "            break \n",
    "        elif order[j]==\"-\" and \"-\" in lst_cal :\n",
    "            i = lst_cal.index(order[j])\n",
    "            lst_cal[i-1:i+2] = [int(lst_cal[i-1])-int(lst_cal[i+1])]\n",
    "            \n",
    "            break\n",
    "        elif order[j]==\"+\" and \"+\" in lst_cal :\n",
    "            i = lst_cal.index(order[j])\n",
    "            lst_cal[i-1:i+2] = [int(lst_cal[i-1])+int(lst_cal[i+1])]\n",
    "            \n",
    "            break\n",
    "        \n",
    "        j +=1\n",
    "            \n",
    "else:\n",
    "    print(\" = \",lst_cal[0])"
   ]
  },
  {
   "cell_type": "code",
   "execution_count": null,
   "id": "0861b8d2",
   "metadata": {},
   "outputs": [],
   "source": []
  }
 ],
 "metadata": {
  "kernelspec": {
   "display_name": "Python 3 (ipykernel)",
   "language": "python",
   "name": "python3"
  },
  "language_info": {
   "codemirror_mode": {
    "name": "ipython",
    "version": 3
   },
   "file_extension": ".py",
   "mimetype": "text/x-python",
   "name": "python",
   "nbconvert_exporter": "python",
   "pygments_lexer": "ipython3",
   "version": "3.9.7"
  }
 },
 "nbformat": 4,
 "nbformat_minor": 5
}
