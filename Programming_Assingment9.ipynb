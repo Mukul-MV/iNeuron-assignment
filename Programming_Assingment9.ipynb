{
 "cells": [
  {
   "cell_type": "code",
   "id": "dd7b0bd2-2a13-4a16-a9c5-cde610d0d116",
   "metadata": {},
   "source": [
    "1.Write a Python program to check if the given number is a Disarium Number?\n",
    "2.Write a Python program to print all disarium numbers between 1 to 100?"
   ]
  },
  {
   "cell_type": "code",
   "execution_count": 2,
   "id": "2ae4fb61-28d3-44a2-82c0-1b7d1a735f99",
   "metadata": {},
   "outputs": [],
   "source": [
    "def Disarium_No_check(x):\n",
    "    l = len(str(x))\n",
    "    copy = x\n",
    "    s = 0\n",
    "    while copy:\n",
    "        s += (copy%10)**(l)\n",
    "        copy = copy//10\n",
    "        l -= 1\n",
    "    if(s == x):\n",
    "        return True\n",
    "    else:\n",
    "        return False"
   ]
  },
  {
   "cell_type": "code",
   "execution_count": 3,
   "id": "a98f6ced-9ce9-4b27-ad2d-c053dd4ffa2f",
   "metadata": {},
   "outputs": [
    {
     "data": {
      "text/plain": [
       "True"
      ]
     },
     "execution_count": 3,
     "metadata": {},
     "output_type": "execute_result"
    }
   ],
   "source": [
    "Disarium_No_check(135)"
   ]
  },
  {
   "cell_type": "code",
   "execution_count": 4,
   "id": "5dbec69a-61b6-4987-988a-98e2e15ecd29",
   "metadata": {},
   "outputs": [
    {
     "name": "stdout",
     "output_type": "stream",
     "text": [
      "1,2,3,4,5,6,7,8,9,89,"
     ]
    }
   ],
   "source": [
    "for i in range(1,101):\n",
    "    if Disarium_No_check(i):\n",
    "        print(i,end=\",\")"
   ]
  },
  {
   "cell_type": "code",
   "id": "92711067-b518-4743-a0c8-00488f073d1d",
   "metadata": {},
   "source": [
    "3.Write a Python program to check if the given number is Happy Number?\n",
    "4.Write a Python program to print all happy numbers between 1 and 100?"
   ]
  },
  {
   "cell_type": "code",
   "execution_count": 6,
   "id": "e117399a-666b-4d49-83df-201bf7efcbf1",
   "metadata": {},
   "outputs": [],
   "source": [
    "def Happy_No(x):\n",
    "    s = 0\n",
    "    while(x):\n",
    "        s += (x%10)**2\n",
    "        x = x//10\n",
    "    \n",
    "    if(s == 1):\n",
    "        return True\n",
    "    else:\n",
    "        return Happy_No(s)\n",
    "def Happy_No_check(x):\n",
    "    try:\n",
    "        return Happy_No(x)\n",
    "    except:\n",
    "        return False"
   ]
  },
  {
   "cell_type": "code",
   "execution_count": 7,
   "id": "07e7e89c-1a6d-459d-87d3-1ced108a64f0",
   "metadata": {},
   "outputs": [
    {
     "data": {
      "text/plain": [
       "True"
      ]
     },
     "execution_count": 7,
     "metadata": {},
     "output_type": "execute_result"
    }
   ],
   "source": [
    "Happy_No_check(19)"
   ]
  },
  {
   "cell_type": "code",
   "execution_count": 8,
   "id": "3dab524a-4f59-484c-94fd-808b10350ea1",
   "metadata": {},
   "outputs": [
    {
     "name": "stdout",
     "output_type": "stream",
     "text": [
      "1,7,10,13,19,23,28,31,32,44,49,68,70,79,82,86,91,94,97,100,"
     ]
    }
   ],
   "source": [
    "for i in range(1,101):\n",
    "    if Happy_No_check(i):\n",
    "        print(i,end=\",\")"
   ]
  },
  {
   "cell_type": "code",
   "id": "4f2e783b-0fff-4095-ab7d-74974cf87239",
   "metadata": {},
   "source": [
    "5.Write a Python program to determine whether the given number is a Harshad Number?\n",
    "6.Write a Python program to print all pronic numbers between 1 and 100?"
   ]
  },
  {
   "cell_type": "code",
   "execution_count": 9,
   "id": "c4b1a82d-63fa-4ef7-9453-043ea24f119b",
   "metadata": {},
   "outputs": [],
   "source": [
    "def Harshad_No_check(x):\n",
    "    s = sum(int(i) for i in str(x))\n",
    "    if (x%s)==0:\n",
    "        return True\n",
    "    else:\n",
    "        return False"
   ]
  },
  {
   "cell_type": "code",
   "execution_count": 12,
   "id": "166df16e-eedd-4ee0-883d-238c45871c33",
   "metadata": {},
   "outputs": [
    {
     "data": {
      "text/plain": [
       "True"
      ]
     },
     "execution_count": 12,
     "metadata": {},
     "output_type": "execute_result"
    }
   ],
   "source": [
    "Harshad_No_check(202)\n",
    "Harshad_No_check(18)"
   ]
  },
  {
   "cell_type": "code",
   "execution_count": 13,
   "id": "3db47a61-9de5-47f5-af00-06529c6b62a0",
   "metadata": {},
   "outputs": [
    {
     "name": "stdout",
     "output_type": "stream",
     "text": [
      "1,2,3,4,5,6,7,8,9,10,12,18,20,21,24,27,30,36,40,42,45,48,50,54,60,63,70,72,80,81,84,90,100,"
     ]
    }
   ],
   "source": [
    "for i in range(1,101):\n",
    "    if Harshad_No_check(i):\n",
    "        print(i,end=\",\")"
   ]
  },
  {
   "cell_type": "code",
   "execution_count": null,
   "id": "75bbd58c-c5af-469c-ab61-225496cabd95",
   "metadata": {},
   "outputs": [],
   "source": []
  }
 ],
 "metadata": {
  "kernelspec": {
   "display_name": "Python 3 (ipykernel)",
   "language": "python",
   "name": "python3"
  },
  "language_info": {
   "codemirror_mode": {
    "name": "ipython",
    "version": 3
   },
   "file_extension": ".py",
   "mimetype": "text/x-python",
   "name": "python",
   "nbconvert_exporter": "python",
   "pygments_lexer": "ipython3",
   "version": "3.10.6"
  }
 },
 "nbformat": 4,
 "nbformat_minor": 5
}
