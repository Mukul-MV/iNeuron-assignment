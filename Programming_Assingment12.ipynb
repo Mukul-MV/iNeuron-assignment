{
 "cells": [
  {
   "cell_type": "markdown",
   "id": "ae6b656d-ac7e-480b-941e-1d5271b27a0b",
   "metadata": {},
   "source": [
    "1. Write a Python program to Extract Unique values dictionary values?"
   ]
  },
  {
   "cell_type": "code",
   "execution_count": 4,
   "id": "ddcab9af-57a8-4218-90d1-6515e433dd4f",
   "metadata": {},
   "outputs": [],
   "source": [
    "def unique_value(d):\n",
    "    return set(d.values())"
   ]
  },
  {
   "cell_type": "code",
   "execution_count": 6,
   "id": "6e83e476-f604-425a-be2d-39753a262c8f",
   "metadata": {},
   "outputs": [
    {
     "data": {
      "text/plain": [
       "{1, 2, 3, 5, 25}"
      ]
     },
     "execution_count": 6,
     "metadata": {},
     "output_type": "execute_result"
    }
   ],
   "source": [
    "d = { \"M\" : 5, \"v\" : 25 , \"u\" : 5,'a': 1, 'b': 2, 'c': 1, 'd': 3, 'e': 2}\n",
    "unique_value(d)"
   ]
  },
  {
   "cell_type": "markdown",
   "id": "58bf712c-2965-4e19-80f1-56d9350c9b99",
   "metadata": {},
   "source": [
    "2. Write a Python program to find the sum of all items in a dictionary?"
   ]
  },
  {
   "cell_type": "code",
   "execution_count": 8,
   "id": "90b12924-5918-4622-8499-f7ae47f0b715",
   "metadata": {},
   "outputs": [
    {
     "data": {
      "text/plain": [
       "25"
      ]
     },
     "execution_count": 8,
     "metadata": {},
     "output_type": "execute_result"
    }
   ],
   "source": [
    "def sum_of_dictionary_items(dictionary):\n",
    "    \n",
    "    total_sum = sum(dictionary.values())\n",
    "\n",
    "    return total_sum\n",
    "\n",
    "\n",
    "my_dict = {'a': 5, 'b': 10, 'c': 3, 'd': 7}\n",
    "sum_of_dictionary_items(my_dict)"
   ]
  },
  {
   "cell_type": "markdown",
   "id": "c0eda601-7d6c-45d0-b853-8825effa421a",
   "metadata": {},
   "source": [
    "3. Write a Python program to Merging two Dictionaries?"
   ]
  },
  {
   "cell_type": "code",
   "execution_count": 3,
   "id": "34627455-fd23-4b1b-b5e0-1c6706c5be88",
   "metadata": {},
   "outputs": [
    {
     "data": {
      "text/plain": [
       "{'a': 5, 'b': 10, 'c': 3, 'd': 7, 'M': 5, 'v': 25, 'u': 5, 'e': 2}"
      ]
     },
     "execution_count": 3,
     "metadata": {},
     "output_type": "execute_result"
    }
   ],
   "source": [
    "def dict_merge(d1,d2):\n",
    "    \n",
    "    d1.update(d2)\n",
    "    \n",
    "    return d1\n",
    "\n",
    "d1 = {'a': 5, 'b': 10, 'c': 3, 'd': 7}\n",
    "d2 = { \"M\" : 5, \"v\" : 25 , \"u\" : 5,'e': 2}\n",
    "\n",
    "dict_merge(d1,d2)"
   ]
  },
  {
   "cell_type": "markdown",
   "id": "8f368ed9-6525-4326-8b97-8efcb7cef90d",
   "metadata": {},
   "source": [
    "4. Write a Python program to convert key-values list to flat dictionary?"
   ]
  },
  {
   "cell_type": "code",
   "execution_count": 4,
   "id": "1d0a0d73-6ccd-46ec-8f4a-0144af4d754f",
   "metadata": {},
   "outputs": [
    {
     "name": "stdout",
     "output_type": "stream",
     "text": [
      "Flat dictionary: {'a': 1, 'b': 2, 'c': 3, 'd': 4}\n"
     ]
    }
   ],
   "source": [
    "def convert_to_flat_dictionary(key_value_list):\n",
    "    flat_dict = {}\n",
    "    for pair in key_value_list:\n",
    "        key, value = pair\n",
    "        flat_dict[key] = value\n",
    "\n",
    "    return flat_dict\n",
    "\n",
    "key_value_list = [('a', 1), ('b', 2), ('c', 3), ('d', 4)]\n",
    "flat_dictionary = convert_to_flat_dictionary(key_value_list)\n",
    "print(\"Flat dictionary:\", flat_dictionary)\n"
   ]
  },
  {
   "cell_type": "markdown",
   "id": "1e51a9e1-3bca-49b9-805d-b32acd2be448",
   "metadata": {},
   "source": [
    "5. Write a Python program to insertion at the beginning in OrderedDict?"
   ]
  },
  {
   "cell_type": "code",
   "execution_count": 13,
   "id": "22f5c337-4ed3-4f5c-be20-38c66d441de6",
   "metadata": {},
   "outputs": [
    {
     "name": "stdout",
     "output_type": "stream",
     "text": [
      "Updated OrderedDict: OrderedDict([('d', 4), ('a', 1), ('b', 2), ('c', 3)])\n"
     ]
    }
   ],
   "source": [
    "from collections import OrderedDict\n",
    "\n",
    "def insert_at_beginning(ordered_dict, key, value):\n",
    "    \n",
    "   \n",
    "    ordered_dict[key] = value\n",
    "   \n",
    "    ordered_dict.move_to_end(key,last=False)   \n",
    "\n",
    "    return ordered_dict\n",
    "\n",
    "\n",
    "ordered_dict = OrderedDict([('a', 1), ('b', 2), ('c', 3)])\n",
    "key = 'd'\n",
    "value = 4\n",
    "\n",
    "updated_dict = insert_at_beginning(ordered_dict, key, value)\n",
    "print(\"Updated OrderedDict:\", updated_dict)\n"
   ]
  },
  {
   "cell_type": "markdown",
   "id": "85b9f048-9a26-4dbf-8f65-186f67ec8e9f",
   "metadata": {},
   "source": [
    "6. Write a Python program to check order of character in string using OrderedDict()?"
   ]
  },
  {
   "cell_type": "code",
   "execution_count": 4,
   "id": "a334c4e6-8c95-4c82-895a-0799608116b0",
   "metadata": {},
   "outputs": [
    {
     "name": "stdout",
     "output_type": "stream",
     "text": [
      "True\n"
     ]
    }
   ],
   "source": [
    "from collections import OrderedDict\n",
    "\n",
    "def checkOrder(input, pattern):\n",
    "    dict = OrderedDict.fromkeys(input)\n",
    "\n",
    "    ptrlen = 0\n",
    "    for key,value in dict.items():\n",
    "        if (key == pattern[ptrlen]):\n",
    "            ptrlen = ptrlen + 1\n",
    "\n",
    "        if (ptrlen == (len(pattern))):\n",
    "            return True\n",
    "\n",
    "    return False\n",
    "\n",
    "\n",
    "\n",
    "input = 'engineers rock'\n",
    "pattern = 'er'\n",
    "print (checkOrder(input,pattern))\n"
   ]
  },
  {
   "cell_type": "markdown",
   "id": "f3002c92-7d07-4be2-ab7b-b50a6d4aa2c3",
   "metadata": {},
   "source": [
    "7. Write a Python program to sort Python Dictionaries by Key or Value?"
   ]
  },
  {
   "cell_type": "code",
   "execution_count": 19,
   "id": "32e9bd1f-36ef-4d78-b581-292bb3f61478",
   "metadata": {},
   "outputs": [],
   "source": [
    "def Sort_dict(dct , by = \"keys\"):\n",
    "    if by.lower() == \"keys\" :\n",
    "        \n",
    "        return dict(sorted(dct.items()))\n",
    "    elif (by.lower() == \"values\"):\n",
    "        \n",
    "        return dict(sorted(dct.items(), key=lambda x: x[1]))\n",
    "    else:\n",
    "        raise ValueError('''either enter 'keys\" or 'values' for sorting''')"
   ]
  },
  {
   "cell_type": "code",
   "execution_count": 21,
   "id": "8c2a7f2b-13b3-4c2e-99da-1ecf72841aee",
   "metadata": {},
   "outputs": [
    {
     "data": {
      "text/plain": [
       "{'durian': 1, '2anana': 2, '1cherry': 3, '2apple': 4}"
      ]
     },
     "execution_count": 21,
     "metadata": {},
     "output_type": "execute_result"
    }
   ],
   "source": [
    "d = {'2apple': 4, '2anana': 2, '1cherry': 3, 'durian': 1}\n",
    "Sort_dict(d,\"values\")"
   ]
  },
  {
   "cell_type": "code",
   "execution_count": null,
   "id": "c3f92763-5765-42b6-87ab-e3a0b6cb708a",
   "metadata": {},
   "outputs": [],
   "source": []
  }
 ],
 "metadata": {
  "kernelspec": {
   "display_name": "Python 3 (ipykernel)",
   "language": "python",
   "name": "python3"
  },
  "language_info": {
   "codemirror_mode": {
    "name": "ipython",
    "version": 3
   },
   "file_extension": ".py",
   "mimetype": "text/x-python",
   "name": "python",
   "nbconvert_exporter": "python",
   "pygments_lexer": "ipython3",
   "version": "3.10.6"
  }
 },
 "nbformat": 4,
 "nbformat_minor": 5
}
