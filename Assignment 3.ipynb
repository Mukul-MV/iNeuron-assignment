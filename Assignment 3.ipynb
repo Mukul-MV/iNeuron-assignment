{
 "cells": [
  {
   "cell_type": "markdown",
   "id": "f7456c11",
   "metadata": {},
   "source": [
    "**1. Why are functions advantageous to have in your programs?**"
   ]
  },
  {
   "cell_type": "code",
   "execution_count": null,
   "id": "3e4600ed",
   "metadata": {},
   "outputs": [],
   "source": [
    "1) reusability of methods \n",
    "2) easier to read ,use and update\n",
    "3) reduce duplication of code"
   ]
  },
  {
   "cell_type": "markdown",
   "id": "3e0ace1c",
   "metadata": {},
   "source": [
    "**2. When does the code in a function run: when it's specified or when it's called?**"
   ]
  },
  {
   "cell_type": "code",
   "execution_count": null,
   "id": "bc6f790b",
   "metadata": {},
   "outputs": [],
   "source": [
    "whenever its is called at that time function code runs"
   ]
  },
  {
   "cell_type": "markdown",
   "id": "30e6a2f0",
   "metadata": {},
   "source": [
    "**3. What statement creates a function?**"
   ]
  },
  {
   "cell_type": "code",
   "execution_count": null,
   "id": "7ffb40ce",
   "metadata": {},
   "outputs": [],
   "source": [
    "def function_name():\n",
    "    pass( \"body of code\")\n",
    "\n",
    "    \"def\" used to create function "
   ]
  },
  {
   "cell_type": "markdown",
   "id": "23da72eb",
   "metadata": {},
   "source": [
    "**4. What is the difference between a function and a function call?**"
   ]
  },
  {
   "cell_type": "code",
   "execution_count": null,
   "id": "cc64924c",
   "metadata": {},
   "outputs": [],
   "source": [
    "A function is a body where code is written by passing parameters into it (not mandatory) and\n",
    "perform some operation and return a result\n",
    "whereas\n",
    "\n",
    "A function call is a code which after writting passes control to the function itself.\n",
    "function call means invoking function use in our programing ,unless a function is called there is no use of function.\n",
    "\n",
    "\n",
    "def sum(a,b):  # function\n",
    "    return a+b\n",
    "\n",
    "x = sum(5,9)  # function call\n",
    "\n"
   ]
  },
  {
   "cell_type": "markdown",
   "id": "4a0dc0ac",
   "metadata": {},
   "source": [
    "**5. How many global scopes are there in a Python program? How many local scopes?**"
   ]
  },
  {
   "cell_type": "code",
   "execution_count": null,
   "id": "26359c82",
   "metadata": {},
   "outputs": [],
   "source": [
    "there is 1 for global scopes\n",
    "and many for local scope."
   ]
  },
  {
   "cell_type": "markdown",
   "id": "b612404d",
   "metadata": {},
   "source": [
    "**6. What happens to variables in a local scope when the function call returns?**"
   ]
  },
  {
   "cell_type": "code",
   "execution_count": null,
   "id": "05a800e2",
   "metadata": {},
   "outputs": [],
   "source": [
    "Its local variables get destroyed once the function returns its result."
   ]
  },
  {
   "cell_type": "markdown",
   "id": "de232faa",
   "metadata": {},
   "source": [
    "**7. What is the concept of a return value? Is it possible to have a return value in an expression?**"
   ]
  },
  {
   "cell_type": "code",
   "execution_count": null,
   "id": "628b92f8",
   "metadata": {},
   "outputs": [],
   "source": [
    "return used at the end of the function and it can return any data type or None.\n",
    "after execution of the return statement, no other execution will be performed in function,\n",
    "and yes in any expression we can use return value but its value should coherent with expresion requirements."
   ]
  },
  {
   "cell_type": "markdown",
   "id": "77682b4b",
   "metadata": {},
   "source": [
    "**8. If a function does not have a return statement, what is the return value of a call to that function?**"
   ]
  },
  {
   "cell_type": "code",
   "execution_count": null,
   "id": "f28eb688",
   "metadata": {},
   "outputs": [],
   "source": [
    "None"
   ]
  },
  {
   "cell_type": "markdown",
   "id": "1d39102f",
   "metadata": {},
   "source": [
    "**9. How do you make a function variable refer to the global variable?**"
   ]
  },
  {
   "cell_type": "code",
   "execution_count": null,
   "id": "05037d3e",
   "metadata": {},
   "outputs": [],
   "source": [
    "def fxn(x):\n",
    "    global y #it will access or create global variable \n",
    "    y = x\n",
    "    \n",
    "    return y\n"
   ]
  },
  {
   "cell_type": "markdown",
   "id": "e6e46973",
   "metadata": {},
   "source": [
    "**10. What is the data type of None?**"
   ]
  },
  {
   "cell_type": "code",
   "execution_count": null,
   "id": "2cbabc97",
   "metadata": {},
   "outputs": [],
   "source": [
    "Null"
   ]
  },
  {
   "cell_type": "markdown",
   "id": "a0b4f8f3",
   "metadata": {},
   "source": [
    "**11. What does the sentence import areallyourpetsnamederic do?**"
   ]
  },
  {
   "cell_type": "code",
   "execution_count": null,
   "id": "80df0bee",
   "metadata": {},
   "outputs": [],
   "source": [
    "it will give access to use already defined function of module name areallyourpetsnamederic."
   ]
  },
  {
   "cell_type": "markdown",
   "id": "23b5092d",
   "metadata": {},
   "source": [
    "**12. If you had a bacon() feature in a spam module, what would you call it after importing spam?**"
   ]
  },
  {
   "cell_type": "code",
   "execution_count": null,
   "id": "5262b074",
   "metadata": {},
   "outputs": [],
   "source": [
    "spam.bacon()"
   ]
  },
  {
   "cell_type": "markdown",
   "id": "d33292db",
   "metadata": {},
   "source": [
    "**13. What can you do to save a programme from crashing if it encounters an error?**"
   ]
  },
  {
   "cell_type": "code",
   "execution_count": null,
   "id": "dbb9d501",
   "metadata": {},
   "outputs": [],
   "source": [
    "write code inside exceptional handling."
   ]
  },
  {
   "cell_type": "markdown",
   "id": "0a648c88",
   "metadata": {},
   "source": [
    "**14. What is the purpose of the try clause? What is the purpose of the except clause?**"
   ]
  },
  {
   "cell_type": "code",
   "execution_count": null,
   "id": "aa86a0ea",
   "metadata": {},
   "outputs": [],
   "source": [
    "\"try\" clause try to execute the written code \n",
    "    if code does not work and gives us non syntatical error than \n",
    "    code jumps to \"except\" clause and print or return statement whatever written inside \"except\" clause\n"
   ]
  }
 ],
 "metadata": {
  "kernelspec": {
   "display_name": "Python 3 (ipykernel)",
   "language": "python",
   "name": "python3"
  },
  "language_info": {
   "codemirror_mode": {
    "name": "ipython",
    "version": 3
   },
   "file_extension": ".py",
   "mimetype": "text/x-python",
   "name": "python",
   "nbconvert_exporter": "python",
   "pygments_lexer": "ipython3",
   "version": "3.9.7"
  }
 },
 "nbformat": 4,
 "nbformat_minor": 5
}
