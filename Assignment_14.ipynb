{
 "cells": [
  {
   "cell_type": "markdown",
   "id": "9a764aa2-0c83-467c-ada5-c3d09b8fa2da",
   "metadata": {},
   "source": [
    "1. What does RGBA stand for?"
   ]
  },
  {
   "cell_type": "markdown",
   "id": "a52456cc-b0b6-48d0-9bba-edcd19227a0c",
   "metadata": {},
   "source": [
    "Ans: RGBA is a four-channel format containing data for Red, Green, Blue, and an Alpha value. Where Alpha Represents the Opacity"
   ]
  },
  {
   "cell_type": "markdown",
   "id": "35b364e7-e98f-4f5d-b35c-4eee4470bd1b",
   "metadata": {},
   "source": [
    "2. From the Pillow module, how do you get the RGBA value of any images?"
   ]
  },
  {
   "cell_type": "markdown",
   "id": "6ebc474d-0ae7-4134-8f72-3b41c63f0e1c",
   "metadata": {},
   "source": [
    "Ans: Iimage.getpixel((x, y)) gives rgba value of any image"
   ]
  },
  {
   "cell_type": "code",
   "execution_count": 3,
   "id": "b9d91e27-d3b9-422a-bb1b-0cb1dd0692db",
   "metadata": {},
   "outputs": [
    {
     "name": "stdout",
     "output_type": "stream",
     "text": [
      "(221, 222, 217)\n"
     ]
    }
   ],
   "source": [
    "from PIL import Image\n",
    "\n",
    "# Open the image\n",
    "image = Image.open('check.jpg')\n",
    "\n",
    "# Get the RGBA value of a pixel\n",
    "rgba = image.getpixel((50, 50))\n",
    "print(rgba)"
   ]
  },
  {
   "cell_type": "markdown",
   "id": "f450c522-0d5c-4dd9-be2a-101bad118c1c",
   "metadata": {},
   "source": [
    "3. What is a box tuple, and how does it work?"
   ]
  },
  {
   "cell_type": "markdown",
   "id": "51764bea-ab84-40ea-8724-ed7837e32931",
   "metadata": {},
   "source": [
    "Ans: A box tuple is a tuple value of four integers: the left-edge x-coordinate, the top-edge y-coordinate,the width, and the height, respectively.\n",
    "\n",
    "*  It is commonly used in various libraries and frameworks for tasks such as image processing, computer vision, and graphical user interfaces (GUIs).\n",
    "\n",
    "* By defining a box tuple, you can represent and work with rectangular regions in a concise and consistent manner. It allows you to specify the position and extent of objects or regions of interest within an image or a graphical interface.\n",
    "* For example, in computer vision applications, a box tuple can be used to represent the location of detected objects or regions of interest in an image. It enables you to extract or manipulate specific portions of the image based on their bounding box coordinates."
   ]
  },
  {
   "cell_type": "markdown",
   "id": "397dc348-24a3-449c-b720-15c277709ea9",
   "metadata": {},
   "source": [
    "4. Use your image and load in notebook then, How can you find out the width and height of an Image object?"
   ]
  },
  {
   "cell_type": "code",
   "execution_count": 4,
   "id": "7066ec4b-9da8-4083-8cc1-50de70cd9b8c",
   "metadata": {},
   "outputs": [
    {
     "name": "stdout",
     "output_type": "stream",
     "text": [
      "Width, Height -> (1000, 667)\n",
      "Width, Height -> 1000,667\n",
      "Width, Height -> 1000,667\n"
     ]
    }
   ],
   "source": [
    "from PIL import Image\n",
    "pic = Image.open('check.jpg')\n",
    "print(f'Width, Height -> {pic.size}') # Approach 1\n",
    "print(f'Width, Height -> {pic.width},{pic.height}') # Approach 2\n",
    "width,height = pic.size\n",
    "print(f'Width, Height -> {width},{height}') # Approach 3"
   ]
  },
  {
   "cell_type": "markdown",
   "id": "fad6f8fb-8dd0-4500-9d21-15cb8416fd19",
   "metadata": {},
   "source": [
    "5. What method would you call to get Image object for a 100×100 image, excluding the lower-left quarter of it?"
   ]
  },
  {
   "cell_type": "code",
   "execution_count": 5,
   "id": "77093b5f-4cfb-48e6-b176-2c7632ba94ae",
   "metadata": {},
   "outputs": [],
   "source": [
    "from PIL import Image\n",
    "img = Image.open('check.jpg')\n",
    "new_img = img.crop((0,50,50,50))"
   ]
  },
  {
   "cell_type": "markdown",
   "id": "757623d0-3554-4a88-a26a-f248298f5b2d",
   "metadata": {},
   "source": [
    "6. After making changes to an Image object, how could you save it as an image file?"
   ]
  },
  {
   "cell_type": "code",
   "execution_count": 6,
   "id": "3897410d-6213-4206-a523-8fec95219278",
   "metadata": {},
   "outputs": [],
   "source": [
    "from PIL import Image\n",
    "pic = Image.open('check.jpg')\n",
    "pic.save('checkupdated.jpg')"
   ]
  },
  {
   "cell_type": "markdown",
   "id": "27bfb683-8cda-490d-b0b8-d584ff42ccbb",
   "metadata": {},
   "source": [
    "7. What module contains Pillow’s shape-drawing code?"
   ]
  },
  {
   "cell_type": "markdown",
   "id": "6528ace5-0c81-428a-9317-d466d91d0904",
   "metadata": {},
   "source": [
    "Ans: Pillows ImageDraw module contains Shape drawing methods"
   ]
  },
  {
   "cell_type": "markdown",
   "id": "3a3b23e2-2030-40b8-8660-fc1fd3ba1031",
   "metadata": {},
   "source": [
    "8. Image objects do not have drawing methods. What kind of object does? How do you get this kind of object?"
   ]
  },
  {
   "cell_type": "markdown",
   "id": "fddfcf3d-6658-4a95-9dc3-2cdbff63cd18",
   "metadata": {},
   "source": [
    "Ans: ImageDraw objects have shape-drawing methods such as point(), line(), or rectangle().They are returned by passing the Image object to the ImageDraw.Draw() function."
   ]
  },
  {
   "cell_type": "code",
   "execution_count": null,
   "id": "4ad7a834-ec6d-4a6b-af28-3a8f2d839f31",
   "metadata": {},
   "outputs": [],
   "source": []
  }
 ],
 "metadata": {
  "kernelspec": {
   "display_name": "Python 3 (ipykernel)",
   "language": "python",
   "name": "python3"
  },
  "language_info": {
   "codemirror_mode": {
    "name": "ipython",
    "version": 3
   },
   "file_extension": ".py",
   "mimetype": "text/x-python",
   "name": "python",
   "nbconvert_exporter": "python",
   "pygments_lexer": "ipython3",
   "version": "3.9.7"
  }
 },
 "nbformat": 4,
 "nbformat_minor": 5
}
