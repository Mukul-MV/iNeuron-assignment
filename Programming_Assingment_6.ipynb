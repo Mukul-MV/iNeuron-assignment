{
 "cells": [
  {
   "cell_type": "markdown",
   "id": "198df6f2-8294-4328-9874-14494cfe90c4",
   "metadata": {},
   "source": [
    "1. Write a Python Program to Display Fibonacci Sequence Using Recursion?\n",
    "2. Write a Python Program to Find Factorial of Number Using Recursion?\n",
    "3. Write a Python Program to calculate your Body Mass Index?\n",
    "4. Write a Python Program to calculate the natural logarithm of any number?\n",
    "5. Write a Python Program for cube sum of first n natural numbers?\n"
   ]
  },
  {
   "cell_type": "markdown",
   "id": "1004f57e-87aa-4ac4-a386-cce7c73adcb5",
   "metadata": {},
   "source": [
    "**1.Write a Python Program to Display Fibonacci Sequence Using Recursion?**"
   ]
  },
  {
   "cell_type": "code",
   "execution_count": 1,
   "id": "26f25c1e-82b6-4f79-aa69-7d2764a05a02",
   "metadata": {},
   "outputs": [],
   "source": [
    "def fib(n):\n",
    "    if n == 1 or n == 2:\n",
    "        return 1\n",
    "    else:\n",
    "        return (fib(n-1)+fib(n-2))\n",
    "def display_fib(n):\n",
    "    if n<=0:\n",
    "        print(\"enter positive integer\")\n",
    "    else:\n",
    "        for i in range(n):\n",
    "            print(fib(i+1),end=\" \")"
   ]
  },
  {
   "cell_type": "code",
   "execution_count": 2,
   "id": "f08c3250-7709-4d24-b650-8302b4f55ad2",
   "metadata": {
    "tags": []
   },
   "outputs": [
    {
     "name": "stdout",
     "output_type": "stream",
     "text": [
      "1 1 2 3 5 8 13 21 34 55 89 144 "
     ]
    }
   ],
   "source": [
    "display_fib(12)"
   ]
  },
  {
   "cell_type": "markdown",
   "id": "1276439b-f5fc-4c3e-8c29-b51b4c9e97c0",
   "metadata": {},
   "source": [
    "**2.Write a Python Program to Find Factorial of Number Using Recursion?**"
   ]
  },
  {
   "cell_type": "code",
   "execution_count": 3,
   "id": "69124ec9-875f-4e50-9204-5e25eee5ae61",
   "metadata": {},
   "outputs": [],
   "source": [
    "def factorial(n):\n",
    "    if n==0 or n == 1:\n",
    "        return 1\n",
    "    else:\n",
    "        return n*factorial(n-1)"
   ]
  },
  {
   "cell_type": "code",
   "execution_count": 4,
   "id": "75da17a8-becd-4876-aae8-905ac45b6d8a",
   "metadata": {},
   "outputs": [
    {
     "data": {
      "text/plain": [
       "120"
      ]
     },
     "execution_count": 4,
     "metadata": {},
     "output_type": "execute_result"
    }
   ],
   "source": [
    "factorial(5)"
   ]
  },
  {
   "cell_type": "markdown",
   "id": "8e817aa6-192b-4d08-a399-5de7a34ba6bb",
   "metadata": {},
   "source": [
    "**3.Write a Python Program to calculate your Body Mass Index?**"
   ]
  },
  {
   "cell_type": "code",
   "execution_count": 5,
   "id": "5940d674-486d-45df-a296-cacf2c4b389b",
   "metadata": {},
   "outputs": [],
   "source": [
    "def body_mass_index(weight,height):\n",
    "    BMI = weight/(height)**2\n",
    "    return BMI\n",
    "    "
   ]
  },
  {
   "cell_type": "code",
   "execution_count": 6,
   "id": "e5dea8c6-464e-46a8-9e6b-517fbb5d0b21",
   "metadata": {},
   "outputs": [
    {
     "data": {
      "text/plain": [
       "23.711844630960897"
      ]
     },
     "execution_count": 6,
     "metadata": {},
     "output_type": "execute_result"
    }
   ],
   "source": [
    "body_mass_index(63,1.63)"
   ]
  },
  {
   "cell_type": "markdown",
   "id": "11e93d0e-d990-4ca7-9bcb-f27fb63c668e",
   "metadata": {},
   "source": [
    "**4.Write a Python Program to calculate the natural logarithm of any number?**"
   ]
  },
  {
   "cell_type": "code",
   "execution_count": 7,
   "id": "b55b8c6e-f19b-446d-8dcc-9801de57e27d",
   "metadata": {},
   "outputs": [],
   "source": [
    "def n_log(n):\n",
    "    import math    \n",
    "    return math.log(n)"
   ]
  },
  {
   "cell_type": "code",
   "execution_count": 8,
   "id": "62f35789-cfc2-4bb8-aca1-6359c3b56b83",
   "metadata": {},
   "outputs": [
    {
     "data": {
      "text/plain": [
       "1.3862943611198906"
      ]
     },
     "execution_count": 8,
     "metadata": {},
     "output_type": "execute_result"
    }
   ],
   "source": [
    "n_log(4)"
   ]
  },
  {
   "cell_type": "markdown",
   "id": "e13aa76e-d47f-4c5a-87f1-e4cc0b494a40",
   "metadata": {},
   "source": [
    "**5.Write a Python Program for cube sum of first n natural numbers?**"
   ]
  },
  {
   "cell_type": "code",
   "execution_count": 9,
   "id": "b878943d-d06d-4a7a-adec-73e770b113dc",
   "metadata": {},
   "outputs": [],
   "source": [
    "def cube_sum(n):\n",
    "    if n <=0 :\n",
    "        print(\"enter natural numbers only , greater than equal to 1\")\n",
    "    elif n == 1:\n",
    "        return 1\n",
    "    else:\n",
    "        return (n**3)+cube_sum(n-1)"
   ]
  },
  {
   "cell_type": "code",
   "execution_count": 10,
   "id": "323de633-31db-43bb-a720-7df4f785648a",
   "metadata": {},
   "outputs": [
    {
     "data": {
      "text/plain": [
       "225"
      ]
     },
     "execution_count": 10,
     "metadata": {},
     "output_type": "execute_result"
    }
   ],
   "source": [
    "cube_sum(5)"
   ]
  },
  {
   "cell_type": "code",
   "execution_count": null,
   "id": "86e32dcf-abee-4d5b-a18f-5d60a0314d13",
   "metadata": {},
   "outputs": [],
   "source": []
  },
  {
   "cell_type": "code",
   "execution_count": null,
   "id": "97c0218b-e9d1-4a13-aa58-2e41b3ae3728",
   "metadata": {},
   "outputs": [],
   "source": []
  }
 ],
 "metadata": {
  "kernelspec": {
   "display_name": "Python 3 (ipykernel)",
   "language": "python",
   "name": "python3"
  },
  "language_info": {
   "codemirror_mode": {
    "name": "ipython",
    "version": 3
   },
   "file_extension": ".py",
   "mimetype": "text/x-python",
   "name": "python",
   "nbconvert_exporter": "python",
   "pygments_lexer": "ipython3",
   "version": "3.9.12"
  }
 },
 "nbformat": 4,
 "nbformat_minor": 5
}
