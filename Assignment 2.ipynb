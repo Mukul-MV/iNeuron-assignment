{
 "cells": [
  {
   "cell_type": "markdown",
   "id": "af925ed4",
   "metadata": {},
   "source": [
    "**1.What are the two values of the Boolean data type? How do you write them?**"
   ]
  },
  {
   "cell_type": "markdown",
   "id": "9d3c45dd",
   "metadata": {},
   "source": [
    "Ans:-\n",
    "    2 values of boolean data type are :- True and False\n",
    "    we write them in code same as it is and it is case sensitive. So, \"T\" in True and \"F\" in False should be capital.\n",
    "        True \n",
    "        False\n",
    "        "
   ]
  },
  {
   "cell_type": "markdown",
   "id": "b571b58f",
   "metadata": {},
   "source": [
    "**2. What are the three different types of Boolean operators?**"
   ]
  },
  {
   "cell_type": "markdown",
   "id": "a89616cc",
   "metadata": {},
   "source": [
    "Ans:-\n",
    "    And \n",
    "    Or\n",
    "    Not"
   ]
  },
  {
   "cell_type": "markdown",
   "id": "f940f3a1",
   "metadata": {},
   "source": [
    "**3. Make a list of each Boolean operator's truth tables (i.e. every possible combination of Boolean values for the operator and what it evaluate ).**"
   ]
  },
  {
   "cell_type": "markdown",
   "id": "0a0f0e68",
   "metadata": {},
   "source": [
    "Col_1 | Col_2 | Not of col_1 | Not of col_2 | And   | Or    |\n",
    "True  | False | False        | True         | False | True  |\n",
    "True  | True  | False        | False        | True  | True  |\n",
    "False | True  | True         | False        | False | True  |\n",
    "False | False | True         | True         | False | False | "
   ]
  },
  {
   "cell_type": "markdown",
   "id": "7b449969",
   "metadata": {},
   "source": [
    "**4. What are the values of the following expressions?**\n"
   ]
  },
  {
   "cell_type": "markdown",
   "id": "5f040d74",
   "metadata": {},
   "source": [
    "(5 > 4) and (3 == 5) \n",
    "not (5 > 4)\n",
    "(5 > 4) or (3 == 5)\n",
    "not ((5 > 4) or (3 == 5))\n",
    "(True and True) and (True == False)\n",
    "(not False) or (not True)"
   ]
  },
  {
   "cell_type": "markdown",
   "id": "3f475764",
   "metadata": {},
   "source": [
    "Ans:-\n",
    "\n",
    "False\n",
    "False\n",
    "True\n",
    "False\n",
    "False\n",
    "True\n"
   ]
  },
  {
   "cell_type": "markdown",
   "id": "8def0741",
   "metadata": {},
   "source": [
    "**5. What are the six comparison operators?**"
   ]
  },
  {
   "cell_type": "markdown",
   "id": "9ee1f896",
   "metadata": {},
   "source": [
    ">\n",
    "<\n",
    ">=\n",
    "<=\n",
    "==\n",
    "!="
   ]
  },
  {
   "cell_type": "markdown",
   "id": "abb6df2b",
   "metadata": {},
   "source": [
    "**6. How do you tell the difference between the equal to and assignment operators?Describe a condition and when you would use one.**"
   ]
  },
  {
   "cell_type": "markdown",
   "id": "cbad3641",
   "metadata": {},
   "source": [
    "              \"=\"                                                                 \"==\"\n",
    "       it is assignment operator                                       it is comperision operator\n",
    "values in right side assign to left side of variable            its is used to compare 2 values and if both are equal gives\n",
    "                                                                \"True\" else \"False\"\n",
    "variable position is fixed on left side                         variable position can be any side\n",
    "\n",
    "check below codes examples"
   ]
  },
  {
   "cell_type": "code",
   "execution_count": 1,
   "id": "c638a904",
   "metadata": {},
   "outputs": [
    {
     "name": "stdout",
     "output_type": "stream",
     "text": [
      "a =  4\n",
      "b = 6\n"
     ]
    }
   ],
   "source": [
    "a = 4\n",
    "b = 6\n",
    "print(\"a = \",a)\n",
    "print(\"b =\",b)"
   ]
  },
  {
   "cell_type": "code",
   "execution_count": 2,
   "id": "b3c479e4",
   "metadata": {},
   "outputs": [
    {
     "name": "stdout",
     "output_type": "stream",
     "text": [
      "a and b are not same\n",
      "a==b is equal to  False\n"
     ]
    }
   ],
   "source": [
    "if a == b:\n",
    "    print(\"a and b are same\")\n",
    "    print(\"a==b is equalt to\",a==b)\n",
    "else :\n",
    "    print(\"a and b are not same\")\n",
    "    print(\"a==b is equal to \",a==b)\n",
    "    "
   ]
  },
  {
   "cell_type": "markdown",
   "id": "50e97975",
   "metadata": {},
   "source": [
    "**7. Identify the three blocks in this code:**"
   ]
  },
  {
   "cell_type": "code",
   "execution_count": 4,
   "id": "6871f575",
   "metadata": {},
   "outputs": [
    {
     "name": "stdout",
     "output_type": "stream",
     "text": [
      "ham\n",
      "spam\n",
      "spam\n"
     ]
    }
   ],
   "source": [
    "spam = 5\n",
    "if spam == 10:              # block 1\n",
    "    print('eggs')\n",
    "if spam > 5:                   #block 2\n",
    "    print('bacon')\n",
    "else:                          #block 3\n",
    "    print('ham')\n",
    "    print('spam')\n",
    "    print('spam')\n"
   ]
  },
  {
   "cell_type": "markdown",
   "id": "6bfbe63d",
   "metadata": {},
   "source": [
    "**8. Write code that prints Hello if 1 is stored in spam, prints Howdy if 2 is stored in spam, and prints Greetings! if anything else is stored in spam.**"
   ]
  },
  {
   "cell_type": "code",
   "execution_count": 5,
   "id": "288f45a3",
   "metadata": {},
   "outputs": [
    {
     "name": "stdout",
     "output_type": "stream",
     "text": [
      "please enter number =  2\n",
      "Howdy\n"
     ]
    }
   ],
   "source": [
    "spam = int(input(\"please enter number =  \"))\n",
    "if spam ==1 :\n",
    "    print(\"Hello\")\n",
    "elif spam == 2:\n",
    "    print(\"Howdy\")\n",
    "else :\n",
    "    print(\"Greetings!\")"
   ]
  },
  {
   "cell_type": "markdown",
   "id": "394cd30f",
   "metadata": {},
   "source": [
    "**9.If your programme is stuck in an endless loop, what keys you’ll press?**"
   ]
  },
  {
   "cell_type": "markdown",
   "id": "dc89a6b6",
   "metadata": {},
   "source": [
    "Ctrl+c"
   ]
  },
  {
   "cell_type": "markdown",
   "id": "5ef48789",
   "metadata": {},
   "source": [
    "**10. How can you tell the difference between break and continue?**"
   ]
  },
  {
   "cell_type": "markdown",
   "id": "dac18a16",
   "metadata": {},
   "source": [
    "break :-  break used to exit loop or enclosing loop in which break is being executed \n",
    "where \n",
    "Continue :- is used to close the loop or redirect to the starting of the loop "
   ]
  },
  {
   "cell_type": "markdown",
   "id": "4ccced42",
   "metadata": {},
   "source": [
    "**11. In a for loop, what is the difference between range(10), range(0, 10), and range(0, 10, 1)?**"
   ]
  },
  {
   "cell_type": "markdown",
   "id": "6e4d065d",
   "metadata": {},
   "source": [
    "range(10)        :- here only upper limit mention i.e \"10\" , and its output range is 0 to 9 , excluding upper limit number.\n",
    "                    by default lower limit will be \"0\" and steps size = \"1\" , it is used when we are not concern about its                     lower limit and step size.\n",
    "range(0,10)      :- here \"0\" is starting or lower limit and \"10\" is ending or upper limit excluding \"10\",and its output                         range is 0 to 9 , excluding upper limit number.\n",
    "                    by default its steps size is \"1\" , here it is used when we are not concern about its step size. \n",
    "range(0,10,1)    :- here \"0\" is starting or lower limit , \"10\" is ending or upper limit excluding \"10\",and \"1\" is its steps                     size , and its output range is 0 to 9 with step size 1 , excluding upper limit number.\n",
    "                    This is used when we are concerned about all lower ,upper and steps size."
   ]
  },
  {
   "cell_type": "markdown",
   "id": "a3e7a370",
   "metadata": {},
   "source": [
    "**12. Write a short program that prints the numbers 1 to 10 using a for loop. Then write an equivalent program that prints the numbers 1 to 10 using a while loop.**"
   ]
  },
  {
   "cell_type": "code",
   "execution_count": 6,
   "id": "83f555ad",
   "metadata": {},
   "outputs": [
    {
     "name": "stdout",
     "output_type": "stream",
     "text": [
      "1\n",
      "2\n",
      "3\n",
      "4\n",
      "5\n",
      "6\n",
      "7\n",
      "8\n",
      "9\n",
      "10\n"
     ]
    }
   ],
   "source": [
    "for i in range(1,11):\n",
    "    print(i)"
   ]
  },
  {
   "cell_type": "code",
   "execution_count": 7,
   "id": "52d256a1",
   "metadata": {},
   "outputs": [
    {
     "name": "stdout",
     "output_type": "stream",
     "text": [
      "1\n",
      "2\n",
      "3\n",
      "4\n",
      "5\n",
      "6\n",
      "7\n",
      "8\n",
      "9\n",
      "10\n"
     ]
    }
   ],
   "source": [
    "j = 1\n",
    "while j<11:\n",
    "    print(j)\n",
    "    j +=1"
   ]
  },
  {
   "cell_type": "markdown",
   "id": "49156476",
   "metadata": {},
   "source": [
    "**13. If you had a function named bacon() inside a module named spam, how would you call it after importing spam?**"
   ]
  },
  {
   "cell_type": "markdown",
   "id": "df3fdcb9",
   "metadata": {},
   "source": [
    "import spam\n",
    "spam.bacon()"
   ]
  }
 ],
 "metadata": {
  "kernelspec": {
   "display_name": "Python 3 (ipykernel)",
   "language": "python",
   "name": "python3"
  },
  "language_info": {
   "codemirror_mode": {
    "name": "ipython",
    "version": 3
   },
   "file_extension": ".py",
   "mimetype": "text/x-python",
   "name": "python",
   "nbconvert_exporter": "python",
   "pygments_lexer": "ipython3",
   "version": "3.9.7"
  }
 },
 "nbformat": 4,
 "nbformat_minor": 5
}
