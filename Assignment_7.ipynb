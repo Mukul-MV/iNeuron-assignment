{
 "cells": [
  {
   "cell_type": "markdown",
   "id": "222be7c1-c97d-4de6-9078-8406bad38a07",
   "metadata": {},
   "source": [
    "1. What is the name of the feature responsible for generating Regex objects?"
   ]
  },
  {
   "cell_type": "markdown",
   "id": "bfabf4fd-0f8b-4ecd-9dd1-a8f2ce1d6555",
   "metadata": {},
   "source": [
    "In Python, the feature responsible for generating Regex objects is called the \"re\" module. The \"re\" module provides functions and methods for working with regular expressions. It allows us to create Regex objects that can be used for pattern matching and various operations on strings."
   ]
  },
  {
   "cell_type": "markdown",
   "id": "8c10cc99-6a78-4eea-bf6f-5a345eff1bee",
   "metadata": {},
   "source": [
    "2. Why do raw strings often appear in Regex objects?"
   ]
  },
  {
   "cell_type": "markdown",
   "id": "e5864462-17bd-4939-83e7-7f9764884183",
   "metadata": {},
   "source": [
    "Raw strings are particularly useful when working with regular expressions, as they allow us to specify patterns that may contain backslashes without having to escape them. They are also useful when working with file paths, as they allow us  to specify paths that contain backslashes without having to escape them."
   ]
  },
  {
   "cell_type": "markdown",
   "id": "0d83c776-671e-4853-8fd8-ed82a6fedabf",
   "metadata": {},
   "source": [
    "3. What is the return value of the search() method?"
   ]
  },
  {
   "cell_type": "markdown",
   "id": "cd3759e2-9d95-4d2b-8137-b57ad267b1ae",
   "metadata": {},
   "source": [
    "search() method returns a match object if it finds a match anywhere in the input string. If no match is found, it returns None."
   ]
  },
  {
   "cell_type": "markdown",
   "id": "d265b689-9b90-4072-bd49-455c5c19d36b",
   "metadata": {},
   "source": [
    "4. From a Match item, how do you get the actual strings that match the pattern?"
   ]
  },
  {
   "cell_type": "markdown",
   "id": "0b48b6b8-6134-44a9-af18-0f3e62c69324",
   "metadata": {},
   "source": [
    "To retrieve the actual strings that match the pattern from a Match object in Python, we can use the group() method. The group() method returns the substring that matched the pattern."
   ]
  },
  {
   "cell_type": "code",
   "execution_count": 9,
   "id": "3cc9e9f5-b508-46d0-8593-4f150b0271a5",
   "metadata": {},
   "outputs": [
    {
     "name": "stdout",
     "output_type": "stream",
     "text": [
      "Matched string: 3\n"
     ]
    }
   ],
   "source": [
    "import re\n",
    "\n",
    "pattern = r\"\\d+\"\n",
    "text = \"I have 3 apples and 5 bananas.\"\n",
    "\n",
    "match = re.search(pattern, text)\n",
    "\n",
    "if match:\n",
    "    matched_string = match.group()\n",
    "    print(\"Matched string:\", matched_string)\n",
    "else:\n",
    "    print(\"No match found.\")\n"
   ]
  },
  {
   "cell_type": "markdown",
   "id": "b173f353-4821-4d58-a3d7-8ee0a719d48d",
   "metadata": {},
   "source": [
    "5. In the regex which created from the r'(\\d\\d\\d)-(\\d\\d\\d-\\d\\d\\d\\d)', what does group zero cover? Group 2? Group 1?"
   ]
  },
  {
   "cell_type": "markdown",
   "id": "9e837241-82c9-489a-beba-c11b1925115a",
   "metadata": {},
   "source": [
    "Group 0 is the entire match, group 1 covers the first set of parentheses wehre it find 3 digit number, and group 2 covers the second set of parentheses where it finds 3 digit - 3 digit numbers."
   ]
  },
  {
   "cell_type": "markdown",
   "id": "33654694-b886-4729-ac63-517d7f06e0fd",
   "metadata": {},
   "source": [
    "6. In standard expression syntax, parentheses and intervals have distinct meanings. How can you tell a regex that you want it to fit real parentheses and periods?"
   ]
  },
  {
   "cell_type": "code",
   "execution_count": null,
   "id": "d9ddff58-33f1-4816-8672-40c1eb47f209",
   "metadata": {},
   "outputs": [],
   "source": [
    "The \\. \\( and \\) escape characters in the raw string passed to re.compile() will match actual parenthesis characters."
   ]
  },
  {
   "cell_type": "code",
   "execution_count": 10,
   "id": "589a3b11-1391-465f-b511-d7aabb12e36a",
   "metadata": {},
   "outputs": [
    {
     "name": "stdout",
     "output_type": "stream",
     "text": [
      "(254) 951-1478\n"
     ]
    }
   ],
   "source": [
    "# Example Program\n",
    "import re\n",
    "phoneNumRegex = re.compile(r'(\\(\\d\\d\\d\\)) (\\d\\d\\d-\\d\\d\\d\\d)')\n",
    "mo = phoneNumRegex.search('My phone number is (254) 951-1478.')\n",
    "print(mo.group())"
   ]
  },
  {
   "cell_type": "markdown",
   "id": "4233c570-4241-47b5-9aa7-7b447fb615be",
   "metadata": {},
   "source": [
    "7. The findall( ) method returns a string list or a list of string tuples. What causes it to return one of the two options?"
   ]
  },
  {
   "cell_type": "markdown",
   "id": "06bf64c5-e6aa-48ee-a461-421ffd001044",
   "metadata": {},
   "source": [
    "If the regex pattern has no groups, a list of strings matched is returned. if the regex pattern has groups, a list of tuple of strings is returned."
   ]
  },
  {
   "cell_type": "code",
   "execution_count": 23,
   "id": "2e55cf24-ce72-4223-a4c2-a922db1222a1",
   "metadata": {},
   "outputs": [
    {
     "name": "stdout",
     "output_type": "stream",
     "text": [
      "[('is', '(845)')]\n",
      "['471-365-9514']\n"
     ]
    }
   ],
   "source": [
    "# Example Program , with group\n",
    "import re\n",
    "phoneNumRegex = re.compile(r'(\\w+) (\\(\\d\\d\\d\\))')\n",
    "mo = phoneNumRegex.findall('My phone number is (845) 102-4581.')\n",
    "print(mo)\n",
    "\n",
    "# Example Program , no grouping\n",
    "import re\n",
    "phoneNumRegex = re.compile(r'\\d{3}-\\d{3}-\\d{4}')\n",
    "mo = phoneNumRegex.findall('My number is 471-365-9514.')\n",
    "print(mo)"
   ]
  },
  {
   "cell_type": "markdown",
   "id": "00e98991-27b2-4360-87f9-7d2417c910bf",
   "metadata": {},
   "source": [
    "8. In standard expressions, what does the | character mean?"
   ]
  },
  {
   "cell_type": "markdown",
   "id": "a99e14c0-256e-4b6c-871e-a3bdf1caba25",
   "metadata": {},
   "source": [
    "| means OR operator."
   ]
  },
  {
   "cell_type": "markdown",
   "id": "c1f4dddd-3821-41c9-9548-642d4016fb60",
   "metadata": {},
   "source": [
    "9. In regular expressions, what does the '?' character stand for?"
   ]
  },
  {
   "cell_type": "markdown",
   "id": "336ac458-9c09-4c12-966d-cdd518851bb2",
   "metadata": {},
   "source": [
    "? characters represents zero or one match of the preceeding group."
   ]
  },
  {
   "cell_type": "markdown",
   "id": "da88586f-c23f-4b1a-8683-047cc21dbcd5",
   "metadata": {},
   "source": [
    "10.In regular expressions, what is the difference between the + and * characters?"
   ]
  },
  {
   "cell_type": "markdown",
   "id": "14784092-f390-44e8-93cf-8ecb120b5693",
   "metadata": {},
   "source": [
    ". * Represents Zero ore more occurances of the preceeding group, whereas + represents one or more occurances of the preceeding group."
   ]
  },
  {
   "cell_type": "markdown",
   "id": "8141bee4-95b1-4432-855e-a3a546e48a60",
   "metadata": {},
   "source": [
    "11. What is the difference between {4} and {4,5} in regular expression?"
   ]
  },
  {
   "cell_type": "markdown",
   "id": "31e49b7b-f902-4d18-9e11-87c125ef84dc",
   "metadata": {},
   "source": [
    "{4} means that its preceeding group should repeat 4 times. where as {4,5} means that its preceeding group should repeat mininum 4 times and maximum 5 times inclusively"
   ]
  },
  {
   "cell_type": "code",
   "execution_count": 1,
   "id": "48801b66-e5c6-4bc5-8f12-36f1d07d5d1e",
   "metadata": {},
   "outputs": [
    {
     "name": "stdout",
     "output_type": "stream",
     "text": [
      "HaHaHa\n",
      "None\n"
     ]
    }
   ],
   "source": [
    "import re\n",
    "haRegex = re.compile(r'(Ha){3}')\n",
    "mo1 = haRegex.search('HaHaHa')\n",
    "mo2 = haRegex.search('Ha')\n",
    "print(mo1.group())\n",
    "print(mo2)"
   ]
  },
  {
   "cell_type": "markdown",
   "id": "28540353-df59-4764-9b31-dd3b99960413",
   "metadata": {},
   "source": [
    "12. What do you mean by the \\d, \\w, and \\s shorthand character classes signify in regular expressions?"
   ]
  },
  {
   "cell_type": "markdown",
   "id": "da8fd076-a790-49b4-8e1d-8eca7f52ff3d",
   "metadata": {},
   "source": [
    "1. **`\\\\w`** – Matches a word character equivalent to [a-zA-Z0-9_]\\n,\n",
    "2. **`\\\\d`** – Matches digit character equivalent to [0-9]\\n,\n",
    "3. **`\\\\s`** – Matches whitespace character (space, tab, newline, etc.)"
   ]
  },
  {
   "cell_type": "markdown",
   "id": "9e578240-a8c6-47a9-a423-676692f176db",
   "metadata": {},
   "source": [
    "13. What do means by \\D, \\W, and \\S shorthand character classes signify in regular expressions?"
   ]
  },
  {
   "cell_type": "markdown",
   "id": "8408bc2d-a190-4d67-b2b9-0fe8da3b7978",
   "metadata": {},
   "source": [
    "1.  \\W – Matches any non-alphanumeric character equivalent to [^a-zA-Z0-9_]\n",
    "2.  \\D – Matches any non-digit character, this is equivalent to the set class [^0-9]\n",
    "3.  \\S – Matches any non-whitespace character\n"
   ]
  },
  {
   "cell_type": "markdown",
   "id": "be0c26ff-6b5d-441c-a1c1-d89f80ab2f15",
   "metadata": {},
   "source": [
    "14. What is the difference between .*? and .*?"
   ]
  },
  {
   "cell_type": "markdown",
   "id": "52ae2d37-350e-4915-851e-b0550471f8e6",
   "metadata": {},
   "source": [
    ".* is a Greedy mode, which returns the longest string that meets the condition. Whereas .*? is a non greedy mode which returns the shortest string that meets the condition."
   ]
  },
  {
   "cell_type": "code",
   "execution_count": 42,
   "id": "53f9fbee-5f03-480d-9e03-0fe54fd94d62",
   "metadata": {},
   "outputs": [
    {
     "name": "stdout",
     "output_type": "stream",
     "text": [
      "AiiZuuuuAoooZ\n",
      "AiiZ\n"
     ]
    }
   ],
   "source": [
    "import re\n",
    "\n",
    "p = r\"A.*Z\"\n",
    "phoneNumRegex = 'eeeAiiZuuuuAoooZeeee'\n",
    "mo = re.search(p,phoneNumRegex)\n",
    "print(mo.group())\n",
    "\n",
    "p = r\"A.*?Z\"\n",
    "phoneNumRegex = 'eeeAiiZuuuuAoooZeeee'\n",
    "mo = re.search(p,phoneNumRegex)\n",
    "print(mo.group())"
   ]
  },
  {
   "cell_type": "markdown",
   "id": "28600397-ac68-474e-8f47-c64ebf9510ec",
   "metadata": {},
   "source": [
    "15. What is the syntax for matching both numbers and lowercase letters with a character class?"
   ]
  },
  {
   "cell_type": "markdown",
   "id": "9e782dee-6cb3-442e-9dfb-bd6071beed3a",
   "metadata": {},
   "source": [
    "The Synatax is Either [a-z0-9] or [0-9a-z]"
   ]
  },
  {
   "cell_type": "markdown",
   "id": "54fdef51-14c1-4d1e-958c-f4a8e79dac7c",
   "metadata": {},
   "source": [
    "16. What is the procedure for making a normal expression in regax case insensitive?"
   ]
  },
  {
   "cell_type": "markdown",
   "id": "2cde57e0-ba00-42b1-8061-eb9b4b44dc18",
   "metadata": {},
   "source": [
    "We can pass re.IGNORECASE as a flag to make a noraml expression case insensitive"
   ]
  },
  {
   "cell_type": "code",
   "execution_count": null,
   "id": "cd05f585-c2b1-40ed-b30e-8304deaef16f",
   "metadata": {},
   "outputs": [],
   "source": [
    "re.compile(r'start' , re.IGNORECASE)"
   ]
  },
  {
   "cell_type": "markdown",
   "id": "ff832924-bc5a-4f95-8204-8aebac76284c",
   "metadata": {},
   "source": [
    "17. What does the . character normally match? What does it match if re.DOTALL is passed as 2nd argument in re.compile()?"
   ]
  },
  {
   "cell_type": "markdown",
   "id": "60054cbb-19e6-4699-81e3-406997895c16",
   "metadata": {},
   "source": [
    " Dot **.** character matches everything in input except newline character **.**. By passing **re.DOTALL** as a flag to **re.compile()**, you can make the dot character match all characters, including the newline character."
   ]
  },
  {
   "cell_type": "markdown",
   "id": "757539e0-b8fd-4e46-97b0-95f8199a4b38",
   "metadata": {},
   "source": [
    "18. If numReg = re.compile(r'\\d+'), what will numRegex.sub('X', '11 drummers, 10 pipers, five rings, 4 hen') return?"
   ]
  },
  {
   "cell_type": "code",
   "execution_count": 43,
   "id": "4c1b1523-edc9-44a6-9f56-1508759a3acb",
   "metadata": {},
   "outputs": [
    {
     "data": {
      "text/plain": [
       "'X drummers, X pipers, five rings, X hen'"
      ]
     },
     "execution_count": 43,
     "metadata": {},
     "output_type": "execute_result"
    }
   ],
   "source": [
    "import re\n",
    "numReg = re.compile(r'\\d+')\n",
    "numReg.sub('X', '11 drummers, 10 pipers, five rings, 4 hen')"
   ]
  },
  {
   "cell_type": "markdown",
   "id": "baba78e5-35d1-42e9-b041-e5616131890c",
   "metadata": {},
   "source": [
    "19. What does passing re.VERBOSE as the 2nd argument to re.compile() allow to do?"
   ]
  },
  {
   "cell_type": "markdown",
   "id": "41eacd47-e660-418d-aee3-c83da521bbb6",
   "metadata": {},
   "source": [
    "re.VERBOSE will allow to add whitespace and comments to string passed to re.compile()."
   ]
  },
  {
   "cell_type": "code",
   "execution_count": 44,
   "id": "7e7b73aa-8b4c-40b3-8795-c41296fbb0d6",
   "metadata": {},
   "outputs": [],
   "source": [
    "# Without Using VERBOSE\n",
    "regex_email = re.compile(r'^([a-z0-9_\\.-]+)@([0-9a-z\\.-]+)\\.([a-z\\.]{2, 6})$', re.IGNORECASE)\n",
    " \n",
    "# Using VERBOSE\n",
    "regex_email = re.compile(r\"\"\"\n",
    "                            ^([a-z0-9_\\.-]+)              # local Part like username\n",
    "                            @                             # single @ sign \n",
    "                            ([0-9a-z\\.-]+)                # Domain name like google\n",
    "                            \\.                            # single Dot .\n",
    "                            ([a-z]{2,6})$                 # Top level Domain  like com/in/org\n",
    "                         \"\"\",re.VERBOSE | re.IGNORECASE)   "
   ]
  },
  {
   "cell_type": "markdown",
   "id": "eb23807f-bed6-45b6-8e91-ec219dfa35d6",
   "metadata": {},
   "source": [
    "20. How would you write a regex that match a number with comma for every three digits? It must match the given following:"
   ]
  },
  {
   "cell_type": "markdown",
   "id": "335e637c-7aff-4943-ae88-9b033575769c",
   "metadata": {},
   "source": [
    "`'42' \n",
    "'1,234'\n",
    "'6,368,745'`\n",
    "but not the following:\n",
    "`'12,34,567' `(which has only two digits between the commas)\n",
    "`'1234' `(which lacks commas)\n"
   ]
  },
  {
   "cell_type": "code",
   "execution_count": 2,
   "id": "03992e3c-f171-448d-94ca-eabea381dccb",
   "metadata": {},
   "outputs": [
    {
     "name": "stdout",
     "output_type": "stream",
     "text": [
      "Output: 42 -> <re.Match object; span=(0, 2), match='42'>\n",
      "Output: 1,234 -> <re.Match object; span=(0, 5), match='1,234'>\n",
      "Output: 6,368,745 -> <re.Match object; span=(0, 9), match='6,368,745'>\n",
      "Output: 12,34,567 -> None\n",
      "Output: 1234 -> None\n"
     ]
    }
   ],
   "source": [
    "import re\n",
    "pattern = r'^\\d{1,3}(,\\d{3})*$'\n",
    "pagex = re.compile(pattern)\n",
    "for ele in ['42','1,234', '6,368,745','12,34,567','1234']:\n",
    "    print('Output:',ele, '->', pagex.search(ele))"
   ]
  },
  {
   "cell_type": "markdown",
   "id": "1a14a153-dfca-499d-88e6-3e2fce0cd15a",
   "metadata": {},
   "source": [
    "21. How would you write a regex that matches the full name of someone whose last name is Watanabe? You can assume that the first name that comes before it will always be one word that begins with a capital letter. The regex must match the following: <br><br>\n",
    "`'Haruto Watanabe'` <br>\n",
    "`'Alice Watanabe' `<br>\n",
    "`'RoboCop Watanabe' `<br>\n",
    "but not the following: <br>\n",
    "`'haruto Watanabe' `(where the first name is not capitalized) <br>\n",
    "`'Mr. Watanabe' `(where the preceding word has a nonletter character)<br>\n",
    "`'Watanabe' `(which has no first name)<br>\n",
    "`'Haruto watanabe'`(where Watanabe is not capitalized)<br>\n"
   ]
  },
  {
   "cell_type": "code",
   "execution_count": 3,
   "id": "a52a454b-2d12-4865-bb1f-2866de0e35ad",
   "metadata": {},
   "outputs": [],
   "source": [
    "pattern = r'[A-Z]{1}[a-z]*\\sWatanabe'"
   ]
  },
  {
   "cell_type": "code",
   "execution_count": 4,
   "id": "88694e5f-b009-4ee5-a3ba-fb6ad01ea3cd",
   "metadata": {},
   "outputs": [
    {
     "name": "stdout",
     "output_type": "stream",
     "text": [
      "Output:  Haruto Watanabe -> <re.Match object; span=(0, 15), match='Haruto Watanabe'>\n",
      "Output:  Alice Watanabe -> <re.Match object; span=(0, 14), match='Alice Watanabe'>\n",
      "Output:  RoboCop Watanabe -> <re.Match object; span=(4, 16), match='Cop Watanabe'>\n",
      "Output:  haruto Watanabe -> None\n",
      "Output:  Mr. Watanabe -> None\n",
      "Output:  Watanabe -> None\n",
      "Output:  Haruto watanabe -> None\n"
     ]
    }
   ],
   "source": [
    "import re\n",
    "pattern = r'[A-Z]{1}[a-z]*\\sWatanabe'\n",
    "namex = re.compile(pattern)\n",
    "for name in ['Haruto Watanabe','Alice Watanabe','RoboCop Watanabe','haruto Watanabe','Mr. Watanabe','Watanabe','Haruto watanabe']:\n",
    "    print('Output: ',name,'->',namex.search(name))"
   ]
  },
  {
   "cell_type": "markdown",
   "id": "8199bbe7-6445-4709-918a-f781e9cf9daa",
   "metadata": {},
   "source": [
    "22. How would you write a regex that matches a sentence where the first word is either Alice, Bob, or Carol; the second word is either eats, pets, or throws; the third word is apples, cats, or baseballs; and the sentence ends with a period? This regex should be case-insensitive. It must match the following: <br> <br>\n",
    "'Alice eats apples.' <br>\n",
    "'Bob pets cats.' <br>\n",
    "'Carol throws baseballs.' <br>\n",
    "'Alice throws Apples.' <br>\n",
    "'BOB EATS CATS.' <br>\n",
    "but not the following: <br>\n",
    "'RoboCop eats apples.' <br>\n",
    "'ALICE THROWS FOOTBALLS.' <br>\n",
    "'Carol eats 7 cats.' <br>\n"
   ]
  },
  {
   "cell_type": "code",
   "execution_count": 5,
   "id": "91028985-aab6-4685-88e5-f3fde855cab5",
   "metadata": {},
   "outputs": [
    {
     "name": "stdout",
     "output_type": "stream",
     "text": [
      "Output:  Alice eats apples. -> <re.Match object; span=(0, 18), match='Alice eats apples.'>\n",
      "Output:  Bob pets cats. -> <re.Match object; span=(0, 14), match='Bob pets cats.'>\n",
      "Output:  Carol throws baseballs. -> <re.Match object; span=(0, 23), match='Carol throws baseballs.'>\n",
      "Output:  Alice throws Apples. -> <re.Match object; span=(0, 20), match='Alice throws Apples.'>\n",
      "Output:  BOB EATS CATS. -> <re.Match object; span=(0, 14), match='BOB EATS CATS.'>\n",
      "Output:  RoboCop eats apples. -> None\n",
      "Output:  ALICE THROWS FOOTBALLS. -> None\n",
      "Output:  Carol eats 7 cats. -> None\n"
     ]
    }
   ],
   "source": [
    "import re\n",
    "pattern = r'(Alice|Bob|Carol)\\s(eats|pets|throws)\\s(apples|cats|baseballs)\\.'\n",
    "casex = re.compile(pattern,re.IGNORECASE)\n",
    "for ele in ['Alice eats apples.','Bob pets cats.','Carol throws baseballs.','Alice throws Apples.','BOB EATS CATS.','RoboCop eats apples.'\n",
    ",'ALICE THROWS FOOTBALLS.','Carol eats 7 cats.']:\n",
    "    print('Output: ',ele,'->',casex.search(ele))"
   ]
  },
  {
   "cell_type": "code",
   "execution_count": null,
   "id": "28a878fb-edd2-4adf-a204-379073589626",
   "metadata": {},
   "outputs": [],
   "source": []
  }
 ],
 "metadata": {
  "kernelspec": {
   "display_name": "Python 3 (ipykernel)",
   "language": "python",
   "name": "python3"
  },
  "language_info": {
   "codemirror_mode": {
    "name": "ipython",
    "version": 3
   },
   "file_extension": ".py",
   "mimetype": "text/x-python",
   "name": "python",
   "nbconvert_exporter": "python",
   "pygments_lexer": "ipython3",
   "version": "3.10.6"
  }
 },
 "nbformat": 4,
 "nbformat_minor": 5
}
