{
 "cells": [
  {
   "cell_type": "markdown",
   "id": "244b4718-8ec0-4bd8-b6c7-424c50954fee",
   "metadata": {},
   "source": [
    "1. What advantages do Excel spreadsheets have over CSV spreadsheets?"
   ]
  },
  {
   "cell_type": "markdown",
   "id": "1205dd31-69f1-4b95-96cd-b16a9c515121",
   "metadata": {},
   "source": [
    "Excel: Offers formatting, formulas, multiple sheets, graphs, data validation, collaboration, sorting, filtering, and data organization. Provides a comprehensive suite for data management and analysis.\n",
    "\n",
    "CSV: Provides simplicity, compatibility, and lightweight format for data exchange. Lacks advanced features like formatting, formulas, graphs, and collaboration. Suitable for basic data storage and compatibility with various applications."
   ]
  },
  {
   "cell_type": "markdown",
   "id": "24c463bc-a3bf-4035-930d-a2038d2af029",
   "metadata": {},
   "source": [
    "2.What do you pass to csv.reader() and csv.writer() to create reader and writer objects?"
   ]
  },
  {
   "cell_type": "markdown",
   "id": "a8f6b787-2520-441e-bf6a-198d5228bec4",
   "metadata": {},
   "source": [
    "To create reader and writer objects using the csv.reader() and csv.writer() functions from the csv module in Python, we pass a file object to these functions. \n"
   ]
  },
  {
   "cell_type": "code",
   "execution_count": null,
   "id": "436fd4f8-7508-428d-a253-328e7a4c22ed",
   "metadata": {},
   "outputs": [],
   "source": [
    "import csv\n",
    "\n",
    "with open('data.csv', 'r') as file:\n",
    "    csv_reader = csv.reader(file)\n",
    "    # Perform reading operations using the csv_reader object\n"
   ]
  },
  {
   "cell_type": "code",
   "execution_count": null,
   "id": "f858c1cd-3d62-4745-aa92-4b0e69c7ed72",
   "metadata": {},
   "outputs": [],
   "source": [
    "import csv\n",
    "\n",
    "with open('output.csv', 'w', newline='') as file:\n",
    "    csv_writer = csv.writer(file)\n",
    "    # Perform writing operations using the csv_writer object\n"
   ]
  },
  {
   "cell_type": "markdown",
   "id": "a89dda75-2214-4a5f-adc8-26e0d0204c15",
   "metadata": {},
   "source": [
    "3. What modes do File objects for reader and writer objects need to be opened in?"
   ]
  },
  {
   "cell_type": "markdown",
   "id": "dfad743a-7e88-4ca6-8c56-4ecb05cafce6",
   "metadata": {},
   "source": [
    "Ans: For csv.reader(iterable_file_object), the file objects needed to be opened in read mode mode='r' Whereas for csv.writer(iterable_file_object) the file objects needed to be opened in write mode mode='w'"
   ]
  },
  {
   "cell_type": "markdown",
   "id": "9bd0519d-8d85-495a-bc76-e8fac7885672",
   "metadata": {},
   "source": [
    "4. What method takes a list argument and writes it to a CSV file?"
   ]
  },
  {
   "cell_type": "markdown",
   "id": "1ee4d176-0701-4405-a397-da257816f3ca",
   "metadata": {},
   "source": [
    "Ans: csv.writer class provides two methods for writing to CSV. They are writerow() and writerows(). writerow() method writes a single row at a time. Whereas writerows() method is used to write multiple rows at a time."
   ]
  },
  {
   "cell_type": "code",
   "execution_count": 3,
   "id": "4987bc68-c4d1-4cdd-8e9f-2ef7513a98f5",
   "metadata": {},
   "outputs": [],
   "source": [
    "# Example Program\n",
    "import csv      \n",
    "fields = ['Name', 'Branch', 'Year', 'CGPA'] #column names \n",
    "rows = [ \n",
    "            ['mukul', 'CSE', '2', '9.8'],  # data rows of csv file \n",
    "            ['vyas', 'ME', '2', '7.2'], \n",
    "            ['neuron', 'EC', '2', '8.6']\n",
    "       ] \n",
    "with open(\"university_records.csv\", 'w') as csvfile: \n",
    "    csvwriter = csv.writer(csvfile) # creating a csv writer object \n",
    "    csvwriter.writerow(fields) # writing the fields \n",
    "    csvwriter.writerows(rows) # writing the data rows "
   ]
  },
  {
   "cell_type": "markdown",
   "id": "88d5971b-fe16-4716-bd1f-c6cff1963a17",
   "metadata": {},
   "source": [
    "5. What do the keyword arguments delimiter and line terminator do?"
   ]
  },
  {
   "cell_type": "markdown",
   "id": "9bb66e81-ee14-440c-b8b5-ad67f3007ea9",
   "metadata": {},
   "source": [
    "The keyword arguments delimiter and line_terminator are used when working with the csv.writer() function from the csv module in Python.\n",
    "\n",
    "1. delimiter: The delimiter keyword argument specifies the character used to separate individual fields or values within a CSV file. By default, the comma (',') is used as the delimiter. However, we can specify a different delimiter character if desired, such as a tab ('\\t') or a semicolon (';'). This allows us to customize the separator used between values in the generated CSV file."
   ]
  },
  {
   "cell_type": "code",
   "execution_count": 11,
   "id": "e275df15-02b4-4246-88a8-f4a482383b04",
   "metadata": {},
   "outputs": [],
   "source": [
    "import csv\n",
    "\n",
    "data = [['John', 'Doe', 'john@example.com'], ['Jane', 'Smith', 'jane@example.com']]\n",
    "\n",
    "with open('output.csv', 'w', newline='') as file:\n",
    "    csv_writer = csv.writer(file, delimiter=',')\n",
    "    csv_writer.writerows(data)"
   ]
  },
  {
   "cell_type": "markdown",
   "id": "3c7719b5-36e5-47cf-937f-e56e28a34c52",
   "metadata": {},
   "source": [
    "2. line_terminator: The line_terminator keyword argument specifies the character or string used to terminate each line in the generated CSV file. By default, the line terminator is '\\r' &'\\n' on Windows systems. we can override the default behavior and specify a different line terminator if needed."
   ]
  },
  {
   "cell_type": "code",
   "execution_count": 12,
   "id": "363bd38d-ad19-4ba1-bcb4-06762f4d6b0f",
   "metadata": {},
   "outputs": [],
   "source": [
    "import csv\n",
    "\n",
    "data = [['John', 'Doe', 'john@example.com'], ['Jane', 'Smith', 'jane@example.com']]\n",
    "\n",
    "with open('output.csv', 'w', newline='') as file:\n",
    "    csv_writer = csv.writer(file, delimiter='\\r')\n",
    "    csv_writer.writerows(data)"
   ]
  },
  {
   "cell_type": "markdown",
   "id": "0a1dda18-c896-4668-a55b-651dfd2c8a9f",
   "metadata": {},
   "source": [
    "6. What function takes a string of JSON data and returns a Python data structure?"
   ]
  },
  {
   "cell_type": "markdown",
   "id": "ec0d4fb3-bde2-455b-b2b8-aa69abcfd8ef",
   "metadata": {},
   "source": [
    "Ans: loads() method takes a string of JSON data and returns a Python data structure"
   ]
  },
  {
   "cell_type": "code",
   "execution_count": null,
   "id": "1deb21b8-b506-4cce-b379-31ccca903e7e",
   "metadata": {},
   "outputs": [],
   "source": [
    "import json\n",
    "my_details_json ='''{\n",
    "    \"Name\": \"Mano Vishnu\",\n",
    "    \"Qualification\": \"Bachelor of Technology\",\n",
    "    \"Stream\": \"Computer Science and Engineering\"\n",
    "}'''\n",
    "print(my_details_json)\n",
    "print(f'Type of my_details_json is {type(my_details_json)}')\n",
    "my_details = json.loads(my_details_json)\n",
    "print(my_details)\n",
    "print(f'Type of my_details is {type(my_details)}')"
   ]
  },
  {
   "cell_type": "markdown",
   "id": "e740465f-fa5b-45ba-ae0f-a438eaae5ed7",
   "metadata": {},
   "source": [
    "7. What function takes a Python data structure and returns a string of JSON data?"
   ]
  },
  {
   "cell_type": "markdown",
   "id": "4df267dd-1945-4d5b-ae68-9d0f0a696b4d",
   "metadata": {},
   "source": [
    "Ans: dumps() method takes a python data structure and returns a string of JSON data"
   ]
  },
  {
   "cell_type": "code",
   "execution_count": null,
   "id": "3bb84e7a-3973-4365-bdb0-0412ada24152",
   "metadata": {},
   "outputs": [],
   "source": [
    "import json\n",
    "my_details = {\n",
    "    'Name':'Mano Vishnu',\n",
    "    'Stream':'Computer Science and Engineering',\n",
    "    'Qualification':'Bachelor of Technology'\n",
    "}\n",
    "print(my_details)\n",
    "print(f'Type of my_details is {type(my_details)}')\n",
    "my_details_json = json.dumps(my_details, indent=4, sort_keys=True)\n",
    "print(my_details_json)\n",
    "print(f'Type of my_details_json is {type(my_details_json)}')"
   ]
  }
 ],
 "metadata": {
  "kernelspec": {
   "display_name": "Python 3 (ipykernel)",
   "language": "python",
   "name": "python3"
  },
  "language_info": {
   "codemirror_mode": {
    "name": "ipython",
    "version": 3
   },
   "file_extension": ".py",
   "mimetype": "text/x-python",
   "name": "python",
   "nbconvert_exporter": "python",
   "pygments_lexer": "ipython3",
   "version": "3.10.6"
  }
 },
 "nbformat": 4,
 "nbformat_minor": 5
}
