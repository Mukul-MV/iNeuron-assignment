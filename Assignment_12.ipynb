{
 "cells": [
  {
   "cell_type": "markdown",
   "id": "7c1ccbe5-874d-48ce-a801-ab17ab7f36c9",
   "metadata": {},
   "source": [
    "1. In what modes should the PdfFileReader() and PdfFileWriter() File objects will be opened?"
   ]
  },
  {
   "cell_type": "markdown",
   "id": "61395edb-6292-4725-8d45-53868fa10cc0",
   "metadata": {},
   "source": [
    "Ans: For PdfFileReader() file objects should be opened in rb -> read binary mode, Whereas for PdfFileWriter() file objects should be opened in wb -> write binary mode."
   ]
  },
  {
   "cell_type": "markdown",
   "id": "cd1fee68-b56c-447f-a921-41ae9a0cab75",
   "metadata": {},
   "source": [
    "2. From a PdfFileReader object, how do you get a Page object for page 5?"
   ]
  },
  {
   "cell_type": "markdown",
   "id": "0e64dcf4-3497-4ff1-b165-7b4b91abdd4d",
   "metadata": {},
   "source": [
    "Ans: PdfFileReader class provides a method called getPage(page_no) to get a page object."
   ]
  },
  {
   "cell_type": "code",
   "execution_count": null,
   "id": "c739d38b-e210-4aa4-8dc7-6d1cf478a6d2",
   "metadata": {},
   "outputs": [],
   "source": [
    "# Example Code:\n",
    "from PyPDF2 import PdfFileReader\n",
    "pdf_reader = PdfFileReader(file_path)\n",
    "for page in pdf_reader.getNumPages():\n",
    "    pdf_reader.getPage(page)"
   ]
  },
  {
   "cell_type": "markdown",
   "id": "5f85d01f-d638-4d03-8764-fd5226f5bd63",
   "metadata": {},
   "source": [
    "3. What PdfFileReader variable stores the number of pages in the PDF document?"
   ]
  },
  {
   "cell_type": "markdown",
   "id": "e9223208-a032-444d-9b99-d0f95e6a0b9a",
   "metadata": {},
   "source": [
    "Ans: getNumPages() method of PdfFileReader class stores the no pages in a PDF document"
   ]
  },
  {
   "cell_type": "code",
   "execution_count": null,
   "id": "b5da999b-91a3-445e-ad96-e569e43fd087",
   "metadata": {},
   "outputs": [],
   "source": [
    "#Example Code:\n",
    "from PyPDF2 import PdfFileReader\n",
    "pdf_reader = PdfFileReader(file_path)\n",
    "print(pdf_reader.getNumPages()) # Prints the no of pages in a input document"
   ]
  },
  {
   "cell_type": "markdown",
   "id": "891b312e-83aa-4079-af40-3b211230917a",
   "metadata": {},
   "source": [
    "4. If a PdfFileReader object’s PDF is encrypted with the password swordfish, what must you do before you can obtain Page objects from it?"
   ]
  },
  {
   "cell_type": "markdown",
   "id": "2bbc6713-8536-486e-bc2d-3513a1f5e707",
   "metadata": {},
   "source": [
    "If a PdfFileReader object's PDF is encrypted with the password \"swordfish,\" you need to decrypt the PDF using the correct password before you can obtain Page objects from it. To do so, you should call the decrypt(password) method of the PdfFileReader object, passing the password as a string parameter."
   ]
  },
  {
   "cell_type": "code",
   "execution_count": null,
   "id": "bc53b00d-ed0b-492d-8274-e09ff97b7e1f",
   "metadata": {},
   "outputs": [],
   "source": [
    "from PyPDF2 import PdfFileReader\n",
    "\n",
    "with open('encrypted.pdf', 'rb') as file:\n",
    "    pdf_reader = PdfFileReader(file)\n",
    "    if pdf_reader.isEncrypted:\n",
    "        pdf_reader.decrypt('swordfish')\n",
    "\n",
    "    # Now we can access the Page objects\n",
    "    num_pages = pdf_reader.getNumPages()\n",
    "    for page_num in range(num_pages):\n",
    "        page = pdf_reader.getPage(page_num)\n",
    "        # Perform operations on the Page object\n",
    "        # For example, we can extract text from the page using page.extractText()\n"
   ]
  },
  {
   "cell_type": "markdown",
   "id": "eddd7286-f149-4815-b703-1d5af415938f",
   "metadata": {},
   "source": [
    "In the example, encrypted.pdf represents the path to the encrypted PDF file. The isEncrypted attribute of the PdfFileReader object is checked to verify if the PDF is encrypted. If it is, the decrypt() method is called with the correct password 'swordfish'. After decryption, you can proceed to obtain Page objects using the getPage() method and perform desired operations on the pages.\n",
    "\n",
    "Note that if the password provided is incorrect, the decrypt() method will raise an exception, so it's important to ensure that the correct password is used for decryption."
   ]
  },
  {
   "cell_type": "markdown",
   "id": "f685bc47-1409-443c-8a97-861613c14461",
   "metadata": {},
   "source": [
    "5. What methods do you use to rotate a page?"
   ]
  },
  {
   "cell_type": "markdown",
   "id": "317ef98f-a234-4922-b904-209e04556e68",
   "metadata": {},
   "source": [
    "Ans: PyPDF2 Package provides 2 methods to rotate a page:\n",
    "\n",
    "* rotateClockWise() -> For Clockwise rotation\n",
    "* rotateCounterClockWise() -> For Counter Clockwise rotation <br>\n",
    "The PyPDF2 package only allows us to rotate a page in increments of 90 degrees. we will receive an AssertionError otherwise."
   ]
  },
  {
   "cell_type": "markdown",
   "id": "fc1d95c6-7de0-41d1-900b-b418478b3658",
   "metadata": {},
   "source": [
    "6. What is the difference between a Run object and a Paragraph object?"
   ]
  },
  {
   "cell_type": "markdown",
   "id": "8188990e-2a8f-424e-b59e-269f112c4a65",
   "metadata": {},
   "source": [
    "Ans: The structure of a document is represented by three different data types in python-Docx. At the highest level, a Document object represents the entire document. The Document object contains a list of Paragraph objects for the paragraphs in the document. (A new paragraph begins whenever the user presses ENTER or RETURN while typing in a Word document.) Each of these Paragraph objects contains a list of one or more Run objects.\n",
    "\n",
    "The text in a Word document is more than just a string. It has font, size, color, and other styling information associated with it. A style in Word is a collection of these attributes. A Run object is a contiguous run of text with the same style. A new Run object is needed whenever the text style changes."
   ]
  },
  {
   "cell_type": "markdown",
   "id": "c90c2848-26e7-4288-84fb-32e1f756e445",
   "metadata": {},
   "source": [
    "7. How do you obtain a list of Paragraph objects for a Document object that’s stored in a variable named doc?"
   ]
  },
  {
   "cell_type": "code",
   "execution_count": null,
   "id": "9b63d671-ee92-42a3-bb5d-d549b2b51946",
   "metadata": {},
   "outputs": [],
   "source": [
    "# Example Program\n",
    "from docx import Document\n",
    "doc = Document(\"sample_file.docx\") # Path of the Docx file\n",
    "print(doc.paragraphs) # Prints the list of Paragraph objects for a Document\n",
    "for paragraph in doc.paragraphs:\n",
    "    print(paragraph.text) # Prints the text in the paragraph"
   ]
  },
  {
   "cell_type": "markdown",
   "id": "aa6426e6-3f4d-4958-af57-dd1f0a7a6283",
   "metadata": {},
   "source": [
    "8. What type of object has bold, underline, italic, strike, and outline variables?"
   ]
  },
  {
   "cell_type": "markdown",
   "id": "337c5175-b443-4cb8-aedf-8b88ad6f386b",
   "metadata": {},
   "source": [
    "Ans: Run object has bold, underline, italic, strike, and outline variables. The text in a Word document is more than just a string. It has font, size, color, and other styling information associated with it.\n",
    "\n",
    "A style in Word is a collection of these attributes. A Run object is a contiguous run of text with the same style. A new Run object is needed whenever the text style changes."
   ]
  },
  {
   "cell_type": "markdown",
   "id": "e789b99a-c665-4f6e-9754-42645a995609",
   "metadata": {},
   "source": [
    "9. What is the difference between False, True, and None for the bold variable?"
   ]
  },
  {
   "cell_type": "code",
   "execution_count": 2,
   "id": "c6f2d660-35d8-4917-be43-2af748136faa",
   "metadata": {},
   "outputs": [],
   "source": [
    "bold = True  # Style Set to Bold\n",
    "bold = False # Style Not Set to Bold\n",
    "bold = None # Style is Not Applicable"
   ]
  },
  {
   "cell_type": "markdown",
   "id": "c7764c54-4021-457b-af51-b46f668c32b3",
   "metadata": {},
   "source": [
    "10. How do you create a Document object for a new Word document?"
   ]
  },
  {
   "cell_type": "code",
   "execution_count": null,
   "id": "2a4fbf7c-95f8-43cd-a6f7-34298f196b75",
   "metadata": {},
   "outputs": [],
   "source": [
    "from docx import Document\n",
    "document = Document()\n",
    "document.add_paragraph(\"iNeuron Full Stack DataScience Course\")\n",
    "document.save('mydocument.docx')"
   ]
  },
  {
   "cell_type": "markdown",
   "id": "b21d5400-4eb1-421d-88a8-5059abd75d91",
   "metadata": {},
   "source": [
    "11. How do you add a paragraph with the text 'Hello, there!' to a Document object stored in a variable named doc?"
   ]
  },
  {
   "cell_type": "code",
   "execution_count": null,
   "id": "d5a6e37f-5e79-4d2e-bda1-42411e356701",
   "metadata": {},
   "outputs": [],
   "source": [
    "from docx import Document\n",
    "doc = Document()\n",
    "doc.add_paragraph('Hello, there!')\n",
    "doc.save('hello.docx')"
   ]
  },
  {
   "cell_type": "markdown",
   "id": "4f751352-8e6e-44c6-9f91-273008bd15a2",
   "metadata": {},
   "source": [
    "12. What integers represent the levels of headings available in Word documents?"
   ]
  },
  {
   "cell_type": "markdown",
   "id": "92ad8e06-d1f5-499d-9cc0-a90aaf206606",
   "metadata": {},
   "source": [
    "Ans: The levels for a heading in a word document can be specified by using the level attribute inside the add_heading method. There are a total of 5 levels statring for 0 t0 4. where level 0 makes a headline with the horizontal line below the text, whereas the heading level 1 is the main heading. Similarly, the other headings are sub-heading with their's font-sizes in decreasing order."
   ]
  },
  {
   "cell_type": "code",
   "execution_count": null,
   "id": "2915af09-de82-4693-9db8-da5ba67296dd",
   "metadata": {},
   "outputs": [],
   "source": []
  }
 ],
 "metadata": {
  "kernelspec": {
   "display_name": "Python 3 (ipykernel)",
   "language": "python",
   "name": "python3"
  },
  "language_info": {
   "codemirror_mode": {
    "name": "ipython",
    "version": 3
   },
   "file_extension": ".py",
   "mimetype": "text/x-python",
   "name": "python",
   "nbconvert_exporter": "python",
   "pygments_lexer": "ipython3",
   "version": "3.10.6"
  }
 },
 "nbformat": 4,
 "nbformat_minor": 5
}
