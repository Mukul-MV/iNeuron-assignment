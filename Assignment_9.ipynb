{
 "cells": [
  {
   "cell_type": "markdown",
   "id": "6b769639-1d40-4ee2-a799-1f2ffa7ff75e",
   "metadata": {},
   "source": [
    "1. To what does a relative path refer?"
   ]
  },
  {
   "cell_type": "markdown",
   "id": "47a349ef-dc43-4d82-8566-3dcbdff978de",
   "metadata": {},
   "source": [
    "Ans :- The relative path is the path to some file with respect to your current working directory (PWD).\n",
    "For example: if Absolute path to a file called stuff.txt is: C:/users/admin/docs/stuff.txt If my PWD is C:/users/admin/ , then the relative path to stuff.txt would be: docs/stuff.txt\n",
    "Note: PWD + relative path = absolute path"
   ]
  },
  {
   "cell_type": "markdown",
   "id": "ccbbdd0b-f2d7-4637-9b78-a368919c112c",
   "metadata": {},
   "source": [
    "2. What does an absolute path start with your operating system?"
   ]
  },
  {
   "cell_type": "markdown",
   "id": "2d31fee5-ef8d-4a75-9a83-c70d4cd2a096",
   "metadata": {},
   "source": [
    "Ans:-  In Linux based systems the absolute path starts with /. Where as in Windows based systems absolute path starts with C:"
   ]
  },
  {
   "cell_type": "markdown",
   "id": "987f4996-b36d-4982-9e6d-dab646389a37",
   "metadata": {},
   "source": [
    "3. What do the functions os.getcwd() and os.chdir() do?"
   ]
  },
  {
   "cell_type": "markdown",
   "id": "e1aff34c-08c8-483d-b7d9-48a95ac219ef",
   "metadata": {},
   "source": [
    "Ans :-  os.getcwd() method tells us the location of current working directory (CWD). Whereas os.chdir() method in Python used to change the current working directory to specified path."
   ]
  },
  {
   "cell_type": "markdown",
   "id": "710e40da-6319-4e0a-9f61-6d0edd140462",
   "metadata": {},
   "source": [
    "4. What are the `.` and `..` folders?"
   ]
  },
  {
   "cell_type": "markdown",
   "id": "a471f823-b03e-40e4-9df3-4b06738faf39",
   "metadata": {},
   "source": [
    "Ans :-  `.` Represents the Current Directory Whereas `..` Represents the Parent Directory of the Current Directory"
   ]
  },
  {
   "cell_type": "markdown",
   "id": "a0dbe0e5-2610-42cd-ad7b-e1cca9b8cdb8",
   "metadata": {},
   "source": [
    "5. In C:\\bacon\\eggs\\spam.txt, which part is the dir name, and which part is the base name?"
   ]
  },
  {
   "cell_type": "markdown",
   "id": "12d5c22f-947e-476a-be4f-7a41bd0fcea8",
   "metadata": {},
   "source": [
    "Ans :-  The dir name is `C:\\\\bacon\\\\eggs` <br>\n",
    "The Base name is `spam.txt`"
   ]
  },
  {
   "cell_type": "markdown",
   "id": "1e52385c-6561-4619-a564-9dc64cacb041",
   "metadata": {},
   "source": [
    "6. What are the three “mode” arguments that can be passed to the open() function?"
   ]
  },
  {
   "cell_type": "markdown",
   "id": "7b3572fa-cebc-430a-8576-bb1cca67eb1d",
   "metadata": {},
   "source": [
    "Ans : -open function takes two arguments filename and mode of operation (optional). if mode is not provided the default mode of opening is read mode <br>\n",
    "So, the syntax being: open(filename, mode)\n",
    "\n",
    "‘r’ – Read Mode: This is the default mode for open(). The file is opened and a pointer is positioned at the beginning of the file’s content.<br>\n",
    "‘w’ – Write Mode: Using this mode will overwrite any existing content in a file. If the given file does not exist, a new one will be created.<br>\n",
    "‘r+’ – Read/Write Mode: Use this mode if you need to simultaneously read and write to a file.<br>\n",
    "‘a’ – Append Mode: With this mode the user can append the data without overwriting any already existing data in the file.<br>\n",
    "‘a+’ – Append and Read Mode: In this mode you can read and append the data without overwriting the original file.<br>\n",
    "‘x’ – Exclusive Creating Mode: This mode is for the sole purpose of creating new files. Use this mode if you know the file to be written doesn’t exist beforehand.<br>"
   ]
  },
  {
   "cell_type": "markdown",
   "id": "9b5174e9-fbf4-438b-ad98-6ebb4af72be1",
   "metadata": {},
   "source": [
    "7. What happens if an existing file is opened in write mode?"
   ]
  },
  {
   "cell_type": "markdown",
   "id": "e2896ccc-08c0-466d-91ba-145ddf1b176e",
   "metadata": {},
   "source": [
    "Ans: Using this mode will overwrite any existing content in a file. If the given file does not exist, a new one will be created."
   ]
  },
  {
   "cell_type": "markdown",
   "id": "c3f8aca4-e447-45f4-8066-d026b856ef0c",
   "metadata": {},
   "source": [
    "8. How do you tell the difference between read() and readlines()?"
   ]
  },
  {
   "cell_type": "markdown",
   "id": "7eff3c14-a60e-45f0-9e23-7cf524cab0dd",
   "metadata": {},
   "source": [
    "Ans: The main difference is that read() will read the whole file at once and then print out the first characters that take up as many bytes as you specify in the parenthesis\n",
    "\n",
    "* Whereas the readline() that will read and print out only the first characters that take up as many bytes as you specify in the parenthesis. You may want to use readline() when you're reading files that are too big for your RAM.\n",
    "* The read() would treat each character in the file separately, meaning that the iteration would happen for every character.\n",
    "* The readline() function, on the other hand, only reads a single line of the file. This means that if the first line of the file were three lines long, the readline() function would only parse (or iterate/operate) on the first line of the file."
   ]
  },
  {
   "cell_type": "markdown",
   "id": "f486edc5-a9ee-4771-8679-6df04d36760f",
   "metadata": {},
   "source": [
    "9. What data structure does a shelf value resemble?"
   ]
  },
  {
   "cell_type": "markdown",
   "id": "c5fdb831-95fd-4dfb-b1d1-4c9776aa9c25",
   "metadata": {},
   "source": [
    "Ans: it contains key and values it represents dictionary."
   ]
  },
  {
   "cell_type": "code",
   "execution_count": null,
   "id": "a52259d1-bdc1-4543-8295-d67b9603f471",
   "metadata": {},
   "outputs": [],
   "source": []
  }
 ],
 "metadata": {
  "kernelspec": {
   "display_name": "Python 3 (ipykernel)",
   "language": "python",
   "name": "python3"
  },
  "language_info": {
   "codemirror_mode": {
    "name": "ipython",
    "version": 3
   },
   "file_extension": ".py",
   "mimetype": "text/x-python",
   "name": "python",
   "nbconvert_exporter": "python",
   "pygments_lexer": "ipython3",
   "version": "3.10.6"
  }
 },
 "nbformat": 4,
 "nbformat_minor": 5
}
