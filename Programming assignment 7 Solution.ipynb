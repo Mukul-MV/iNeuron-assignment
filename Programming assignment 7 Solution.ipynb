{
 "cells": [
  {
   "cell_type": "markdown",
   "id": "83b02d03",
   "metadata": {},
   "source": [
    "1. Write a Python Program to find sum of array?\n",
    "2. Write a Python Program to find largest element in an array?\n",
    "3. Write a Python Program for array rotation?\n",
    "4. Write a Python Program to Split the array and add the first part to the end?\n",
    "5. Write a Python Program to check if given array is Monotonic?"
   ]
  },
  {
   "cell_type": "code",
   "execution_count": 1,
   "id": "c2cb275a",
   "metadata": {},
   "outputs": [
    {
     "name": "stdout",
     "output_type": "stream",
     "text": [
      "enter array 9 8 7 4\n"
     ]
    }
   ],
   "source": [
    "a = list(map(int,input(\"enter array \").strip().split()))"
   ]
  },
  {
   "cell_type": "code",
   "execution_count": 2,
   "id": "128615a9",
   "metadata": {},
   "outputs": [],
   "source": [
    "def sum_array(a):\n",
    "    z=0\n",
    "    for i in a:\n",
    "        z +=i\n",
    "    print(z)"
   ]
  },
  {
   "cell_type": "code",
   "execution_count": 3,
   "id": "71df38e1",
   "metadata": {},
   "outputs": [
    {
     "name": "stdout",
     "output_type": "stream",
     "text": [
      "28\n"
     ]
    }
   ],
   "source": [
    "sum_array(a)"
   ]
  },
  {
   "cell_type": "code",
   "execution_count": 4,
   "id": "609d6ce6",
   "metadata": {},
   "outputs": [],
   "source": [
    "def largest(a):\n",
    "    print(max(a))\n",
    "    "
   ]
  },
  {
   "cell_type": "code",
   "execution_count": 5,
   "id": "0d249935",
   "metadata": {},
   "outputs": [
    {
     "name": "stdout",
     "output_type": "stream",
     "text": [
      "9\n"
     ]
    }
   ],
   "source": [
    "largest(a)"
   ]
  },
  {
   "cell_type": "code",
   "execution_count": 6,
   "id": "8e2893b5",
   "metadata": {},
   "outputs": [],
   "source": [
    "def array_rotation(a):\n",
    "    print(a[::-1])"
   ]
  },
  {
   "cell_type": "code",
   "execution_count": 7,
   "id": "4514e031",
   "metadata": {},
   "outputs": [
    {
     "name": "stdout",
     "output_type": "stream",
     "text": [
      "[4, 7, 8, 9]\n"
     ]
    }
   ],
   "source": [
    "array_rotation(a)"
   ]
  },
  {
   "cell_type": "code",
   "execution_count": 8,
   "id": "33a90092",
   "metadata": {},
   "outputs": [],
   "source": [
    "def split_add(a,k):\n",
    "    b = a[k:]+a[:k]\n",
    "    print(b)"
   ]
  },
  {
   "cell_type": "code",
   "execution_count": 9,
   "id": "535cee17",
   "metadata": {},
   "outputs": [
    {
     "name": "stdout",
     "output_type": "stream",
     "text": [
      "[8, 7, 4, 9]\n"
     ]
    }
   ],
   "source": [
    "split_add(a,1)"
   ]
  },
  {
   "cell_type": "code",
   "execution_count": 11,
   "id": "7b88b25f",
   "metadata": {},
   "outputs": [],
   "source": [
    "def check_array_monotonic(a):\n",
    "    b = a[:]\n",
    "    b.sort()\n",
    "    c = a[:]\n",
    "    c.sort(reverse=True)\n",
    "    if (b == a) or (c==a):\n",
    "        print(\"True\")\n",
    "    else:\n",
    "        print(\"false\")"
   ]
  },
  {
   "cell_type": "code",
   "execution_count": 12,
   "id": "656647dc",
   "metadata": {},
   "outputs": [
    {
     "name": "stdout",
     "output_type": "stream",
     "text": [
      "True\n"
     ]
    }
   ],
   "source": [
    "check_array_monotonic(a)"
   ]
  },
  {
   "cell_type": "code",
   "execution_count": null,
   "id": "7fa56995",
   "metadata": {},
   "outputs": [],
   "source": []
  }
 ],
 "metadata": {
  "kernelspec": {
   "display_name": "Python 3 (ipykernel)",
   "language": "python",
   "name": "python3"
  },
  "language_info": {
   "codemirror_mode": {
    "name": "ipython",
    "version": 3
   },
   "file_extension": ".py",
   "mimetype": "text/x-python",
   "name": "python",
   "nbconvert_exporter": "python",
   "pygments_lexer": "ipython3",
   "version": "3.9.7"
  }
 },
 "nbformat": 4,
 "nbformat_minor": 5
}
