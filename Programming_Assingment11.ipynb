{
 "cells": [
  {
   "cell_type": "markdown",
   "id": "81bf39ec-6613-437e-8d6e-b9d54f2bbd9f",
   "metadata": {},
   "source": [
    "1. Write a Python program to find words which are greater than given length k?"
   ]
  },
  {
   "cell_type": "code",
   "execution_count": 38,
   "id": "f5728eab-52b9-4d7e-bff4-865903c1ad22",
   "metadata": {},
   "outputs": [
    {
     "data": {
      "text/plain": [
       "['program', 'greater']"
      ]
     },
     "execution_count": 38,
     "metadata": {},
     "output_type": "execute_result"
    }
   ],
   "source": [
    "def lenght_k_word(x,k):\n",
    "    final  = []\n",
    "    s = x.split()\n",
    "    for i in s:\n",
    "        if len(i)>k:\n",
    "            final.append(i)\n",
    "    \n",
    "    return final\n",
    "            \n",
    "\n",
    "q = \"write a python program to find words which are greater than given lenght k\"\n",
    "\n",
    "k = 6\n",
    "\n",
    "lenght_k_word(q,k)"
   ]
  },
  {
   "cell_type": "markdown",
   "id": "82224e00-1d90-431d-8449-0bf8bc4cdfde",
   "metadata": {},
   "source": [
    "2. Write a Python program for removing i-th character from a string?"
   ]
  },
  {
   "cell_type": "code",
   "execution_count": 43,
   "id": "aa14d54e-0428-45a1-803e-1a81ea4c5868",
   "metadata": {},
   "outputs": [
    {
     "data": {
      "text/plain": [
       "'Hello, orld!'"
      ]
     },
     "execution_count": 43,
     "metadata": {},
     "output_type": "execute_result"
    }
   ],
   "source": [
    "def remove_character(string, i):\n",
    "    if i < 0 or i >= len(string):\n",
    "        return string\n",
    "    \n",
    "    return string[:i]+string[i+1:]\n",
    "\n",
    "\n",
    "string = \"Hello, World!\"\n",
    "i = 7\n",
    "remove_character(string, i)"
   ]
  },
  {
   "cell_type": "markdown",
   "id": "984e1e46-4162-48ad-89d2-81a62767b9fd",
   "metadata": {},
   "source": [
    "3. Write a Python program to split and join a string?"
   ]
  },
  {
   "cell_type": "code",
   "execution_count": 50,
   "id": "aacae92d-7f55-4fbd-92cd-ea6be4b1c21f",
   "metadata": {},
   "outputs": [
    {
     "data": {
      "text/plain": [
       "['3. Write a Pyt', 'hon pro', 'gram to split and', ' join ', 'a st']"
      ]
     },
     "execution_count": 50,
     "metadata": {},
     "output_type": "execute_result"
    }
   ],
   "source": [
    "def split(string, q):\n",
    "    \n",
    "    final = []\n",
    "    s = \"\"\n",
    "    for i in string:\n",
    "        \n",
    "        if i==q:\n",
    "            final.append(s)\n",
    "            s=\"\"\n",
    "        else:\n",
    "            s += i\n",
    "    return final\n",
    "\n",
    "\n",
    "q = \"3. Write a Pyt@hon pro@gram to split and@ join @a st@ring?\"\n",
    "\n",
    "split(q,\"@\")    "
   ]
  },
  {
   "cell_type": "code",
   "execution_count": 51,
   "id": "63fa7dbc-4961-4dfb-8152-f7362fbbd4e5",
   "metadata": {},
   "outputs": [],
   "source": [
    "lst = split(q,\"@\") "
   ]
  },
  {
   "cell_type": "code",
   "execution_count": 52,
   "id": "b3263019-6f96-4082-8f8d-8850d4237e38",
   "metadata": {},
   "outputs": [
    {
     "data": {
      "text/plain": [
       "'3. Write a Pyt@hon pro@gram to split and@ join @a st'"
      ]
     },
     "execution_count": 52,
     "metadata": {},
     "output_type": "execute_result"
    }
   ],
   "source": [
    "def join(lst,q):\n",
    "    s = lst[0]\n",
    "    for i in lst[1:]:\n",
    "        s = s+q+i\n",
    "    return s\n",
    "\n",
    "join(lst,\"@\")"
   ]
  },
  {
   "cell_type": "markdown",
   "id": "2785bf18-9b34-447b-b1a8-72ecaffc5f6e",
   "metadata": {},
   "source": [
    "4. Write a Python to check if a given string is binary string or not?"
   ]
  },
  {
   "cell_type": "code",
   "execution_count": 61,
   "id": "55edacaf-dc10-4f06-a42c-0003f03857cd",
   "metadata": {},
   "outputs": [
    {
     "data": {
      "text/plain": [
       "True"
      ]
     },
     "execution_count": 61,
     "metadata": {},
     "output_type": "execute_result"
    }
   ],
   "source": [
    "def check_binary(string):\n",
    "    \n",
    "    for i in string:\n",
    "        if ((i!='0') and (i!='1')):\n",
    "            return False\n",
    "        \n",
    "    return True\n",
    "        \n",
    "q = \"01010100010000011010\"\n",
    "q2 = \"10100101023546120\"\n",
    "check_binary(q)"
   ]
  },
  {
   "cell_type": "code",
   "execution_count": 62,
   "id": "700dfd9b-8d7d-498d-aad8-ee8e98ac474d",
   "metadata": {},
   "outputs": [
    {
     "data": {
      "text/plain": [
       "False"
      ]
     },
     "execution_count": 62,
     "metadata": {},
     "output_type": "execute_result"
    }
   ],
   "source": [
    "check_binary(q2)"
   ]
  },
  {
   "cell_type": "markdown",
   "id": "ca2abd0c-208a-4f44-97ca-a52bfea8d8f0",
   "metadata": {},
   "source": [
    "5. Write a Python program to find uncommon words from two Strings?"
   ]
  },
  {
   "cell_type": "code",
   "execution_count": 9,
   "id": "4b434ada-6f08-426a-b032-83080d6b450c",
   "metadata": {},
   "outputs": [
    {
     "data": {
      "text/plain": [
       "['has', 'completed', '5', 'still', 'need', 'to', 'complete', '60']"
      ]
     },
     "execution_count": 9,
     "metadata": {},
     "output_type": "execute_result"
    }
   ],
   "source": [
    "def uncommon_word(s1,s2):\n",
    "    s1 = s1.split()\n",
    "    s2 = s2.split()\n",
    "    s = []\n",
    "    for i in s1:\n",
    "        if i not in s2:\n",
    "            s.append(i)\n",
    "        else:\n",
    "            s2.remove(i)\n",
    "    s = s + s2        \n",
    "    return s\n",
    "\n",
    "q1 = \"Mukul vyas has completed assigment 5\"\n",
    "\n",
    "q2 = \"Mukul vyas still need to complete 60 assigment\"\n",
    "\n",
    "uncommon_word(q1,q2)            "
   ]
  },
  {
   "cell_type": "markdown",
   "id": "f7b5a340-9593-4513-8f95-1ed36678390c",
   "metadata": {},
   "source": [
    "6. Write a Python to find all duplicate characters in string?"
   ]
  },
  {
   "cell_type": "code",
   "execution_count": 19,
   "id": "cda57e70-b321-4ea0-8946-a4e7dbe566f7",
   "metadata": {},
   "outputs": [
    {
     "data": {
      "text/plain": [
       "['u', 'l', ' ', 'a', 's', 'm', 'e', 't']"
      ]
     },
     "execution_count": 19,
     "metadata": {},
     "output_type": "execute_result"
    }
   ],
   "source": [
    "def duplicate_chr(s):\n",
    "    d = {}\n",
    "    f = []\n",
    "    for i in s:\n",
    "        if i not in d.keys():\n",
    "            d[i] = 1\n",
    "        else:\n",
    "            d[i] +=1\n",
    "    for i in d.keys():\n",
    "        if d[i]>1:\n",
    "            f.append(i)\n",
    "            \n",
    "    return f\n",
    "duplicate_chr(q1)"
   ]
  },
  {
   "cell_type": "markdown",
   "id": "f5dedfa6-478e-4f36-a19d-78692f8664f2",
   "metadata": {},
   "source": [
    "7. Write a Python Program to check if a string contains any special character?"
   ]
  },
  {
   "cell_type": "code",
   "execution_count": 20,
   "id": "c373c0a6-faa6-4779-b925-6e944a05e910",
   "metadata": {},
   "outputs": [
    {
     "name": "stdout",
     "output_type": "stream",
     "text": [
      "The string contains special characters.\n"
     ]
    }
   ],
   "source": [
    "import re\n",
    "\n",
    "def contains_special_characters(string):\n",
    "   \n",
    "    pattern = r'[!@#$%^&*(),.?\":{}|<>]'    \n",
    "    match = re.search(pattern, string)\n",
    "    \n",
    "    return match is not None\n",
    "\n",
    "\n",
    "string = \"Hello, World!\"\n",
    "if contains_special_characters(string):\n",
    "    print(\"The string contains special characters.\")\n",
    "else:\n",
    "    print(\"The string does not contain special characters.\")\n"
   ]
  },
  {
   "cell_type": "code",
   "execution_count": null,
   "id": "9c6488fd-2ebb-46b7-ba5b-6758834653ee",
   "metadata": {},
   "outputs": [],
   "source": []
  }
 ],
 "metadata": {
  "kernelspec": {
   "display_name": "Python 3 (ipykernel)",
   "language": "python",
   "name": "python3"
  },
  "language_info": {
   "codemirror_mode": {
    "name": "ipython",
    "version": 3
   },
   "file_extension": ".py",
   "mimetype": "text/x-python",
   "name": "python",
   "nbconvert_exporter": "python",
   "pygments_lexer": "ipython3",
   "version": "3.10.6"
  }
 },
 "nbformat": 4,
 "nbformat_minor": 5
}
